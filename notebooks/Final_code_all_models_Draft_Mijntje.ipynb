{
  "cells": [
    {
      "cell_type": "code",
      "execution_count": null,
      "metadata": {
        "id": "g6ACukS_VYoK"
      },
      "outputs": [],
      "source": []
    },
    {
      "cell_type": "markdown",
      "metadata": {
        "id": "roUMVnZxF1Yk"
      },
      "source": [
        "#Common functions for all models"
      ]
    },
    {
      "cell_type": "markdown",
      "metadata": {
        "id": "e0YMLS_IF6yS"
      },
      "source": [
        "### Installing Packages & Importing Libraries"
      ]
    },
    {
      "cell_type": "code",
      "execution_count": null,
      "metadata": {
        "colab": {
          "base_uri": "https://localhost:8080/"
        },
        "id": "uNd1w4tXAzr3",
        "outputId": "d92415d6-598f-4631-9276-02a906a51f2d"
      },
      "outputs": [
        {
          "output_type": "stream",
          "name": "stdout",
          "text": [
            "Requirement already satisfied: pyreadstat in /usr/local/lib/python3.10/dist-packages (1.2.7)\n",
            "Requirement already satisfied: pandas>=1.2.0 in /usr/local/lib/python3.10/dist-packages (from pyreadstat) (2.0.3)\n",
            "Requirement already satisfied: python-dateutil>=2.8.2 in /usr/local/lib/python3.10/dist-packages (from pandas>=1.2.0->pyreadstat) (2.9.0.post0)\n",
            "Requirement already satisfied: pytz>=2020.1 in /usr/local/lib/python3.10/dist-packages (from pandas>=1.2.0->pyreadstat) (2024.1)\n",
            "Requirement already satisfied: tzdata>=2022.1 in /usr/local/lib/python3.10/dist-packages (from pandas>=1.2.0->pyreadstat) (2024.1)\n",
            "Requirement already satisfied: numpy>=1.21.0 in /usr/local/lib/python3.10/dist-packages (from pandas>=1.2.0->pyreadstat) (1.25.2)\n",
            "Requirement already satisfied: six>=1.5 in /usr/local/lib/python3.10/dist-packages (from python-dateutil>=2.8.2->pandas>=1.2.0->pyreadstat) (1.16.0)\n"
          ]
        }
      ],
      "source": [
        "!pip install pyreadstat"
      ]
    },
    {
      "cell_type": "code",
      "execution_count": null,
      "metadata": {
        "id": "iMbo1Nd-F7ds"
      },
      "outputs": [],
      "source": [
        "import pandas as pd\n",
        "import numpy as np\n",
        "import torch\n",
        "import torch.nn.functional as F\n",
        "import transformers\n",
        "\n",
        "import matplotlib.pyplot as plt\n",
        "import seaborn as sns\n",
        "\n",
        "from tqdm import tqdm\n",
        "from transformers import AutoTokenizer,AutoModelForCausalLM\n",
        "from transformers import GPT2Tokenizer, GPT2LMHeadModel\n",
        "from sklearn.metrics import mean_absolute_error, mean_squared_error\n",
        "from scipy.stats import pearsonr"
      ]
    },
    {
      "cell_type": "code",
      "execution_count": null,
      "metadata": {
        "id": "cKPwv-V_XZaV",
        "colab": {
          "base_uri": "https://localhost:8080/"
        },
        "outputId": "775c4a78-9535-4885-c216-6c2a714ae38d"
      },
      "outputs": [
        {
          "output_type": "stream",
          "name": "stdout",
          "text": [
            "Drive already mounted at /content/drive; to attempt to forcibly remount, call drive.mount(\"/content/drive\", force_remount=True).\n"
          ]
        }
      ],
      "source": [
        "from google.colab import drive\n",
        "drive.mount('/content/drive')"
      ]
    },
    {
      "cell_type": "markdown",
      "metadata": {
        "id": "K6-0jkmYGucL"
      },
      "source": [
        "### Functions for WVS Dataset"
      ]
    },
    {
      "cell_type": "code",
      "execution_count": null,
      "metadata": {
        "id": "Fr7Fn5sbGu_g"
      },
      "outputs": [],
      "source": [
        "#Loading the WVS file and storing it in a dataframe format\n",
        "\n",
        "def get_wvs_df():\n",
        "    wvs_df = pd.read_csv('/content/drive/MyDrive/MSc Applied Data Science/ADS thesis/WVS_Moral.csv') #WVS_Moral is a subset of the full data for just the moral questions\n",
        "    wvs_df_country_names = pd.read_csv('/content/drive/MyDrive/MSc Applied Data Science/ADS thesis/Country_Codes_Names-correct.csv')\n",
        "    wvs_df = wvs_df.set_index('B_COUNTRY').join(wvs_df_country_names.set_index('B_COUNTRY'), how='left')\n",
        "    return wvs_df"
      ]
    },
    {
      "cell_type": "code",
      "execution_count": null,
      "metadata": {
        "id": "MUE0vGtNGxZZ"
      },
      "outputs": [],
      "source": [
        "#Listing all the countries we are gonna use in our study from the WVS dataset\n",
        "\n",
        "COUNTRIES_WVS_W7_ALL = [\n",
        "    'Andorra', 'Argentina', 'Armenia', 'Australia', 'Bangladesh', 'Bolivia', 'Brazil', 'Canada',\n",
        "    'Chile', 'China', 'Colombia', 'Cyprus', 'Ecuador', 'Egypt', 'Ethiopia', 'Germany', 'Greece',\n",
        "    'Guatemala', 'Indonesia', 'Iran', 'Iraq', 'Japan', 'Jordan', 'Kazakhstan', 'Kenya',\n",
        "    'Kyrgyzstan', 'Lebanon', 'Libya', 'Malaysia', 'Maldives', 'Mexico', 'Mongolia', 'Morocco',\n",
        "    'Myanmar', 'Netherlands', 'New Zealand', 'Nicaragua', 'Nigeria', 'Pakistan', 'Peru',\n",
        "    'Philippines', 'Romania', 'Russia', 'Singapore', 'South Korea', 'Taiwan ROC', 'Tajikistan',\n",
        "    'Thailand', 'Tunisia', 'Turkey', 'Ukraine', 'United States', 'Venezuela',\n",
        "    'Vietnam', 'Zimbabwe'\n",
        "]\n",
        "\n",
        "# COUNTRIES_WVS_W7_ALL = [\n",
        "#     'Andorra', 'Argentina', 'Armenia', 'Australia', 'Bangladesh', 'Bolivia', 'Cyprus', 'Ethiopia', 'Germany', 'Greece',\n",
        "#     'Guatemala', 'Indonesia', 'Iran', 'Iraq', 'Japan', 'Jordan', 'Kazakhstan', 'Kenya',\n",
        "#     'Kyrgyzstan', 'Lebanon', 'Libya', 'Malaysia', 'Maldives', 'Mongolia', 'Morocco',\n",
        "#     'Myanmar', 'Netherlands', 'New Zealand', 'Nicaragua', 'Nigeria', 'Pakistan', 'Peru',\n",
        "#     'Philippines', 'Romania', 'Russia', 'Singapore', 'South Korea', 'Taiwan ROC', 'Tajikistan',\n",
        "#     'Thailand', 'Tunisia', 'Turkey', 'Ukraine', 'United States', 'Venezuela',\n",
        "#     'Vietnam', 'Zimbabwe'\n",
        "# ]"
      ]
    },
    {
      "cell_type": "code",
      "execution_count": null,
      "metadata": {
        "id": "jBm5455PHDsB"
      },
      "outputs": [],
      "source": [
        "#Creating the questions for the WVS dataset\n",
        "\n",
        "W7_QUESTIONS = ['Q'+str(i) for i in range(177, 196)]\n",
        "\n",
        "W7_QUESTIONS_TEXT = ['claiming government benefits to which you are not entitled',\n",
        "                     'avoiding a fare on public transport',\n",
        "                     'stealing property',\n",
        "                     'cheating on taxes',\n",
        "                     'someone accepting a bribe in the course of their duties',\n",
        "                     'homosexuality',\n",
        "                     'prostitution',\n",
        "                     'abortion',\n",
        "                     'divorce',\n",
        "                     'sex before marriage',\n",
        "                     'suicide',\n",
        "                     'euthanasia',\n",
        "                     'for a man to beat his wife',\n",
        "                     'parents beating children',\n",
        "                     'violence against other people',\n",
        "                     'terrorism as a political, ideological or religious mean',\n",
        "                     'having casual sex',\n",
        "                     'political violence',\n",
        "                     'death penalty']\n",
        "\n",
        "QUESTION_WAVES_WVS = {7: (W7_QUESTIONS, W7_QUESTIONS_TEXT)}"
      ]
    },
    {
      "cell_type": "code",
      "execution_count": null,
      "metadata": {
        "id": "LV_014_lHXLC"
      },
      "outputs": [],
      "source": [
        "#Scaling the survey results between -1 and 1 and calculating the mean rating for a every survey question and culture\n",
        "\n",
        "MINUS = 5.5\n",
        "DIVIDE = 4.5\n",
        "\n",
        "def get_wvs_ratings(wvs_df, culture, q):\n",
        "    df = wvs_df[['Country_Names', q]]\n",
        "    df = df.loc[df['Country_Names'] == culture]\n",
        "    if len(df) == 0:\n",
        "        return None\n",
        "\n",
        "    ratings = df.loc[df[q] > 0][q]\n",
        "    if ratings.empty:\n",
        "        ratings = 0\n",
        "    else:\n",
        "      ratings = ((ratings - MINUS) / DIVIDE).mean()\n",
        "    return ratings"
      ]
    },
    {
      "cell_type": "code",
      "execution_count": null,
      "metadata": {
        "id": "H3Nfbz0THpPe"
      },
      "outputs": [],
      "source": [
        "#Generating the WVS prompts\n",
        "\n",
        "def wvs_gpt2_prompts_ratings_multiple_tokens(wvs_df:pd.DataFrame, culture ='', prompt_mode ='in', wave = 7, ):\n",
        "    prompts = {}\n",
        "    culture_prompt = ''\n",
        "    if len(culture) > 0:\n",
        "        if prompt_mode == 'in':\n",
        "            print(\"The token used is IN\")\n",
        "            culture_prompt = f'In {culture} '\n",
        "        elif prompt_mode == 'people':\n",
        "            print(\"The token used is PEOPLE\")\n",
        "            culture_prompt = f'People in {culture} believe '\n",
        "\n",
        "    questions, questions_text = QUESTION_WAVES_WVS[wave]\n",
        "\n",
        "    for q,q_text in zip(questions, questions_text):\n",
        "        rating_answers = get_wvs_ratings(wvs_df, culture, q) #getting the original ratings\n",
        "\n",
        "        prompts[q_text] = []\n",
        "        for (prompt_head_moral, prompt_head_nonmoral) in TOKEN_PAIRS:\n",
        "            prompt_moral = f'{culture_prompt}{q_text} is {prompt_head_moral}.'\n",
        "            prompt_nonmoral = f'{culture_prompt}{q_text} is {prompt_head_nonmoral}.'\n",
        "\n",
        "            prompts[q_text].append((prompt_moral, prompt_nonmoral,rating_answers))\n",
        "\n",
        "    return prompts"
      ]
    },
    {
      "cell_type": "markdown",
      "metadata": {
        "id": "trRrPYkqHq82"
      },
      "source": [
        "### Functions for PEW Dataset"
      ]
    },
    {
      "cell_type": "code",
      "execution_count": null,
      "metadata": {
        "id": "x73_wwe7Hs1o"
      },
      "outputs": [],
      "source": [
        "#Loading the PEW file, pre-processing it and storing it in a dataframe\n",
        "\n",
        "def get_pew_df():\n",
        "    pew_data_original = pd.read_spss('/content/drive/MyDrive/MSc Applied Data Science/ADS thesis/Pew Research Global Attitudes Project Spring 2013 Dataset for web.sav')\n",
        "\n",
        "    filtered_columns = pew_data_original.filter(regex='^Q84[A-H]|COUNTRY').copy()\n",
        "\n",
        "    filtered_columns.rename(columns={'COUNTRY': 'Country_Names'}, inplace=True)\n",
        "\n",
        "    replace_map = {\n",
        "        'Morally acceptable': 1,\n",
        "        'Not a moral issue': 0,\n",
        "        'Morally unacceptable': -1,\n",
        "        'Depends on situation (Volunteered)': 0,\n",
        "        'Refused': 0,\n",
        "        \"Don't know\": 0\n",
        "    }\n",
        "\n",
        "    filtered_columns.replace(replace_map, inplace=True)\n",
        "\n",
        "    for col in filtered_columns.columns[1:]:\n",
        "        filtered_columns[col] = pd.to_numeric(filtered_columns[col], errors='coerce')\n",
        "\n",
        "    return filtered_columns"
      ]
    },
    {
      "cell_type": "code",
      "execution_count": null,
      "metadata": {
        "id": "e9jI844nI-jr"
      },
      "outputs": [],
      "source": [
        "#Listing all the countries we are gonna use in our study from the PEW dataset\n",
        "\n",
        "COUNTRIES_PEW_ALL = [\n",
        "    'United States', 'Czech Republic', 'South Korea', 'Canada', 'France', 'Germany',\n",
        "    'Spain', 'Mexico', 'Chile', 'Australia', 'Russia', 'Britain', 'Turkey', 'Greece',\n",
        "    'Egypt', 'Poland', 'Senegal', 'Italy', 'Brazil', 'Lebanon', 'Nigeria', 'Japan',\n",
        "    'Malaysia', 'Kenya', 'Indonesia', 'Uganda', 'Jordan', 'Argentina', 'Philippines',\n",
        "    'Tunisia', 'China', 'Pakistan', 'Ghana', 'South Africa', 'Palestinian territories',\n",
        "    'Israel', 'Bolivia', 'Venezuela', 'El Salvador'\n",
        "]"
      ]
    },
    {
      "cell_type": "code",
      "execution_count": null,
      "metadata": {
        "id": "5Kdml1PIJIYm"
      },
      "outputs": [],
      "source": [
        "#Creating the questions for the PEW dataset\n",
        "\n",
        "PEW_QUESTIONS = ['Q84' + chr(i) for i in range(ord('A'), ord('H')+1)]\n",
        "\n",
        "PEW_QUESTIONS_TEXT = ['using contraceptives',\n",
        "                      'getting a divorce',\n",
        "                      'having an abortion',\n",
        "                      'homosexuality',\n",
        "                      'drinking alcohol',\n",
        "                      'married people having an affair',\n",
        "                      'gambling',\n",
        "                      'sex between unmarried adults']\n",
        "\n",
        "QUESTION_WAVES_PEW = {13: (PEW_QUESTIONS, PEW_QUESTIONS_TEXT)}"
      ]
    },
    {
      "cell_type": "code",
      "execution_count": null,
      "metadata": {
        "id": "RgRKrgYvSa_X"
      },
      "outputs": [],
      "source": [
        "#Calculating the mean rating for a every question and culture\n",
        "\n",
        "def get_pew_ratings(pew_df, culture, q):\n",
        "    df = pew_df[['Country_Names', q]]\n",
        "    df = df.loc[df['Country_Names'] == culture]\n",
        "    if df.empty:\n",
        "        print(\"No data found for culture:\", culture)\n",
        "        return None\n",
        "\n",
        "    mean_rating = df[q].mean()\n",
        "\n",
        "    if pd.isna(mean_rating):\n",
        "        print(\"Problem: Mean calculation resulted in NaN for culture:\", culture)\n",
        "        return None\n",
        "\n",
        "    return mean_rating"
      ]
    },
    {
      "cell_type": "code",
      "execution_count": null,
      "metadata": {
        "id": "SrdP-lBHSbDE"
      },
      "outputs": [],
      "source": [
        "#Generating the PEW prompts\n",
        "\n",
        "def pew_gpt2_prompts_ratings_multiple_tokens(pew_df:pd.DataFrame, culture ='', prompt_mode ='in', wave = 13, ):\n",
        "    prompts = {}\n",
        "    culture_prompt = ''\n",
        "    if len(culture) > 0:\n",
        "        if prompt_mode == 'in':\n",
        "            culture_prompt = f'In {culture} '\n",
        "            print(\"Inside IN\")\n",
        "        elif prompt_mode == 'people':\n",
        "            culture_prompt = f'People in {culture} believe '\n",
        "            print(\"Inside PEOPLE\")\n",
        "\n",
        "    questions, questions_text = QUESTION_WAVES_PEW[wave]\n",
        "\n",
        "    for q,q_text in zip(questions, questions_text):\n",
        "        rating_answers = get_pew_ratings(pew_df, culture, q) #getting the original ratings\n",
        "\n",
        "        prompts[q_text] = []\n",
        "        for (prompt_head_moral, prompt_head_nonmoral) in TOKEN_PAIRS:\n",
        "            prompt_moral = f'{culture_prompt}{q_text} is {prompt_head_moral}.'\n",
        "            prompt_nonmoral = f'{culture_prompt}{q_text} is {prompt_head_nonmoral}.'\n",
        "\n",
        "            prompts[q_text].append((prompt_moral, prompt_nonmoral,rating_answers))\n",
        "\n",
        "    return prompts"
      ]
    },
    {
      "cell_type": "markdown",
      "metadata": {
        "id": "0Ay6F1FPdPZZ"
      },
      "source": [
        "## Other functions"
      ]
    },
    {
      "cell_type": "markdown",
      "metadata": {
        "id": "SClE4R6mmJLm"
      },
      "source": [
        "### normalize_log_prob_diffs() and calculate_correlation()"
      ]
    },
    {
      "cell_type": "code",
      "execution_count": null,
      "metadata": {
        "id": "hCKDxhlSmJUX"
      },
      "outputs": [],
      "source": [
        "#Normalizing the log probability differences in a scale between -1 and 1\n",
        "\n",
        "def normalize_log_prob_diffs(log_prob_diffs):\n",
        "    min_log_prob = np.min(log_prob_diffs)\n",
        "    max_log_prob = np.max(log_prob_diffs)\n",
        "    normalized_log_probs = 2 * (log_prob_diffs - min_log_prob) / (max_log_prob - min_log_prob) - 1\n",
        "    return normalized_log_probs\n",
        "\n",
        "#Calculating the Pearson correlation between model and survey scores\n",
        "\n",
        "def calculate_correlation(survey_scores, log_prob_diffs):\n",
        "  if len(survey_scores) != len(log_prob_diffs):\n",
        "      print(f\"Error: Mismatched lengths. Survey scores length: {len(survey_scores)}, Log prob diffs length: {len(log_prob_diffs)}\")\n",
        "      return None, None, None\n",
        "\n",
        "  normalized_log_probs = normalize_log_prob_diffs(log_prob_diffs)\n",
        "  try:\n",
        "        correlation, p_value = pearsonr(survey_scores, normalized_log_probs)\n",
        "  except Exception as e:\n",
        "        print(\"Error during correlation calculation:\", e)\n",
        "        return None, None, None\n",
        "  return correlation, normalized_log_probs, p_value"
      ]
    },
    {
      "cell_type": "markdown",
      "metadata": {
        "id": "NaeQRYO4kV2s"
      },
      "source": [
        "### get_batch_last_token_log_prob() function"
      ]
    },
    {
      "cell_type": "code",
      "execution_count": null,
      "metadata": {
        "id": "bunjLFpIkWAp"
      },
      "outputs": [],
      "source": [
        "#Calculating the log probabilities of each of the 2 tokens\n",
        "\n",
        "def get_batch_last_token_log_prob(lines, model, tokenizer, use_cuda=False, end_with_period=True):\n",
        "    eos_token = tokenizer.eos_token or tokenizer.sep_token\n",
        "    if eos_token is None:\n",
        "        raise ValueError(\"Neither eos_token nor sep_token is set in the tokenizer.\")\n",
        "\n",
        "    lines = [line + eos_token for line in lines]  #Appending EOS to the end of each line\n",
        "\n",
        "    tokenizer.pad_token = tokenizer.eos_token\n",
        "\n",
        "    tok_moral = tokenizer.batch_encode_plus(lines, return_tensors='pt', padding='longest', add_special_tokens=True)\n",
        "    input_ids = tok_moral['input_ids']\n",
        "    attention_mask = tok_moral['attention_mask']\n",
        "    lines_len = torch.sum(attention_mask, dim=1)\n",
        "\n",
        "    remove_from_end = 2 if end_with_period else 1  #If there is a period remove it as well as the EOS token else remove only the EOS token\n",
        "    tokens_wanted = lines_len - remove_from_end\n",
        "\n",
        "    if use_cuda:\n",
        "        device = next(model.parameters()).device\n",
        "        input_ids = input_ids.to(device)\n",
        "        attention_mask = attention_mask.to(device)\n",
        "        torch.cuda.empty_cache()\n",
        "\n",
        "    with torch.no_grad():\n",
        "        outputs = model(input_ids=input_ids, attention_mask=attention_mask, labels=input_ids, return_dict=True)\n",
        "        logits = outputs.logits\n",
        "        if use_cuda:\n",
        "            logits = logits.detach().cpu()\n",
        "\n",
        "    logits_probs = F.log_softmax(logits, dim=-1)\n",
        "\n",
        "    batch_indices = torch.arange(input_ids.size(0))\n",
        "    token_indices = tokens_wanted - 1   #take the index of the token we need. index of 1st element is 0 so we have to do -1\n",
        "    next_token_indices = input_ids[batch_indices, tokens_wanted].cpu()\n",
        "\n",
        "    log_probs = logits_probs[batch_indices, token_indices, next_token_indices]\n",
        "\n",
        "    # for line in lines:\n",
        "    #     print(f\"Processed line: {line}\")\n",
        "\n",
        "    return log_probs"
      ]
    },
    {
      "cell_type": "markdown",
      "metadata": {
        "id": "poNF1tlMkElB"
      },
      "source": [
        "### get_log_prob_difference() function"
      ]
    },
    {
      "cell_type": "code",
      "execution_count": null,
      "metadata": {
        "id": "WjbO0ZH4bkKp"
      },
      "outputs": [],
      "source": [
        "#Calculating the average log probability differences between moral and non-moral prompts\n",
        "\n",
        "def get_log_prob_difference(pairs, moral_index, nonmoral_index, model, tokenizer, use_cuda):\n",
        "    question_average_lm_score = []\n",
        "    average_moral_score = []\n",
        "    average_nonmoral_score = []\n",
        "\n",
        "    all_prompts = []\n",
        "    for rating in pairs:\n",
        "        moral_prompt = rating[moral_index]\n",
        "        nonmoral_prompt = rating[nonmoral_index]\n",
        "        all_prompts.append(moral_prompt)\n",
        "        all_prompts.append(nonmoral_prompt)\n",
        "\n",
        "    logprobs = get_batch_last_token_log_prob(all_prompts, model, tokenizer, use_cuda)\n",
        "\n",
        "    for i in range(0, len(logprobs), 2):\n",
        "        moral_logprob = logprobs[i]\n",
        "        nonmoral_logprob = logprobs[i + 1]\n",
        "        lm_score = moral_logprob - nonmoral_logprob\n",
        "\n",
        "        question_average_lm_score.append(lm_score)\n",
        "        average_moral_score.append(moral_logprob)\n",
        "        average_nonmoral_score.append(nonmoral_logprob)\n",
        "\n",
        "    lm_score = np.mean(question_average_lm_score)\n",
        "    moral_score = np.mean(average_moral_score)\n",
        "    nonmoral_score = np.mean(average_nonmoral_score)\n",
        "\n",
        "    return lm_score, moral_score, nonmoral_score"
      ]
    },
    {
      "cell_type": "markdown",
      "metadata": {
        "id": "jsvE58Gvi2Ev"
      },
      "source": [
        "### compare_token_pair() functions for both datasets"
      ]
    },
    {
      "cell_type": "code",
      "execution_count": null,
      "metadata": {
        "id": "ar6miXzgdGN1"
      },
      "outputs": [],
      "source": [
        "def compare_wvs_token_pairs(model_name, cultures=None, wave=7, excluding_topics=[],\n",
        "                            excluding_cultures=[], model=None, tokenizer=None, use_cuda=False, prompt_mode='in'):\n",
        "\n",
        "    if model is None or tokenizer is None:\n",
        "        tokenizer = transformers.AutoTokenizer.from_pretrained(model_name)\n",
        "        model = transformers.AutoModelForCausalLM.from_pretrained(model_name)\n",
        "        if use_cuda:\n",
        "            model = model.cuda()\n",
        "\n",
        "    wvs_df = get_wvs_df()\n",
        "\n",
        "    results_all = []\n",
        "\n",
        "    for culture in tqdm(cultures):\n",
        "        if culture in excluding_cultures:\n",
        "            continue\n",
        "        prompts = wvs_gpt2_prompts_ratings_multiple_tokens(wvs_df, culture, prompt_mode)\n",
        "\n",
        "        culture_name = culture if culture else 'universal'\n",
        "        for question, rating_pairs in prompts.items():\n",
        "            if any(excluded_topic in question for excluded_topic in excluding_topics):\n",
        "                continue\n",
        "\n",
        "            lm_score, moral_log_probs, nonmoral_log_probs = get_log_prob_difference(rating_pairs, 0, 1, model, tokenizer, use_cuda)\n",
        "\n",
        "            if isinstance(moral_log_probs, torch.Tensor):\n",
        "              moral_log_probs = moral_log_probs.item()\n",
        "            if isinstance(nonmoral_log_probs, torch.Tensor):\n",
        "              nonmoral_log_probs = nonmoral_log_probs.item()\n",
        "            if isinstance(lm_score, torch.Tensor):\n",
        "              lm_score = lm_score.item()\n",
        "\n",
        "            wvs_score = rating_pairs[0][2]  #All token pairs have the same wvs_score\n",
        "\n",
        "            row = {\n",
        "                'country': culture_name, 'topic': question, 'wvs_score': wvs_score,\n",
        "                'moral log prob': moral_log_probs, 'non moral log probs': nonmoral_log_probs,\n",
        "                'log prob difference': lm_score\n",
        "            }\n",
        "\n",
        "            results_all.append(row)\n",
        "\n",
        "    df = pd.DataFrame(results_all)\n",
        "\n",
        "    survey_scores = df['wvs_score'].values\n",
        "    log_prob_diffs = df['log prob difference'].values\n",
        "\n",
        "    correlation, normalized_log_probs, p_value = calculate_correlation(survey_scores, log_prob_diffs)\n",
        "\n",
        "    print(normalized_log_probs)\n",
        "\n",
        "    df['normalized log prob difference'] = normalized_log_probs\n",
        "\n",
        "    metrics = {\n",
        "        'Pearson correlation coefficient': correlation,\n",
        "        'P value': p_value\n",
        "    }\n",
        "\n",
        "    return df, metrics"
      ]
    },
    {
      "cell_type": "code",
      "execution_count": null,
      "metadata": {
        "id": "bzEtJhpZipTq"
      },
      "outputs": [],
      "source": [
        "def compare_pew_token_pairs(model_name, cultures=None, wave=7, excluding_topics=[],\n",
        "                            excluding_cultures=[], model=None, tokenizer=None, use_cuda=False, prompt_mode='in'):\n",
        "\n",
        "    if model is None or tokenizer is None:\n",
        "        tokenizer = transformers.AutoTokenizer.from_pretrained(model_name)\n",
        "        model = transformers.AutoModelForCausalLM.from_pretrained(model_name)\n",
        "        if use_cuda:\n",
        "            model = model.cuda()\n",
        "\n",
        "    pew_df = get_pew_df()\n",
        "\n",
        "    results_all = []\n",
        "\n",
        "    for culture in tqdm(cultures):\n",
        "        if culture in excluding_cultures:\n",
        "            continue\n",
        "        prompts = pew_gpt2_prompts_ratings_multiple_tokens(pew_df, culture, prompt_mode)\n",
        "\n",
        "        culture_name = culture if culture else 'universal'\n",
        "        for question, rating_pairs in prompts.items():\n",
        "            if any(excluded_topic in question for excluded_topic in excluding_topics):\n",
        "                continue\n",
        "\n",
        "            lm_score, moral_log_probs, nonmoral_log_probs = get_log_prob_difference(rating_pairs, 0, 1, model, tokenizer, use_cuda)\n",
        "\n",
        "            if isinstance(moral_log_probs, torch.Tensor):\n",
        "              moral_log_probs = moral_log_probs.item()\n",
        "            if isinstance(nonmoral_log_probs, torch.Tensor):\n",
        "              nonmoral_log_probs = nonmoral_log_probs.item()\n",
        "            if isinstance(lm_score, torch.Tensor):\n",
        "              lm_score = lm_score.item()\n",
        "\n",
        "            pew_score = rating_pairs[0][2]  #All token pairs have the same pew_score\n",
        "\n",
        "            row = {\n",
        "                'country': culture_name, 'topic': question, 'pew_score': pew_score,\n",
        "                'moral log prob': moral_log_probs, 'non moral log probs': nonmoral_log_probs,\n",
        "                'log prob difference': lm_score\n",
        "            }\n",
        "\n",
        "            results_all.append(row)\n",
        "\n",
        "    df = pd.DataFrame(results_all)\n",
        "\n",
        "    survey_scores = df['pew_score'].values\n",
        "    log_prob_diffs = df['log prob difference'].values\n",
        "\n",
        "    correlation, normalized_log_probs, p_value = calculate_correlation(survey_scores, log_prob_diffs)\n",
        "\n",
        "    df['normalized log prob difference'] = normalized_log_probs\n",
        "\n",
        "    metrics = {\n",
        "        'Pearson correlation coefficient': correlation,\n",
        "        'P value': p_value\n",
        "    }\n",
        "\n",
        "    return df, metrics"
      ]
    },
    {
      "cell_type": "markdown",
      "metadata": {
        "id": "5xlVS8564zLO"
      },
      "source": [
        "## Functions only for GPT2 models"
      ]
    },
    {
      "cell_type": "code",
      "execution_count": null,
      "metadata": {
        "id": "jqszHz5n42V6"
      },
      "outputs": [],
      "source": [
        "#Loading the GPT2 model and the tokenizer\n",
        "\n",
        "def get_gpt2_model(modelname = 'gpt2', use_cuda = True, device = 'cuda:0'):  #'gpt2','gpt2-medium','gpt2-large','gpt2-xl'\n",
        "    model = GPT2LMHeadModel.from_pretrained(modelname)\n",
        "    tokenizer = GPT2Tokenizer.from_pretrained(modelname)\n",
        "\n",
        "    if use_cuda and torch.cuda.is_available():\n",
        "        torch.cuda.empty_cache()\n",
        "        device = torch.device(device)\n",
        "        model.cuda(device)\n",
        "\n",
        "    return tokenizer, model"
      ]
    },
    {
      "cell_type": "code",
      "execution_count": null,
      "metadata": {
        "id": "p93y0Jla44Tk"
      },
      "outputs": [],
      "source": [
        "def compare_wvs_token_pairs_gpt2(model_name, cultures=None, wave=7, excluding_topics=[],\n",
        "                                 excluding_cultures=[], model=None, tokenizer=None, use_cuda=False, prompt_mode='in'):\n",
        "\n",
        "    if model is None or tokenizer is None:\n",
        "        tokenizer, model = get_gpt2_model(model_name, use_cuda)\n",
        "\n",
        "    wvs_df = get_wvs_df()\n",
        "\n",
        "    gpt2_all = []\n",
        "\n",
        "    for culture in tqdm(cultures):\n",
        "        if culture in excluding_cultures:\n",
        "            continue\n",
        "        prompts = wvs_gpt2_prompts_ratings_multiple_tokens(wvs_df, culture, prompt_mode)\n",
        "\n",
        "        culture_name = culture if culture else 'universal'\n",
        "        for question, rating_pairs in prompts.items():\n",
        "            if any(excluded_topic in question for excluded_topic in excluding_topics):\n",
        "                continue\n",
        "\n",
        "            lm_score, moral_log_probs, nonmoral_log_probs = get_log_prob_difference(rating_pairs, 0, 1, model, tokenizer, use_cuda)\n",
        "\n",
        "            wvs_score = rating_pairs[0][2]  #All token pairs have the same wvs_score\n",
        "\n",
        "            row = {\n",
        "                'country': culture_name, 'topic': question, 'wvs_score': wvs_score,\n",
        "                'moral log prob': moral_log_probs, 'non moral log probs': nonmoral_log_probs,\n",
        "                'log prob difference': lm_score\n",
        "            }\n",
        "\n",
        "            gpt2_all.append(row)\n",
        "\n",
        "    df = pd.DataFrame(gpt2_all)\n",
        "\n",
        "    survey_scores = df['wvs_score'].values\n",
        "    log_prob_diffs = df['log prob difference'].values\n",
        "\n",
        "    correlation, normalized_log_probs, p_value = calculate_correlation(survey_scores, log_prob_diffs)\n",
        "    if correlation is not None:\n",
        "      print(\"Correlation calculated successfully\")\n",
        "    else:\n",
        "      print(\"Failed to calculate correlation due to data length mismatch\")\n",
        "\n",
        "    df['normalized log prob difference'] = normalized_log_probs\n",
        "\n",
        "    metrics = {\n",
        "        'Pearson correlation coefficient': correlation,\n",
        "        'P value': p_value\n",
        "    }\n",
        "\n",
        "    return df, metrics"
      ]
    },
    {
      "cell_type": "code",
      "execution_count": null,
      "metadata": {
        "id": "vD70Hree8Pyx"
      },
      "outputs": [],
      "source": [
        "def compare_pew_token_pairs_gpt2(cultures=None, wave=7, model_name='gpt2',\n",
        "                                 excluding_topics=[], excluding_cultures=[], model=None, tokenizer=None,\n",
        "                                 use_cuda=False, prompt_mode='in'):\n",
        "    if model is None or tokenizer is None:\n",
        "        tokenizer, model = get_gpt2_model(model_name, use_cuda)\n",
        "\n",
        "    pew_df = get_pew_df()\n",
        "\n",
        "    gpt2_all = []\n",
        "\n",
        "    for culture in tqdm(cultures):\n",
        "        if culture in excluding_cultures:\n",
        "            continue\n",
        "        prompts = pew_gpt2_prompts_ratings_multiple_tokens(pew_df, culture, prompt_mode)\n",
        "\n",
        "        culture_name = culture if culture else 'universal'\n",
        "        for question, rating_pairs in prompts.items():\n",
        "            if any(excluded_topic in question for excluded_topic in excluding_topics):\n",
        "                continue\n",
        "\n",
        "            lm_score, moral_log_probs, nonmoral_log_probs = get_log_prob_difference(rating_pairs, 0, 1, model, tokenizer, use_cuda)\n",
        "\n",
        "            pew_score = rating_pairs[0][2]  #All token pairs have the same pew_score\n",
        "\n",
        "            row = {\n",
        "                'country': culture_name, 'topic': question, 'pew_score': pew_score,\n",
        "                'moral log prob': moral_log_probs, 'non moral log probs': nonmoral_log_probs,\n",
        "                'log prob difference': lm_score\n",
        "            }\n",
        "\n",
        "            gpt2_all.append(row)\n",
        "\n",
        "    df = pd.DataFrame(gpt2_all)\n",
        "\n",
        "    survey_scores = df['pew_score'].values\n",
        "    log_prob_diffs = df['log prob difference'].values\n",
        "\n",
        "    correlation, normalized_log_probs, p_value = calculate_correlation(survey_scores, log_prob_diffs)\n",
        "    if correlation is not None:\n",
        "      print(\"Correlation calculated successfully\")\n",
        "    else:\n",
        "      print(\"Failed to calculate correlation due to data length mismatch\")\n",
        "\n",
        "    df['normalized log prob difference'] = normalized_log_probs\n",
        "\n",
        "    metrics = {\n",
        "        'Pearson correlation coefficient': correlation,\n",
        "        'P value': p_value\n",
        "    }\n",
        "\n",
        "    return df, metrics"
      ]
    },
    {
      "cell_type": "markdown",
      "metadata": {
        "id": "SjMkm4eL3uE2"
      },
      "source": [
        "# Function to create combined df with averaged scores over prompt styles"
      ]
    },
    {
      "cell_type": "code",
      "execution_count": null,
      "metadata": {
        "id": "V-XAVD1-3_FL"
      },
      "outputs": [],
      "source": [
        "def generate_combined_df(df_people, df_in, dataset):\n",
        "\n",
        "  # now create the combined df\n",
        "\n",
        "  #Step 1: Concatenate the DataFrames column-wise\n",
        "  combined_df = pd.concat([df_people, df_in], axis=1)\n",
        "\n",
        "  # Assuming the 'log prob difference' columns have the same name, differentiate them\n",
        "  combined_df.columns = [f'{col}_people' if i < len(df_people.columns) else f'{col}_in' for i, col in enumerate(combined_df.columns)]\n",
        "\n",
        "  # Step 2: Calculate the average log probability difference\n",
        "  combined_df['average log prob difference'] = (combined_df['log prob difference_people'] + combined_df['log prob difference_in']) / 2\n",
        "\n",
        "  combined_df['average normalized log prob'] = (combined_df['normalized log prob difference_people'] + combined_df['normalized log prob difference_in']) / 2\n",
        "\n",
        "  if dataset == 'wvs':\n",
        "\n",
        "    # Step 3: Remove the 'country_in', 'topic_in', and 'wvs_score_in' columns\n",
        "    columns_to_remove = ['country_in', 'topic_in', 'wvs_score_in']\n",
        "    combined_df.drop(columns=columns_to_remove, inplace=True)\n",
        "\n",
        "    # Step 4: Rename the columns\n",
        "    combined_df.rename(columns={\n",
        "      'country_people': 'country',\n",
        "      'topic_people': 'topic',\n",
        "      'wvs_score_people': 'wvs_score'\n",
        "    }, inplace=True)\n",
        "\n",
        "  elif dataset == 'pew':\n",
        "\n",
        "    # Step 3: Remove the 'country_in', 'topic_in', and 'wvs_score_in' columns\n",
        "    columns_to_remove = ['country_in', 'topic_in', 'pew_score_in']\n",
        "    combined_df.drop(columns=columns_to_remove, inplace=True)\n",
        "\n",
        "    # Step 4: Rename the columns\n",
        "    combined_df.rename(columns={\n",
        "      'country_people': 'country',\n",
        "      'topic_people': 'topic',\n",
        "      'pew_score_people': 'pew_score'\n",
        "    }, inplace=True)\n",
        "\n",
        "\n",
        "  # Print the resulting DataFrame\n",
        "  display(combined_df)\n",
        "  return(combined_df)\n",
        "\n",
        "  # save_dir = f'/content/drive/MyDrive/MSc Applied Data Science/ADS thesis/Mijn data/wvs_w7_QWEN_token_pairs_BOTH-MIJNTJE-FINAL.csv'\n",
        "  # combined_df.to_csv(save_dir, index=False)\n"
      ]
    },
    {
      "cell_type": "code",
      "execution_count": null,
      "metadata": {
        "id": "tbkhBEqv5Hhb"
      },
      "outputs": [],
      "source": [
        "# # TEST: generate combined df function\n",
        "\n",
        "# df_QWEN_WVS_in = pd.read_csv('/content/drive/MyDrive/MSc Applied Data Science/ADS thesis/Mijn data/wvs_w7_QWEN_token_pairs_in-MIJNTJE-FINAL.csv')\n",
        "# df_QWEN_WVS_people = pd.read_csv('/content/drive/MyDrive/MSc Applied Data Science/ADS thesis/Mijn data/wvs_w7_QWEN_token_pairs_people-MIJNTJE-FINAL.csv')\n",
        "\n",
        "# combined_df_QWEN = generate_combined_df(df_QWEN_WVS_people, df_QWEN_WVS_in)"
      ]
    },
    {
      "cell_type": "code",
      "source": [
        "def generate_scores_other(model, cultures=COUNTRIES_WVS_W7_ALL):\n",
        "\n",
        "  # WVS scores\n",
        "\n",
        "  if model == 'QWEN':\n",
        "    model_name = \"Qwen/Qwen2-0.5B\"\n",
        "\n",
        "  elif model == 'OPT-125':\n",
        "    model_name = \"facebook/opt-125m\"\n",
        "\n",
        "  elif model == 'BLOOM':\n",
        "    model_name = \"bigscience/bloomz-560m\"\n",
        "\n",
        "  # first 'in' prompt type\n",
        "  df_model_WVS_in, _ = compare_wvs_token_pairs(model_name=model_name, cultures=COUNTRIES_WVS_W7_ALL, use_cuda=False, prompt_mode='in')\n",
        "  df_model_WVS_people, _ = compare_wvs_token_pairs(model_name=model_name, cultures=COUNTRIES_WVS_W7_ALL, use_cuda=False, prompt_mode='people')\n",
        "\n",
        "  save_dir_in = f'/content/drive/MyDrive/MSc Applied Data Science/ADS thesis/Mijn data/Final test/wvs_w7_{model}_token_pairs_in-MIJNTJE-FINAL.csv'\n",
        "  df_model_WVS_in.to_csv(save_dir_in, index=False)\n",
        "\n",
        "  save_dir_people = f'/content/drive/MyDrive/MSc Applied Data Science/ADS thesis/Mijn data/Final test/wvs_w7_{model}_token_pairs_people-MIJNTJE-FINAL.csv'\n",
        "  df_model_WVS_people.to_csv(save_dir_in, index=False)\n",
        "\n",
        "  combined_df = generate_combined_df(df_model_WVS_people, df_model_WVS_in, 'wvs')\n",
        "  save_dir = f'/content/drive/MyDrive/MSc Applied Data Science/ADS thesis/Mijn data/Final test/wvs_w7_{model}_token_pairs_BOTH-MIJNTJE-FINAL.csv'\n",
        "  combined_df.to_csv(save_dir, index=False)\n",
        "\n",
        "  # PEW scores\n",
        "  df_model_PEW_in, _ = compare_pew_token_pairs(model_name=model_name, cultures=COUNTRIES_PEW_ALL, use_cuda=False, prompt_mode='in')\n",
        "  df_model_PEW_people, _ = compare_pew_token_pairs(model_name=model_name, cultures=COUNTRIES_PEW_ALL, use_cuda=False, prompt_mode='people')\n",
        "\n",
        "  save_dir_in = f'/content/drive/MyDrive/MSc Applied Data Science/ADS thesis/Mijn data/Final test/PEW_{model}_token_pairs_in-MIJNTJE-FINAL.csv'\n",
        "  df_model_PEW_in.to_csv(save_dir_in, index=False)\n",
        "\n",
        "  save_dir_people = f'/content/drive/MyDrive/MSc Applied Data Science/ADS thesis/Mijn data/Final test/PEW_{model}_token_pairs_people-MIJNTJE-FINAL.csv'\n",
        "  df_model_PEW_people.to_csv(save_dir_in, index=False)\n",
        "\n",
        "  combined_df = generate_combined_df(df_model_PEW_people, df_model_PEW_in, 'pew')\n",
        "  save_dir = f'/content/drive/MyDrive/MSc Applied Data Science/ADS thesis/Mijn data/Final test/PEW_{model}_token_pairs_BOTH-MIJNTJE-FINAL.csv'\n",
        "  combined_df.to_csv(save_dir, index=False)\n",
        "\n",
        "  return combined_df"
      ],
      "metadata": {
        "id": "o3rZvNDgrZg9"
      },
      "execution_count": null,
      "outputs": []
    },
    {
      "cell_type": "code",
      "source": [
        "def generate_scores_gpt(model, cultures=COUNTRIES_WVS_W7_ALL):\n",
        "\n",
        "  # WVS scores\n",
        "\n",
        "  if model == 'gpt2':\n",
        "    model_name = \"gpt2\"\n",
        "\n",
        "  elif model == 'gpt2-medium':\n",
        "    model_name = \"gpt2-medium\"\n",
        "\n",
        "  elif model == 'gpt2-large':\n",
        "    model_name = \"gpt2-large\"\n",
        "\n",
        "\n",
        "  # first 'in' prompt type\n",
        "  df_model_WVS_in, _ = compare_wvs_token_pairs_gpt2(model_name=model_name, cultures=COUNTRIES_WVS_W7_ALL, use_cuda=False, prompt_mode='in')\n",
        "  df_model_WVS_people, _ = compare_wvs_token_pairs_gpt2(model_name=model_name, cultures=COUNTRIES_WVS_W7_ALL, use_cuda=False, prompt_mode='people')\n",
        "\n",
        "  save_dir_in = f'/content/drive/MyDrive/MSc Applied Data Science/ADS thesis/Mijn data/Final test/wvs_w7_{model}_token_pairs_in-MIJNTJE-FINAL.csv'\n",
        "  df_model_WVS_in.to_csv(save_dir_in, index=False)\n",
        "\n",
        "  save_dir_people = f'/content/drive/MyDrive/MSc Applied Data Science/ADS thesis/Mijn data/Final test/wvs_w7_{model}_token_pairs_people-MIJNTJE-FINAL.csv'\n",
        "  df_model_WVS_people.to_csv(save_dir_in, index=False)\n",
        "\n",
        "  combined_df = generate_combined_df(df_model_WVS_people, df_model_WVS_in, 'wvs')\n",
        "  save_dir = f'/content/drive/MyDrive/MSc Applied Data Science/ADS thesis/Mijn data/Final test/wvs_w7_{model}_token_pairs_BOTH-MIJNTJE-FINAL.csv'\n",
        "  combined_df.to_csv(save_dir, index=False)\n",
        "\n",
        "  # PEW scores\n",
        "  df_model_PEW_in, _ = compare_pew_token_pairs_gpt2(model_name=model_name, cultures=COUNTRIES_PEW_ALL, use_cuda=False, prompt_mode='in')\n",
        "  df_model_PEW_people, _ = compare_pew_token_pairs_gpt2(model_name=model_name, cultures=COUNTRIES_PEW_ALL, use_cuda=False, prompt_mode='people')\n",
        "\n",
        "  save_dir_in = f'/content/drive/MyDrive/MSc Applied Data Science/ADS thesis/Mijn data/Final test/PEW_{model}_token_pairs_in-MIJNTJE-FINAL.csv'\n",
        "  df_model_PEW_in.to_csv(save_dir_in, index=False)\n",
        "\n",
        "  save_dir_people = f'/content/drive/MyDrive/MSc Applied Data Science/ADS thesis/Mijn data/Final test/PEW_{model}_token_pairs_people-MIJNTJE-FINAL.csv'\n",
        "  df_model_PEW_people.to_csv(save_dir_in, index=False)\n",
        "\n",
        "  combined_df = generate_combined_df(df_model_PEW_people, df_model_PEW_in, 'pew')\n",
        "  save_dir = f'/content/drive/MyDrive/MSc Applied Data Science/ADS thesis/Mijn data/Final test/PEW_{model}_token_pairs_BOTH-MIJNTJE-FINAL.csv'\n",
        "  combined_df.to_csv(save_dir, index=False)\n",
        "\n",
        "  return combined_df\n"
      ],
      "metadata": {
        "id": "nX1s6hubuDik"
      },
      "execution_count": null,
      "outputs": []
    },
    {
      "cell_type": "code",
      "source": [
        "TOKEN_PAIRS = [ ('always justifiable', 'never justifiable'),\n",
        "                ('right','wrong'),\n",
        "                ('morally good','morally bad'),\n",
        "                ('ethically right', 'ethically wrong'),\n",
        "                ('ethical','unethical')]\n",
        "\n",
        "# TOKEN_PAIRS = [ ('always justifiable', 'never justifiable')]"
      ],
      "metadata": {
        "id": "e5R3y0TVuQp5"
      },
      "execution_count": null,
      "outputs": []
    },
    {
      "cell_type": "code",
      "source": [
        "GPT2_scores = generate_scores_gpt('gpt2')\n",
        "GPT2MEDIUM_scores = generate_scores_gpt('gpt2-medium')\n",
        "GPT2LARGE_scores = generate_scores_gpt('gpt2-large')\n",
        "\n",
        "QWEN_scores = generate_scores_other('QWEN')\n",
        "OPT_scores = generate_scores_other('OPT-125')\n",
        "BLOOM_scores = generate_scores_other('BLOOM')\n"
      ],
      "metadata": {
        "colab": {
          "base_uri": "https://localhost:8080/",
          "height": 1000,
          "referenced_widgets": [
            "7d9a0f68f0774227bb778937dd5831ba",
            "b22eb9ba28b44aeca5278e32ed28d044",
            "4df55de9c25e4c80a1ff25fe6366256f",
            "4877e015c1ae446aac86150903ae0f01",
            "aab7c28afdd344779051445247e9ded4",
            "52b4163eafdb433382564078cb96e1bf",
            "b0dbc3002bfe49cfae7d8c5bac34055e",
            "cf09e2ec09c747f191ba6a506b16b879",
            "10586ae35b0f409e94c2a7d8b97ece2b",
            "4d06944e4bcb457fb9eebc04e8cb1ba1",
            "d4ada6739aee49e68d21545dfe4239e6",
            "b4e68636b0b64fa38cf73bfb6ba7d22b",
            "24f380ed576c456a8b8958826bbe6e79",
            "b6db03cd3fbf45ed986f86a38ca21d89",
            "b70d3a9e04e1431b93026920bb35e98a",
            "39ffb4aaeee742f98a0e13b401d68709",
            "4c8727d3c5624c34bf6d8128328421e9",
            "027d7fa11a8044999687cfab1e38f8f3",
            "a3e77e4e09894ffe9d780523951e53bd",
            "375b085e9ba24d109c56f8fe5a5bce13",
            "247ad9a280d04d2e9181a21732bfb01f",
            "452a05f156e9407e991fe99879569e56",
            "df55c689ea74443fae9e0aa27e88d7a9",
            "528ea0bcb497425e96a454ed5cd395d7",
            "32423cbd275f45fc86c13257b1689bab",
            "90e6ef93910540eabe05628ce9f98687",
            "beee859348b7475696f7cf6d23039769",
            "a64cf43dc7054eaf8e8e2ac504795ad2",
            "2bc13ec4cce242128a43c958e5bdb0e0",
            "3bd938d5f6ce4a17ae3bfdeea7ee2c4c",
            "d3f01bc45bea46ab8c30588d15ce2f68",
            "228c7f6a4bd54f8b8d709631ba58da8f",
            "80da4d1bbd744728a126298223d61a0f",
            "ceeccb4c1ab1459b8a92a05ca0cbd0ff",
            "821321717e9749d89cc715ff84bad965",
            "ddb63fbc11b54eeab1a5dcf0236a7ca9",
            "39900fec81704382a2320cebcde0b266",
            "91b60de64516416ca133121392673e9f",
            "f59768964e5b40debcac543a6cb0f3b4",
            "4e0cdf16680244f396fa75f03ef35fa1",
            "fc994db0acfb4516b881ed9f7b10e410",
            "1c3f95cbb1fd476e97f7c24d1fa98c20",
            "ca6ed0d9f5364d89af30b193a2f5de9d",
            "1798475bf77b48ee8282660aae293f22",
            "5dc5acff02f44976865c3ba10e0412a5",
            "837a46bc22694606aec20aa7131b4043",
            "9bbcde3e79364799bb210af12b58951c",
            "5d4698f2df064095aea7db033662bbcf",
            "b2efd21116b3456cae2e5ec1b417269b",
            "35724a0965da4ad7a2d3002ff9ac293f",
            "bc968db6ea334bd6bc09a36c6e6e29de",
            "c468f721ad324adfa7661983a19c812d",
            "803fe309039d4cec92df40e8451078b1",
            "bc066d60f6c844438489b72c650b36d8",
            "03dad9885c35411b9e1bd82cd7f10d8f",
            "8822ed39849a4d7d8e46f3c0ea8496aa",
            "1640f78c238b426db2b5dfff5abc435e",
            "824324b2dbe245dfbd057e90e58cb7fc",
            "45c50fad924c440ca96d3dc1b9645f95",
            "9e9dcea5b0dc43f78b0923efb40a802e",
            "18789bb5e8614dbe845cb5db764a3b51",
            "c613bfd6e89d4ca0b13e7ca1e1383664",
            "de40f3907f474f04b25428458adcde64",
            "884ea7c9b4af4714a82cadc1ea588adb",
            "543e86dfe33e480d9f31904282501a99",
            "75c348127a5b417e8f4f656d2fd77622",
            "1390aaf410ed4ba2861d259b9a60fc47",
            "35b55b95702c45c38cef03697a57f25e",
            "e389ff835576424f966e1c273f3cf8f6",
            "73cb51393b6245808cd8a76396e9ac67",
            "39a8e3ea6366426b9d6566bd07e4cb82",
            "78d5774e235b48a180aa41be8f38b15d",
            "e075aa7f90584a3a9d393f48949a6903",
            "ee64282c7b974ddfb543bfb55433bd21",
            "98387876ecea448cae52cb3f0089ba08",
            "f8a01ccc708b491189caac359baa5b0e",
            "ea7a12b317f64099932a3a89bdd6b028"
          ]
        },
        "id": "_UnnNKmdtnkP",
        "outputId": "740dd76b-59a4-47db-a269-af02cf1b77fc"
      },
      "execution_count": null,
      "outputs": [
        {
          "output_type": "display_data",
          "data": {
            "text/plain": [
              "config.json:   0%|          | 0.00/666 [00:00<?, ?B/s]"
            ],
            "application/vnd.jupyter.widget-view+json": {
              "version_major": 2,
              "version_minor": 0,
              "model_id": "7d9a0f68f0774227bb778937dd5831ba"
            }
          },
          "metadata": {}
        },
        {
          "output_type": "display_data",
          "data": {
            "text/plain": [
              "model.safetensors:   0%|          | 0.00/3.25G [00:00<?, ?B/s]"
            ],
            "application/vnd.jupyter.widget-view+json": {
              "version_major": 2,
              "version_minor": 0,
              "model_id": "b4e68636b0b64fa38cf73bfb6ba7d22b"
            }
          },
          "metadata": {}
        },
        {
          "output_type": "display_data",
          "data": {
            "text/plain": [
              "generation_config.json:   0%|          | 0.00/124 [00:00<?, ?B/s]"
            ],
            "application/vnd.jupyter.widget-view+json": {
              "version_major": 2,
              "version_minor": 0,
              "model_id": "df55c689ea74443fae9e0aa27e88d7a9"
            }
          },
          "metadata": {}
        },
        {
          "output_type": "display_data",
          "data": {
            "text/plain": [
              "tokenizer_config.json:   0%|          | 0.00/26.0 [00:00<?, ?B/s]"
            ],
            "application/vnd.jupyter.widget-view+json": {
              "version_major": 2,
              "version_minor": 0,
              "model_id": "ceeccb4c1ab1459b8a92a05ca0cbd0ff"
            }
          },
          "metadata": {}
        },
        {
          "output_type": "display_data",
          "data": {
            "text/plain": [
              "vocab.json:   0%|          | 0.00/1.04M [00:00<?, ?B/s]"
            ],
            "application/vnd.jupyter.widget-view+json": {
              "version_major": 2,
              "version_minor": 0,
              "model_id": "5dc5acff02f44976865c3ba10e0412a5"
            }
          },
          "metadata": {}
        },
        {
          "output_type": "display_data",
          "data": {
            "text/plain": [
              "merges.txt:   0%|          | 0.00/456k [00:00<?, ?B/s]"
            ],
            "application/vnd.jupyter.widget-view+json": {
              "version_major": 2,
              "version_minor": 0,
              "model_id": "8822ed39849a4d7d8e46f3c0ea8496aa"
            }
          },
          "metadata": {}
        },
        {
          "output_type": "display_data",
          "data": {
            "text/plain": [
              "tokenizer.json:   0%|          | 0.00/1.36M [00:00<?, ?B/s]"
            ],
            "application/vnd.jupyter.widget-view+json": {
              "version_major": 2,
              "version_minor": 0,
              "model_id": "1390aaf410ed4ba2861d259b9a60fc47"
            }
          },
          "metadata": {}
        },
        {
          "output_type": "stream",
          "name": "stderr",
          "text": [
            "\r  0%|          | 0/55 [00:00<?, ?it/s]"
          ]
        },
        {
          "output_type": "stream",
          "name": "stdout",
          "text": [
            "The token used is IN\n"
          ]
        },
        {
          "output_type": "stream",
          "name": "stderr",
          "text": [
            "\r  2%|▏         | 1/55 [00:05<04:49,  5.37s/it]"
          ]
        },
        {
          "output_type": "stream",
          "name": "stdout",
          "text": [
            "The token used is IN\n"
          ]
        },
        {
          "output_type": "stream",
          "name": "stderr",
          "text": [
            "\r  4%|▎         | 2/55 [00:09<04:20,  4.92s/it]"
          ]
        },
        {
          "output_type": "stream",
          "name": "stdout",
          "text": [
            "The token used is IN\n"
          ]
        },
        {
          "output_type": "stream",
          "name": "stderr",
          "text": [
            "\r  5%|▌         | 3/55 [00:14<04:11,  4.83s/it]"
          ]
        },
        {
          "output_type": "stream",
          "name": "stdout",
          "text": [
            "The token used is IN\n"
          ]
        },
        {
          "output_type": "stream",
          "name": "stderr",
          "text": [
            "\r  7%|▋         | 4/55 [00:19<04:12,  4.95s/it]"
          ]
        },
        {
          "output_type": "stream",
          "name": "stdout",
          "text": [
            "The token used is IN\n"
          ]
        },
        {
          "output_type": "stream",
          "name": "stderr",
          "text": [
            "\r  9%|▉         | 5/55 [00:24<04:10,  5.01s/it]"
          ]
        },
        {
          "output_type": "stream",
          "name": "stdout",
          "text": [
            "The token used is IN\n"
          ]
        },
        {
          "output_type": "stream",
          "name": "stderr",
          "text": [
            "\r 11%|█         | 6/55 [00:29<04:05,  5.02s/it]"
          ]
        },
        {
          "output_type": "stream",
          "name": "stdout",
          "text": [
            "The token used is IN\n"
          ]
        },
        {
          "output_type": "stream",
          "name": "stderr",
          "text": [
            "\r 13%|█▎        | 7/55 [00:34<03:59,  4.98s/it]"
          ]
        },
        {
          "output_type": "stream",
          "name": "stdout",
          "text": [
            "The token used is IN\n"
          ]
        },
        {
          "output_type": "stream",
          "name": "stderr",
          "text": [
            "\r 15%|█▍        | 8/55 [00:39<03:52,  4.94s/it]"
          ]
        },
        {
          "output_type": "stream",
          "name": "stdout",
          "text": [
            "The token used is IN\n"
          ]
        },
        {
          "output_type": "stream",
          "name": "stderr",
          "text": [
            "\r 16%|█▋        | 9/55 [00:44<03:45,  4.89s/it]"
          ]
        },
        {
          "output_type": "stream",
          "name": "stdout",
          "text": [
            "The token used is IN\n"
          ]
        },
        {
          "output_type": "stream",
          "name": "stderr",
          "text": [
            "\r 18%|█▊        | 10/55 [00:49<03:42,  4.93s/it]"
          ]
        },
        {
          "output_type": "stream",
          "name": "stdout",
          "text": [
            "The token used is IN\n"
          ]
        },
        {
          "output_type": "stream",
          "name": "stderr",
          "text": [
            "\r 20%|██        | 11/55 [00:54<03:35,  4.90s/it]"
          ]
        },
        {
          "output_type": "stream",
          "name": "stdout",
          "text": [
            "The token used is IN\n"
          ]
        },
        {
          "output_type": "stream",
          "name": "stderr",
          "text": [
            "\r 22%|██▏       | 12/55 [00:59<03:32,  4.94s/it]"
          ]
        },
        {
          "output_type": "stream",
          "name": "stdout",
          "text": [
            "The token used is IN\n"
          ]
        },
        {
          "output_type": "stream",
          "name": "stderr",
          "text": [
            "\r 24%|██▎       | 13/55 [01:04<03:35,  5.12s/it]"
          ]
        },
        {
          "output_type": "stream",
          "name": "stdout",
          "text": [
            "The token used is IN\n"
          ]
        },
        {
          "output_type": "stream",
          "name": "stderr",
          "text": [
            "\r 25%|██▌       | 14/55 [01:10<03:29,  5.11s/it]"
          ]
        },
        {
          "output_type": "stream",
          "name": "stdout",
          "text": [
            "The token used is IN\n"
          ]
        },
        {
          "output_type": "stream",
          "name": "stderr",
          "text": [
            "\r 27%|██▋       | 15/55 [01:14<03:19,  4.98s/it]"
          ]
        },
        {
          "output_type": "stream",
          "name": "stdout",
          "text": [
            "The token used is IN\n"
          ]
        },
        {
          "output_type": "stream",
          "name": "stderr",
          "text": [
            "\r 29%|██▉       | 16/55 [01:19<03:13,  4.97s/it]"
          ]
        },
        {
          "output_type": "stream",
          "name": "stdout",
          "text": [
            "The token used is IN\n"
          ]
        },
        {
          "output_type": "stream",
          "name": "stderr",
          "text": [
            "\r 31%|███       | 17/55 [01:24<03:12,  5.06s/it]"
          ]
        },
        {
          "output_type": "stream",
          "name": "stdout",
          "text": [
            "The token used is IN\n"
          ]
        },
        {
          "output_type": "stream",
          "name": "stderr",
          "text": [
            "\r 33%|███▎      | 18/55 [01:30<03:08,  5.10s/it]"
          ]
        },
        {
          "output_type": "stream",
          "name": "stdout",
          "text": [
            "The token used is IN\n"
          ]
        },
        {
          "output_type": "stream",
          "name": "stderr",
          "text": [
            "\r 35%|███▍      | 19/55 [01:34<03:00,  5.00s/it]"
          ]
        },
        {
          "output_type": "stream",
          "name": "stdout",
          "text": [
            "The token used is IN\n"
          ]
        },
        {
          "output_type": "stream",
          "name": "stderr",
          "text": [
            "\r 36%|███▋      | 20/55 [01:39<02:52,  4.92s/it]"
          ]
        },
        {
          "output_type": "stream",
          "name": "stdout",
          "text": [
            "The token used is IN\n"
          ]
        },
        {
          "output_type": "stream",
          "name": "stderr",
          "text": [
            "\r 38%|███▊      | 21/55 [01:45<02:53,  5.11s/it]"
          ]
        },
        {
          "output_type": "stream",
          "name": "stdout",
          "text": [
            "The token used is IN\n"
          ]
        },
        {
          "output_type": "stream",
          "name": "stderr",
          "text": [
            "\r 40%|████      | 22/55 [01:50<02:49,  5.12s/it]"
          ]
        },
        {
          "output_type": "stream",
          "name": "stdout",
          "text": [
            "The token used is IN\n"
          ]
        },
        {
          "output_type": "stream",
          "name": "stderr",
          "text": [
            "\r 42%|████▏     | 23/55 [01:55<02:40,  5.02s/it]"
          ]
        },
        {
          "output_type": "stream",
          "name": "stdout",
          "text": [
            "The token used is IN\n"
          ]
        },
        {
          "output_type": "stream",
          "name": "stderr",
          "text": [
            "\r 44%|████▎     | 24/55 [01:59<02:32,  4.90s/it]"
          ]
        },
        {
          "output_type": "stream",
          "name": "stdout",
          "text": [
            "The token used is IN\n"
          ]
        },
        {
          "output_type": "stream",
          "name": "stderr",
          "text": [
            "\r 45%|████▌     | 25/55 [02:04<02:28,  4.95s/it]"
          ]
        },
        {
          "output_type": "stream",
          "name": "stdout",
          "text": [
            "The token used is IN\n"
          ]
        },
        {
          "output_type": "stream",
          "name": "stderr",
          "text": [
            "\r 47%|████▋     | 26/55 [02:10<02:30,  5.19s/it]"
          ]
        },
        {
          "output_type": "stream",
          "name": "stdout",
          "text": [
            "The token used is IN\n"
          ]
        },
        {
          "output_type": "stream",
          "name": "stderr",
          "text": [
            "\r 49%|████▉     | 27/55 [02:15<02:22,  5.08s/it]"
          ]
        },
        {
          "output_type": "stream",
          "name": "stdout",
          "text": [
            "The token used is IN\n"
          ]
        },
        {
          "output_type": "stream",
          "name": "stderr",
          "text": [
            "\r 51%|█████     | 28/55 [02:20<02:13,  4.95s/it]"
          ]
        },
        {
          "output_type": "stream",
          "name": "stdout",
          "text": [
            "The token used is IN\n"
          ]
        },
        {
          "output_type": "stream",
          "name": "stderr",
          "text": [
            "\r 53%|█████▎    | 29/55 [02:24<02:06,  4.87s/it]"
          ]
        },
        {
          "output_type": "stream",
          "name": "stdout",
          "text": [
            "The token used is IN\n"
          ]
        },
        {
          "output_type": "stream",
          "name": "stderr",
          "text": [
            "\r 55%|█████▍    | 30/55 [02:30<02:05,  5.00s/it]"
          ]
        },
        {
          "output_type": "stream",
          "name": "stdout",
          "text": [
            "The token used is IN\n"
          ]
        },
        {
          "output_type": "stream",
          "name": "stderr",
          "text": [
            "\r 56%|█████▋    | 31/55 [02:35<02:02,  5.09s/it]"
          ]
        },
        {
          "output_type": "stream",
          "name": "stdout",
          "text": [
            "The token used is IN\n"
          ]
        },
        {
          "output_type": "stream",
          "name": "stderr",
          "text": [
            "\r 58%|█████▊    | 32/55 [02:40<01:56,  5.06s/it]"
          ]
        },
        {
          "output_type": "stream",
          "name": "stdout",
          "text": [
            "The token used is IN\n"
          ]
        },
        {
          "output_type": "stream",
          "name": "stderr",
          "text": [
            "\r 60%|██████    | 33/55 [02:44<01:48,  4.95s/it]"
          ]
        },
        {
          "output_type": "stream",
          "name": "stdout",
          "text": [
            "The token used is IN\n"
          ]
        },
        {
          "output_type": "stream",
          "name": "stderr",
          "text": [
            "\r 62%|██████▏   | 34/55 [02:49<01:44,  4.96s/it]"
          ]
        },
        {
          "output_type": "stream",
          "name": "stdout",
          "text": [
            "The token used is IN\n"
          ]
        },
        {
          "output_type": "stream",
          "name": "stderr",
          "text": [
            "\r 64%|██████▎   | 35/55 [02:55<01:40,  5.00s/it]"
          ]
        },
        {
          "output_type": "stream",
          "name": "stdout",
          "text": [
            "The token used is IN\n"
          ]
        },
        {
          "output_type": "stream",
          "name": "stderr",
          "text": [
            "\r 65%|██████▌   | 36/55 [03:00<01:35,  5.02s/it]"
          ]
        },
        {
          "output_type": "stream",
          "name": "stdout",
          "text": [
            "The token used is IN\n"
          ]
        },
        {
          "output_type": "stream",
          "name": "stderr",
          "text": [
            "\r 67%|██████▋   | 37/55 [03:04<01:29,  4.97s/it]"
          ]
        },
        {
          "output_type": "stream",
          "name": "stdout",
          "text": [
            "The token used is IN\n"
          ]
        },
        {
          "output_type": "stream",
          "name": "stderr",
          "text": [
            "\r 69%|██████▉   | 38/55 [03:09<01:22,  4.88s/it]"
          ]
        },
        {
          "output_type": "stream",
          "name": "stdout",
          "text": [
            "The token used is IN\n"
          ]
        },
        {
          "output_type": "stream",
          "name": "stderr",
          "text": [
            "\r 71%|███████   | 39/55 [03:14<01:19,  4.94s/it]"
          ]
        },
        {
          "output_type": "stream",
          "name": "stdout",
          "text": [
            "The token used is IN\n"
          ]
        },
        {
          "output_type": "stream",
          "name": "stderr",
          "text": [
            "\r 73%|███████▎  | 40/55 [03:20<01:16,  5.09s/it]"
          ]
        },
        {
          "output_type": "stream",
          "name": "stdout",
          "text": [
            "The token used is IN\n"
          ]
        },
        {
          "output_type": "stream",
          "name": "stderr",
          "text": [
            "\r 75%|███████▍  | 41/55 [03:25<01:10,  5.05s/it]"
          ]
        },
        {
          "output_type": "stream",
          "name": "stdout",
          "text": [
            "The token used is IN\n"
          ]
        },
        {
          "output_type": "stream",
          "name": "stderr",
          "text": [
            "\r 76%|███████▋  | 42/55 [03:29<01:04,  4.93s/it]"
          ]
        },
        {
          "output_type": "stream",
          "name": "stdout",
          "text": [
            "The token used is IN\n"
          ]
        },
        {
          "output_type": "stream",
          "name": "stderr",
          "text": [
            "\r 78%|███████▊  | 43/55 [03:34<00:59,  4.95s/it]"
          ]
        },
        {
          "output_type": "stream",
          "name": "stdout",
          "text": [
            "The token used is IN\n"
          ]
        },
        {
          "output_type": "stream",
          "name": "stderr",
          "text": [
            "\r 80%|████████  | 44/55 [03:39<00:55,  5.02s/it]"
          ]
        },
        {
          "output_type": "stream",
          "name": "stdout",
          "text": [
            "The token used is IN\n"
          ]
        },
        {
          "output_type": "stream",
          "name": "stderr",
          "text": [
            "\r 82%|████████▏ | 45/55 [03:45<00:51,  5.13s/it]"
          ]
        },
        {
          "output_type": "stream",
          "name": "stdout",
          "text": [
            "The token used is IN\n"
          ]
        },
        {
          "output_type": "stream",
          "name": "stderr",
          "text": [
            "\r 84%|████████▎ | 46/55 [03:51<00:48,  5.35s/it]"
          ]
        },
        {
          "output_type": "stream",
          "name": "stdout",
          "text": [
            "The token used is IN\n"
          ]
        },
        {
          "output_type": "stream",
          "name": "stderr",
          "text": [
            "\r 85%|████████▌ | 47/55 [03:56<00:42,  5.34s/it]"
          ]
        },
        {
          "output_type": "stream",
          "name": "stdout",
          "text": [
            "The token used is IN\n"
          ]
        },
        {
          "output_type": "stream",
          "name": "stderr",
          "text": [
            "\r 87%|████████▋ | 48/55 [04:01<00:36,  5.19s/it]"
          ]
        },
        {
          "output_type": "stream",
          "name": "stdout",
          "text": [
            "The token used is IN\n"
          ]
        },
        {
          "output_type": "stream",
          "name": "stderr",
          "text": [
            "\r 89%|████████▉ | 49/55 [04:06<00:31,  5.19s/it]"
          ]
        },
        {
          "output_type": "stream",
          "name": "stdout",
          "text": [
            "The token used is IN\n"
          ]
        },
        {
          "output_type": "stream",
          "name": "stderr",
          "text": [
            "\r 91%|█████████ | 50/55 [04:11<00:25,  5.06s/it]"
          ]
        },
        {
          "output_type": "stream",
          "name": "stdout",
          "text": [
            "The token used is IN\n"
          ]
        },
        {
          "output_type": "stream",
          "name": "stderr",
          "text": [
            "\r 93%|█████████▎| 51/55 [04:15<00:19,  4.92s/it]"
          ]
        },
        {
          "output_type": "stream",
          "name": "stdout",
          "text": [
            "The token used is IN\n"
          ]
        },
        {
          "output_type": "stream",
          "name": "stderr",
          "text": [
            "\r 95%|█████████▍| 52/55 [04:20<00:14,  4.96s/it]"
          ]
        },
        {
          "output_type": "stream",
          "name": "stdout",
          "text": [
            "The token used is IN\n"
          ]
        },
        {
          "output_type": "stream",
          "name": "stderr",
          "text": [
            "\r 96%|█████████▋| 53/55 [04:26<00:10,  5.04s/it]"
          ]
        },
        {
          "output_type": "stream",
          "name": "stdout",
          "text": [
            "The token used is IN\n"
          ]
        },
        {
          "output_type": "stream",
          "name": "stderr",
          "text": [
            "\r 98%|█████████▊| 54/55 [04:31<00:05,  5.00s/it]"
          ]
        },
        {
          "output_type": "stream",
          "name": "stdout",
          "text": [
            "The token used is IN\n"
          ]
        },
        {
          "output_type": "stream",
          "name": "stderr",
          "text": [
            "100%|██████████| 55/55 [04:35<00:00,  5.01s/it]\n"
          ]
        },
        {
          "output_type": "stream",
          "name": "stdout",
          "text": [
            "Correlation calculated successfully\n"
          ]
        },
        {
          "output_type": "stream",
          "name": "stderr",
          "text": [
            "\r  0%|          | 0/55 [00:00<?, ?it/s]"
          ]
        },
        {
          "output_type": "stream",
          "name": "stdout",
          "text": [
            "The token used is PEOPLE\n"
          ]
        },
        {
          "output_type": "stream",
          "name": "stderr",
          "text": [
            "\r  2%|▏         | 1/55 [00:06<05:31,  6.13s/it]"
          ]
        },
        {
          "output_type": "stream",
          "name": "stdout",
          "text": [
            "The token used is PEOPLE\n"
          ]
        },
        {
          "output_type": "stream",
          "name": "stderr",
          "text": [
            "\r  4%|▎         | 2/55 [00:12<05:23,  6.10s/it]"
          ]
        },
        {
          "output_type": "stream",
          "name": "stdout",
          "text": [
            "The token used is PEOPLE\n"
          ]
        },
        {
          "output_type": "stream",
          "name": "stderr",
          "text": [
            "\r  5%|▌         | 3/55 [00:17<05:01,  5.79s/it]"
          ]
        },
        {
          "output_type": "stream",
          "name": "stdout",
          "text": [
            "The token used is PEOPLE\n"
          ]
        },
        {
          "output_type": "stream",
          "name": "stderr",
          "text": [
            "\r  7%|▋         | 4/55 [00:22<04:43,  5.55s/it]"
          ]
        },
        {
          "output_type": "stream",
          "name": "stdout",
          "text": [
            "The token used is PEOPLE\n"
          ]
        },
        {
          "output_type": "stream",
          "name": "stderr",
          "text": [
            "\r  9%|▉         | 5/55 [00:28<04:38,  5.56s/it]"
          ]
        },
        {
          "output_type": "stream",
          "name": "stdout",
          "text": [
            "The token used is PEOPLE\n"
          ]
        },
        {
          "output_type": "stream",
          "name": "stderr",
          "text": [
            "\r 11%|█         | 6/55 [00:34<04:44,  5.81s/it]"
          ]
        },
        {
          "output_type": "stream",
          "name": "stdout",
          "text": [
            "The token used is PEOPLE\n"
          ]
        },
        {
          "output_type": "stream",
          "name": "stderr",
          "text": [
            "\r 13%|█▎        | 7/55 [00:40<04:35,  5.74s/it]"
          ]
        },
        {
          "output_type": "stream",
          "name": "stdout",
          "text": [
            "The token used is PEOPLE\n"
          ]
        },
        {
          "output_type": "stream",
          "name": "stderr",
          "text": [
            "\r 15%|█▍        | 8/55 [00:45<04:21,  5.55s/it]"
          ]
        },
        {
          "output_type": "stream",
          "name": "stdout",
          "text": [
            "The token used is PEOPLE\n"
          ]
        },
        {
          "output_type": "stream",
          "name": "stderr",
          "text": [
            "\r 16%|█▋        | 9/55 [00:50<04:13,  5.52s/it]"
          ]
        },
        {
          "output_type": "stream",
          "name": "stdout",
          "text": [
            "The token used is PEOPLE\n"
          ]
        },
        {
          "output_type": "stream",
          "name": "stderr",
          "text": [
            "\r 18%|█▊        | 10/55 [00:56<04:12,  5.61s/it]"
          ]
        },
        {
          "output_type": "stream",
          "name": "stdout",
          "text": [
            "The token used is PEOPLE\n"
          ]
        },
        {
          "output_type": "stream",
          "name": "stderr",
          "text": [
            "\r 20%|██        | 11/55 [01:01<04:00,  5.46s/it]"
          ]
        },
        {
          "output_type": "stream",
          "name": "stdout",
          "text": [
            "The token used is PEOPLE\n"
          ]
        },
        {
          "output_type": "stream",
          "name": "stderr",
          "text": [
            "\r 22%|██▏       | 12/55 [01:06<03:50,  5.37s/it]"
          ]
        },
        {
          "output_type": "stream",
          "name": "stdout",
          "text": [
            "The token used is PEOPLE\n"
          ]
        },
        {
          "output_type": "stream",
          "name": "stderr",
          "text": [
            "\r 24%|██▎       | 13/55 [01:12<03:45,  5.37s/it]"
          ]
        },
        {
          "output_type": "stream",
          "name": "stdout",
          "text": [
            "The token used is PEOPLE\n"
          ]
        },
        {
          "output_type": "stream",
          "name": "stderr",
          "text": [
            "\r 25%|██▌       | 14/55 [01:18<03:49,  5.60s/it]"
          ]
        },
        {
          "output_type": "stream",
          "name": "stdout",
          "text": [
            "The token used is PEOPLE\n"
          ]
        },
        {
          "output_type": "stream",
          "name": "stderr",
          "text": [
            "\r 27%|██▋       | 15/55 [01:23<03:39,  5.50s/it]"
          ]
        },
        {
          "output_type": "stream",
          "name": "stdout",
          "text": [
            "The token used is PEOPLE\n"
          ]
        },
        {
          "output_type": "stream",
          "name": "stderr",
          "text": [
            "\r 29%|██▉       | 16/55 [01:28<03:30,  5.39s/it]"
          ]
        },
        {
          "output_type": "stream",
          "name": "stdout",
          "text": [
            "The token used is PEOPLE\n"
          ]
        },
        {
          "output_type": "stream",
          "name": "stderr",
          "text": [
            "\r 31%|███       | 17/55 [01:34<03:23,  5.36s/it]"
          ]
        },
        {
          "output_type": "stream",
          "name": "stdout",
          "text": [
            "The token used is PEOPLE\n"
          ]
        },
        {
          "output_type": "stream",
          "name": "stderr",
          "text": [
            "\r 33%|███▎      | 18/55 [01:39<03:18,  5.36s/it]"
          ]
        },
        {
          "output_type": "stream",
          "name": "stdout",
          "text": [
            "The token used is PEOPLE\n"
          ]
        },
        {
          "output_type": "stream",
          "name": "stderr",
          "text": [
            "\r 35%|███▍      | 19/55 [01:44<03:12,  5.35s/it]"
          ]
        },
        {
          "output_type": "stream",
          "name": "stdout",
          "text": [
            "The token used is PEOPLE\n"
          ]
        },
        {
          "output_type": "stream",
          "name": "stderr",
          "text": [
            "\r 36%|███▋      | 20/55 [01:50<03:05,  5.31s/it]"
          ]
        },
        {
          "output_type": "stream",
          "name": "stdout",
          "text": [
            "The token used is PEOPLE\n"
          ]
        },
        {
          "output_type": "stream",
          "name": "stderr",
          "text": [
            "\r 38%|███▊      | 21/55 [01:55<02:59,  5.29s/it]"
          ]
        },
        {
          "output_type": "stream",
          "name": "stdout",
          "text": [
            "The token used is PEOPLE\n"
          ]
        },
        {
          "output_type": "stream",
          "name": "stderr",
          "text": [
            "\r 40%|████      | 22/55 [02:00<02:57,  5.37s/it]"
          ]
        },
        {
          "output_type": "stream",
          "name": "stdout",
          "text": [
            "The token used is PEOPLE\n"
          ]
        },
        {
          "output_type": "stream",
          "name": "stderr",
          "text": [
            "\r 42%|████▏     | 23/55 [02:06<02:57,  5.53s/it]"
          ]
        },
        {
          "output_type": "stream",
          "name": "stdout",
          "text": [
            "The token used is PEOPLE\n"
          ]
        },
        {
          "output_type": "stream",
          "name": "stderr",
          "text": [
            "\r 44%|████▎     | 24/55 [02:12<02:50,  5.51s/it]"
          ]
        },
        {
          "output_type": "stream",
          "name": "stdout",
          "text": [
            "The token used is PEOPLE\n"
          ]
        },
        {
          "output_type": "stream",
          "name": "stderr",
          "text": [
            "\r 45%|████▌     | 25/55 [02:17<02:40,  5.35s/it]"
          ]
        },
        {
          "output_type": "stream",
          "name": "stdout",
          "text": [
            "The token used is PEOPLE\n"
          ]
        },
        {
          "output_type": "stream",
          "name": "stderr",
          "text": [
            "\r 47%|████▋     | 26/55 [02:23<02:42,  5.62s/it]"
          ]
        },
        {
          "output_type": "stream",
          "name": "stdout",
          "text": [
            "The token used is PEOPLE\n"
          ]
        },
        {
          "output_type": "stream",
          "name": "stderr",
          "text": [
            "\r 49%|████▉     | 27/55 [02:28<02:35,  5.57s/it]"
          ]
        },
        {
          "output_type": "stream",
          "name": "stdout",
          "text": [
            "The token used is PEOPLE\n"
          ]
        },
        {
          "output_type": "stream",
          "name": "stderr",
          "text": [
            "\r 51%|█████     | 28/55 [02:34<02:28,  5.51s/it]"
          ]
        },
        {
          "output_type": "stream",
          "name": "stdout",
          "text": [
            "The token used is PEOPLE\n"
          ]
        },
        {
          "output_type": "stream",
          "name": "stderr",
          "text": [
            "\r 53%|█████▎    | 29/55 [02:39<02:20,  5.40s/it]"
          ]
        },
        {
          "output_type": "stream",
          "name": "stdout",
          "text": [
            "The token used is PEOPLE\n"
          ]
        },
        {
          "output_type": "stream",
          "name": "stderr",
          "text": [
            "\r 55%|█████▍    | 30/55 [02:45<02:17,  5.50s/it]"
          ]
        },
        {
          "output_type": "stream",
          "name": "stdout",
          "text": [
            "The token used is PEOPLE\n"
          ]
        },
        {
          "output_type": "stream",
          "name": "stderr",
          "text": [
            "\r 56%|█████▋    | 31/55 [02:50<02:11,  5.49s/it]"
          ]
        },
        {
          "output_type": "stream",
          "name": "stdout",
          "text": [
            "The token used is PEOPLE\n"
          ]
        },
        {
          "output_type": "stream",
          "name": "stderr",
          "text": [
            "\r 58%|█████▊    | 32/55 [02:56<02:08,  5.57s/it]"
          ]
        },
        {
          "output_type": "stream",
          "name": "stdout",
          "text": [
            "The token used is PEOPLE\n"
          ]
        },
        {
          "output_type": "stream",
          "name": "stderr",
          "text": [
            "\r 60%|██████    | 33/55 [03:01<01:59,  5.44s/it]"
          ]
        },
        {
          "output_type": "stream",
          "name": "stdout",
          "text": [
            "The token used is PEOPLE\n"
          ]
        },
        {
          "output_type": "stream",
          "name": "stderr",
          "text": [
            "\r 62%|██████▏   | 34/55 [03:06<01:52,  5.37s/it]"
          ]
        },
        {
          "output_type": "stream",
          "name": "stdout",
          "text": [
            "The token used is PEOPLE\n"
          ]
        },
        {
          "output_type": "stream",
          "name": "stderr",
          "text": [
            "\r 64%|██████▎   | 35/55 [03:12<01:47,  5.40s/it]"
          ]
        },
        {
          "output_type": "stream",
          "name": "stdout",
          "text": [
            "The token used is PEOPLE\n"
          ]
        },
        {
          "output_type": "stream",
          "name": "stderr",
          "text": [
            "\r 65%|██████▌   | 36/55 [03:17<01:44,  5.50s/it]"
          ]
        },
        {
          "output_type": "stream",
          "name": "stdout",
          "text": [
            "The token used is PEOPLE\n"
          ]
        },
        {
          "output_type": "stream",
          "name": "stderr",
          "text": [
            "\r 67%|██████▋   | 37/55 [03:23<01:37,  5.42s/it]"
          ]
        },
        {
          "output_type": "stream",
          "name": "stdout",
          "text": [
            "The token used is PEOPLE\n"
          ]
        },
        {
          "output_type": "stream",
          "name": "stderr",
          "text": [
            "\r 69%|██████▉   | 38/55 [03:28<01:30,  5.34s/it]"
          ]
        },
        {
          "output_type": "stream",
          "name": "stdout",
          "text": [
            "The token used is PEOPLE\n"
          ]
        },
        {
          "output_type": "stream",
          "name": "stderr",
          "text": [
            "\r 71%|███████   | 39/55 [03:33<01:25,  5.37s/it]"
          ]
        },
        {
          "output_type": "stream",
          "name": "stdout",
          "text": [
            "The token used is PEOPLE\n"
          ]
        },
        {
          "output_type": "stream",
          "name": "stderr",
          "text": [
            "\r 73%|███████▎  | 40/55 [03:39<01:23,  5.56s/it]"
          ]
        },
        {
          "output_type": "stream",
          "name": "stdout",
          "text": [
            "The token used is PEOPLE\n"
          ]
        },
        {
          "output_type": "stream",
          "name": "stderr",
          "text": [
            "\r 75%|███████▍  | 41/55 [03:45<01:17,  5.53s/it]"
          ]
        },
        {
          "output_type": "stream",
          "name": "stdout",
          "text": [
            "The token used is PEOPLE\n"
          ]
        },
        {
          "output_type": "stream",
          "name": "stderr",
          "text": [
            "\r 76%|███████▋  | 42/55 [03:50<01:10,  5.43s/it]"
          ]
        },
        {
          "output_type": "stream",
          "name": "stdout",
          "text": [
            "The token used is PEOPLE\n"
          ]
        },
        {
          "output_type": "stream",
          "name": "stderr",
          "text": [
            "\r 78%|███████▊  | 43/55 [03:55<01:05,  5.44s/it]"
          ]
        },
        {
          "output_type": "stream",
          "name": "stdout",
          "text": [
            "The token used is PEOPLE\n"
          ]
        },
        {
          "output_type": "stream",
          "name": "stderr",
          "text": [
            "\r 80%|████████  | 44/55 [04:01<00:59,  5.44s/it]"
          ]
        },
        {
          "output_type": "stream",
          "name": "stdout",
          "text": [
            "The token used is PEOPLE\n"
          ]
        },
        {
          "output_type": "stream",
          "name": "stderr",
          "text": [
            "\r 82%|████████▏ | 45/55 [04:07<00:56,  5.61s/it]"
          ]
        },
        {
          "output_type": "stream",
          "name": "stdout",
          "text": [
            "The token used is PEOPLE\n"
          ]
        },
        {
          "output_type": "stream",
          "name": "stderr",
          "text": [
            "\r 84%|████████▎ | 46/55 [04:12<00:50,  5.60s/it]"
          ]
        },
        {
          "output_type": "stream",
          "name": "stdout",
          "text": [
            "The token used is PEOPLE\n"
          ]
        },
        {
          "output_type": "stream",
          "name": "stderr",
          "text": [
            "\r 85%|████████▌ | 47/55 [04:18<00:45,  5.70s/it]"
          ]
        },
        {
          "output_type": "stream",
          "name": "stdout",
          "text": [
            "The token used is PEOPLE\n"
          ]
        },
        {
          "output_type": "stream",
          "name": "stderr",
          "text": [
            "\r 87%|████████▋ | 48/55 [04:24<00:39,  5.64s/it]"
          ]
        },
        {
          "output_type": "stream",
          "name": "stdout",
          "text": [
            "The token used is PEOPLE\n"
          ]
        },
        {
          "output_type": "stream",
          "name": "stderr",
          "text": [
            "\r 89%|████████▉ | 49/55 [04:30<00:34,  5.67s/it]"
          ]
        },
        {
          "output_type": "stream",
          "name": "stdout",
          "text": [
            "The token used is PEOPLE\n"
          ]
        },
        {
          "output_type": "stream",
          "name": "stderr",
          "text": [
            "\r 91%|█████████ | 50/55 [04:35<00:27,  5.51s/it]"
          ]
        },
        {
          "output_type": "stream",
          "name": "stdout",
          "text": [
            "The token used is PEOPLE\n"
          ]
        },
        {
          "output_type": "stream",
          "name": "stderr",
          "text": [
            "\r 93%|█████████▎| 51/55 [04:40<00:21,  5.45s/it]"
          ]
        },
        {
          "output_type": "stream",
          "name": "stdout",
          "text": [
            "The token used is PEOPLE\n"
          ]
        },
        {
          "output_type": "stream",
          "name": "stderr",
          "text": [
            "\r 95%|█████████▍| 52/55 [04:46<00:16,  5.57s/it]"
          ]
        },
        {
          "output_type": "stream",
          "name": "stdout",
          "text": [
            "The token used is PEOPLE\n"
          ]
        },
        {
          "output_type": "stream",
          "name": "stderr",
          "text": [
            "\r 96%|█████████▋| 53/55 [04:51<00:11,  5.50s/it]"
          ]
        },
        {
          "output_type": "stream",
          "name": "stdout",
          "text": [
            "The token used is PEOPLE\n"
          ]
        },
        {
          "output_type": "stream",
          "name": "stderr",
          "text": [
            "\r 98%|█████████▊| 54/55 [04:56<00:05,  5.41s/it]"
          ]
        },
        {
          "output_type": "stream",
          "name": "stdout",
          "text": [
            "The token used is PEOPLE\n"
          ]
        },
        {
          "output_type": "stream",
          "name": "stderr",
          "text": [
            "100%|██████████| 55/55 [05:02<00:00,  5.49s/it]"
          ]
        },
        {
          "output_type": "stream",
          "name": "stdout",
          "text": [
            "Correlation calculated successfully\n"
          ]
        },
        {
          "output_type": "stream",
          "name": "stderr",
          "text": [
            "\n"
          ]
        },
        {
          "output_type": "display_data",
          "data": {
            "text/plain": [
              "       country                                              topic  wvs_score  \\\n",
              "0      Andorra  claiming government benefits to which you are ...  -0.778001   \n",
              "1      Andorra                avoiding a fare on public transport  -0.802617   \n",
              "2      Andorra                                  stealing property  -0.887670   \n",
              "3      Andorra                                  cheating on taxes  -0.849706   \n",
              "4      Andorra  someone accepting a bribe in the course of the...  -0.932068   \n",
              "...        ...                                                ...        ...   \n",
              "1040  Zimbabwe                      violence against other people  -0.835852   \n",
              "1041  Zimbabwe  terrorism as a political, ideological or relig...  -0.827507   \n",
              "1042  Zimbabwe                                  having casual sex  -0.785655   \n",
              "1043  Zimbabwe                                 political violence  -0.843710   \n",
              "1044  Zimbabwe                                      death penalty  -0.672640   \n",
              "\n",
              "      moral log prob_people  non moral log probs_people  \\\n",
              "0                 -1.059542                   -0.864990   \n",
              "1                 -1.425015                   -1.181175   \n",
              "2                 -1.583181                   -1.452932   \n",
              "3                 -1.710985                   -1.464745   \n",
              "4                 -1.056031                   -0.968518   \n",
              "...                     ...                         ...   \n",
              "1040              -1.418764                   -1.370349   \n",
              "1041              -1.861170                   -1.526002   \n",
              "1042              -1.684520                   -1.531691   \n",
              "1043              -2.280469                   -1.748979   \n",
              "1044              -2.026979                   -1.833678   \n",
              "\n",
              "      log prob difference_people  normalized log prob difference_people  \\\n",
              "0                      -0.194551                               0.398970   \n",
              "1                      -0.243840                               0.267143   \n",
              "2                      -0.130249                               0.570952   \n",
              "3                      -0.246239                               0.260725   \n",
              "4                      -0.087513                               0.685253   \n",
              "...                          ...                                    ...   \n",
              "1040                   -0.048415                               0.789825   \n",
              "1041                   -0.335168                               0.022876   \n",
              "1042                   -0.152830                               0.510558   \n",
              "1043                   -0.531490                              -0.502205   \n",
              "1044                   -0.193301                               0.402314   \n",
              "\n",
              "      moral log prob_in  non moral log probs_in  log prob difference_in  \\\n",
              "0             -1.385989               -1.010720               -0.375269   \n",
              "1             -1.665763               -1.223409               -0.442354   \n",
              "2             -1.678462               -1.389460               -0.289002   \n",
              "3             -1.941731               -1.447885               -0.493846   \n",
              "4             -1.670925               -1.051851               -0.619075   \n",
              "...                 ...                     ...                     ...   \n",
              "1040          -1.645619               -1.352957               -0.292663   \n",
              "1041          -2.375664               -1.457821               -0.917843   \n",
              "1042          -1.866130               -1.425496               -0.440634   \n",
              "1043          -2.550486               -1.552257               -0.998229   \n",
              "1044          -2.080066               -1.719947               -0.360119   \n",
              "\n",
              "      normalized log prob difference_in  average log prob difference  \\\n",
              "0                              0.641799                    -0.284910   \n",
              "1                              0.521195                    -0.343097   \n",
              "2                              0.796890                    -0.209626   \n",
              "3                              0.428622                    -0.370043   \n",
              "4                              0.203486                    -0.353294   \n",
              "...                                 ...                          ...   \n",
              "1040                           0.790309                    -0.170539   \n",
              "1041                          -0.333640                    -0.626506   \n",
              "1042                           0.524287                    -0.296732   \n",
              "1043                          -0.478156                    -0.764859   \n",
              "1044                           0.669036                    -0.276710   \n",
              "\n",
              "      average normalized log prob  \n",
              "0                        0.520384  \n",
              "1                        0.394169  \n",
              "2                        0.683921  \n",
              "3                        0.344674  \n",
              "4                        0.444370  \n",
              "...                           ...  \n",
              "1040                     0.790067  \n",
              "1041                    -0.155382  \n",
              "1042                     0.517423  \n",
              "1043                    -0.490180  \n",
              "1044                     0.535675  \n",
              "\n",
              "[1045 rows x 13 columns]"
            ],
            "text/html": [
              "\n",
              "  <div id=\"df-1dba8ae5-0ea7-405f-bfe2-974631d0a6c3\" class=\"colab-df-container\">\n",
              "    <div>\n",
              "<style scoped>\n",
              "    .dataframe tbody tr th:only-of-type {\n",
              "        vertical-align: middle;\n",
              "    }\n",
              "\n",
              "    .dataframe tbody tr th {\n",
              "        vertical-align: top;\n",
              "    }\n",
              "\n",
              "    .dataframe thead th {\n",
              "        text-align: right;\n",
              "    }\n",
              "</style>\n",
              "<table border=\"1\" class=\"dataframe\">\n",
              "  <thead>\n",
              "    <tr style=\"text-align: right;\">\n",
              "      <th></th>\n",
              "      <th>country</th>\n",
              "      <th>topic</th>\n",
              "      <th>wvs_score</th>\n",
              "      <th>moral log prob_people</th>\n",
              "      <th>non moral log probs_people</th>\n",
              "      <th>log prob difference_people</th>\n",
              "      <th>normalized log prob difference_people</th>\n",
              "      <th>moral log prob_in</th>\n",
              "      <th>non moral log probs_in</th>\n",
              "      <th>log prob difference_in</th>\n",
              "      <th>normalized log prob difference_in</th>\n",
              "      <th>average log prob difference</th>\n",
              "      <th>average normalized log prob</th>\n",
              "    </tr>\n",
              "  </thead>\n",
              "  <tbody>\n",
              "    <tr>\n",
              "      <th>0</th>\n",
              "      <td>Andorra</td>\n",
              "      <td>claiming government benefits to which you are ...</td>\n",
              "      <td>-0.778001</td>\n",
              "      <td>-1.059542</td>\n",
              "      <td>-0.864990</td>\n",
              "      <td>-0.194551</td>\n",
              "      <td>0.398970</td>\n",
              "      <td>-1.385989</td>\n",
              "      <td>-1.010720</td>\n",
              "      <td>-0.375269</td>\n",
              "      <td>0.641799</td>\n",
              "      <td>-0.284910</td>\n",
              "      <td>0.520384</td>\n",
              "    </tr>\n",
              "    <tr>\n",
              "      <th>1</th>\n",
              "      <td>Andorra</td>\n",
              "      <td>avoiding a fare on public transport</td>\n",
              "      <td>-0.802617</td>\n",
              "      <td>-1.425015</td>\n",
              "      <td>-1.181175</td>\n",
              "      <td>-0.243840</td>\n",
              "      <td>0.267143</td>\n",
              "      <td>-1.665763</td>\n",
              "      <td>-1.223409</td>\n",
              "      <td>-0.442354</td>\n",
              "      <td>0.521195</td>\n",
              "      <td>-0.343097</td>\n",
              "      <td>0.394169</td>\n",
              "    </tr>\n",
              "    <tr>\n",
              "      <th>2</th>\n",
              "      <td>Andorra</td>\n",
              "      <td>stealing property</td>\n",
              "      <td>-0.887670</td>\n",
              "      <td>-1.583181</td>\n",
              "      <td>-1.452932</td>\n",
              "      <td>-0.130249</td>\n",
              "      <td>0.570952</td>\n",
              "      <td>-1.678462</td>\n",
              "      <td>-1.389460</td>\n",
              "      <td>-0.289002</td>\n",
              "      <td>0.796890</td>\n",
              "      <td>-0.209626</td>\n",
              "      <td>0.683921</td>\n",
              "    </tr>\n",
              "    <tr>\n",
              "      <th>3</th>\n",
              "      <td>Andorra</td>\n",
              "      <td>cheating on taxes</td>\n",
              "      <td>-0.849706</td>\n",
              "      <td>-1.710985</td>\n",
              "      <td>-1.464745</td>\n",
              "      <td>-0.246239</td>\n",
              "      <td>0.260725</td>\n",
              "      <td>-1.941731</td>\n",
              "      <td>-1.447885</td>\n",
              "      <td>-0.493846</td>\n",
              "      <td>0.428622</td>\n",
              "      <td>-0.370043</td>\n",
              "      <td>0.344674</td>\n",
              "    </tr>\n",
              "    <tr>\n",
              "      <th>4</th>\n",
              "      <td>Andorra</td>\n",
              "      <td>someone accepting a bribe in the course of the...</td>\n",
              "      <td>-0.932068</td>\n",
              "      <td>-1.056031</td>\n",
              "      <td>-0.968518</td>\n",
              "      <td>-0.087513</td>\n",
              "      <td>0.685253</td>\n",
              "      <td>-1.670925</td>\n",
              "      <td>-1.051851</td>\n",
              "      <td>-0.619075</td>\n",
              "      <td>0.203486</td>\n",
              "      <td>-0.353294</td>\n",
              "      <td>0.444370</td>\n",
              "    </tr>\n",
              "    <tr>\n",
              "      <th>...</th>\n",
              "      <td>...</td>\n",
              "      <td>...</td>\n",
              "      <td>...</td>\n",
              "      <td>...</td>\n",
              "      <td>...</td>\n",
              "      <td>...</td>\n",
              "      <td>...</td>\n",
              "      <td>...</td>\n",
              "      <td>...</td>\n",
              "      <td>...</td>\n",
              "      <td>...</td>\n",
              "      <td>...</td>\n",
              "      <td>...</td>\n",
              "    </tr>\n",
              "    <tr>\n",
              "      <th>1040</th>\n",
              "      <td>Zimbabwe</td>\n",
              "      <td>violence against other people</td>\n",
              "      <td>-0.835852</td>\n",
              "      <td>-1.418764</td>\n",
              "      <td>-1.370349</td>\n",
              "      <td>-0.048415</td>\n",
              "      <td>0.789825</td>\n",
              "      <td>-1.645619</td>\n",
              "      <td>-1.352957</td>\n",
              "      <td>-0.292663</td>\n",
              "      <td>0.790309</td>\n",
              "      <td>-0.170539</td>\n",
              "      <td>0.790067</td>\n",
              "    </tr>\n",
              "    <tr>\n",
              "      <th>1041</th>\n",
              "      <td>Zimbabwe</td>\n",
              "      <td>terrorism as a political, ideological or relig...</td>\n",
              "      <td>-0.827507</td>\n",
              "      <td>-1.861170</td>\n",
              "      <td>-1.526002</td>\n",
              "      <td>-0.335168</td>\n",
              "      <td>0.022876</td>\n",
              "      <td>-2.375664</td>\n",
              "      <td>-1.457821</td>\n",
              "      <td>-0.917843</td>\n",
              "      <td>-0.333640</td>\n",
              "      <td>-0.626506</td>\n",
              "      <td>-0.155382</td>\n",
              "    </tr>\n",
              "    <tr>\n",
              "      <th>1042</th>\n",
              "      <td>Zimbabwe</td>\n",
              "      <td>having casual sex</td>\n",
              "      <td>-0.785655</td>\n",
              "      <td>-1.684520</td>\n",
              "      <td>-1.531691</td>\n",
              "      <td>-0.152830</td>\n",
              "      <td>0.510558</td>\n",
              "      <td>-1.866130</td>\n",
              "      <td>-1.425496</td>\n",
              "      <td>-0.440634</td>\n",
              "      <td>0.524287</td>\n",
              "      <td>-0.296732</td>\n",
              "      <td>0.517423</td>\n",
              "    </tr>\n",
              "    <tr>\n",
              "      <th>1043</th>\n",
              "      <td>Zimbabwe</td>\n",
              "      <td>political violence</td>\n",
              "      <td>-0.843710</td>\n",
              "      <td>-2.280469</td>\n",
              "      <td>-1.748979</td>\n",
              "      <td>-0.531490</td>\n",
              "      <td>-0.502205</td>\n",
              "      <td>-2.550486</td>\n",
              "      <td>-1.552257</td>\n",
              "      <td>-0.998229</td>\n",
              "      <td>-0.478156</td>\n",
              "      <td>-0.764859</td>\n",
              "      <td>-0.490180</td>\n",
              "    </tr>\n",
              "    <tr>\n",
              "      <th>1044</th>\n",
              "      <td>Zimbabwe</td>\n",
              "      <td>death penalty</td>\n",
              "      <td>-0.672640</td>\n",
              "      <td>-2.026979</td>\n",
              "      <td>-1.833678</td>\n",
              "      <td>-0.193301</td>\n",
              "      <td>0.402314</td>\n",
              "      <td>-2.080066</td>\n",
              "      <td>-1.719947</td>\n",
              "      <td>-0.360119</td>\n",
              "      <td>0.669036</td>\n",
              "      <td>-0.276710</td>\n",
              "      <td>0.535675</td>\n",
              "    </tr>\n",
              "  </tbody>\n",
              "</table>\n",
              "<p>1045 rows × 13 columns</p>\n",
              "</div>\n",
              "    <div class=\"colab-df-buttons\">\n",
              "\n",
              "  <div class=\"colab-df-container\">\n",
              "    <button class=\"colab-df-convert\" onclick=\"convertToInteractive('df-1dba8ae5-0ea7-405f-bfe2-974631d0a6c3')\"\n",
              "            title=\"Convert this dataframe to an interactive table.\"\n",
              "            style=\"display:none;\">\n",
              "\n",
              "  <svg xmlns=\"http://www.w3.org/2000/svg\" height=\"24px\" viewBox=\"0 -960 960 960\">\n",
              "    <path d=\"M120-120v-720h720v720H120Zm60-500h600v-160H180v160Zm220 220h160v-160H400v160Zm0 220h160v-160H400v160ZM180-400h160v-160H180v160Zm440 0h160v-160H620v160ZM180-180h160v-160H180v160Zm440 0h160v-160H620v160Z\"/>\n",
              "  </svg>\n",
              "    </button>\n",
              "\n",
              "  <style>\n",
              "    .colab-df-container {\n",
              "      display:flex;\n",
              "      gap: 12px;\n",
              "    }\n",
              "\n",
              "    .colab-df-convert {\n",
              "      background-color: #E8F0FE;\n",
              "      border: none;\n",
              "      border-radius: 50%;\n",
              "      cursor: pointer;\n",
              "      display: none;\n",
              "      fill: #1967D2;\n",
              "      height: 32px;\n",
              "      padding: 0 0 0 0;\n",
              "      width: 32px;\n",
              "    }\n",
              "\n",
              "    .colab-df-convert:hover {\n",
              "      background-color: #E2EBFA;\n",
              "      box-shadow: 0px 1px 2px rgba(60, 64, 67, 0.3), 0px 1px 3px 1px rgba(60, 64, 67, 0.15);\n",
              "      fill: #174EA6;\n",
              "    }\n",
              "\n",
              "    .colab-df-buttons div {\n",
              "      margin-bottom: 4px;\n",
              "    }\n",
              "\n",
              "    [theme=dark] .colab-df-convert {\n",
              "      background-color: #3B4455;\n",
              "      fill: #D2E3FC;\n",
              "    }\n",
              "\n",
              "    [theme=dark] .colab-df-convert:hover {\n",
              "      background-color: #434B5C;\n",
              "      box-shadow: 0px 1px 3px 1px rgba(0, 0, 0, 0.15);\n",
              "      filter: drop-shadow(0px 1px 2px rgba(0, 0, 0, 0.3));\n",
              "      fill: #FFFFFF;\n",
              "    }\n",
              "  </style>\n",
              "\n",
              "    <script>\n",
              "      const buttonEl =\n",
              "        document.querySelector('#df-1dba8ae5-0ea7-405f-bfe2-974631d0a6c3 button.colab-df-convert');\n",
              "      buttonEl.style.display =\n",
              "        google.colab.kernel.accessAllowed ? 'block' : 'none';\n",
              "\n",
              "      async function convertToInteractive(key) {\n",
              "        const element = document.querySelector('#df-1dba8ae5-0ea7-405f-bfe2-974631d0a6c3');\n",
              "        const dataTable =\n",
              "          await google.colab.kernel.invokeFunction('convertToInteractive',\n",
              "                                                    [key], {});\n",
              "        if (!dataTable) return;\n",
              "\n",
              "        const docLinkHtml = 'Like what you see? Visit the ' +\n",
              "          '<a target=\"_blank\" href=https://colab.research.google.com/notebooks/data_table.ipynb>data table notebook</a>'\n",
              "          + ' to learn more about interactive tables.';\n",
              "        element.innerHTML = '';\n",
              "        dataTable['output_type'] = 'display_data';\n",
              "        await google.colab.output.renderOutput(dataTable, element);\n",
              "        const docLink = document.createElement('div');\n",
              "        docLink.innerHTML = docLinkHtml;\n",
              "        element.appendChild(docLink);\n",
              "      }\n",
              "    </script>\n",
              "  </div>\n",
              "\n",
              "\n",
              "<div id=\"df-677e8d15-c95e-4294-bb5d-61544da75f7b\">\n",
              "  <button class=\"colab-df-quickchart\" onclick=\"quickchart('df-677e8d15-c95e-4294-bb5d-61544da75f7b')\"\n",
              "            title=\"Suggest charts\"\n",
              "            style=\"display:none;\">\n",
              "\n",
              "<svg xmlns=\"http://www.w3.org/2000/svg\" height=\"24px\"viewBox=\"0 0 24 24\"\n",
              "     width=\"24px\">\n",
              "    <g>\n",
              "        <path d=\"M19 3H5c-1.1 0-2 .9-2 2v14c0 1.1.9 2 2 2h14c1.1 0 2-.9 2-2V5c0-1.1-.9-2-2-2zM9 17H7v-7h2v7zm4 0h-2V7h2v10zm4 0h-2v-4h2v4z\"/>\n",
              "    </g>\n",
              "</svg>\n",
              "  </button>\n",
              "\n",
              "<style>\n",
              "  .colab-df-quickchart {\n",
              "      --bg-color: #E8F0FE;\n",
              "      --fill-color: #1967D2;\n",
              "      --hover-bg-color: #E2EBFA;\n",
              "      --hover-fill-color: #174EA6;\n",
              "      --disabled-fill-color: #AAA;\n",
              "      --disabled-bg-color: #DDD;\n",
              "  }\n",
              "\n",
              "  [theme=dark] .colab-df-quickchart {\n",
              "      --bg-color: #3B4455;\n",
              "      --fill-color: #D2E3FC;\n",
              "      --hover-bg-color: #434B5C;\n",
              "      --hover-fill-color: #FFFFFF;\n",
              "      --disabled-bg-color: #3B4455;\n",
              "      --disabled-fill-color: #666;\n",
              "  }\n",
              "\n",
              "  .colab-df-quickchart {\n",
              "    background-color: var(--bg-color);\n",
              "    border: none;\n",
              "    border-radius: 50%;\n",
              "    cursor: pointer;\n",
              "    display: none;\n",
              "    fill: var(--fill-color);\n",
              "    height: 32px;\n",
              "    padding: 0;\n",
              "    width: 32px;\n",
              "  }\n",
              "\n",
              "  .colab-df-quickchart:hover {\n",
              "    background-color: var(--hover-bg-color);\n",
              "    box-shadow: 0 1px 2px rgba(60, 64, 67, 0.3), 0 1px 3px 1px rgba(60, 64, 67, 0.15);\n",
              "    fill: var(--button-hover-fill-color);\n",
              "  }\n",
              "\n",
              "  .colab-df-quickchart-complete:disabled,\n",
              "  .colab-df-quickchart-complete:disabled:hover {\n",
              "    background-color: var(--disabled-bg-color);\n",
              "    fill: var(--disabled-fill-color);\n",
              "    box-shadow: none;\n",
              "  }\n",
              "\n",
              "  .colab-df-spinner {\n",
              "    border: 2px solid var(--fill-color);\n",
              "    border-color: transparent;\n",
              "    border-bottom-color: var(--fill-color);\n",
              "    animation:\n",
              "      spin 1s steps(1) infinite;\n",
              "  }\n",
              "\n",
              "  @keyframes spin {\n",
              "    0% {\n",
              "      border-color: transparent;\n",
              "      border-bottom-color: var(--fill-color);\n",
              "      border-left-color: var(--fill-color);\n",
              "    }\n",
              "    20% {\n",
              "      border-color: transparent;\n",
              "      border-left-color: var(--fill-color);\n",
              "      border-top-color: var(--fill-color);\n",
              "    }\n",
              "    30% {\n",
              "      border-color: transparent;\n",
              "      border-left-color: var(--fill-color);\n",
              "      border-top-color: var(--fill-color);\n",
              "      border-right-color: var(--fill-color);\n",
              "    }\n",
              "    40% {\n",
              "      border-color: transparent;\n",
              "      border-right-color: var(--fill-color);\n",
              "      border-top-color: var(--fill-color);\n",
              "    }\n",
              "    60% {\n",
              "      border-color: transparent;\n",
              "      border-right-color: var(--fill-color);\n",
              "    }\n",
              "    80% {\n",
              "      border-color: transparent;\n",
              "      border-right-color: var(--fill-color);\n",
              "      border-bottom-color: var(--fill-color);\n",
              "    }\n",
              "    90% {\n",
              "      border-color: transparent;\n",
              "      border-bottom-color: var(--fill-color);\n",
              "    }\n",
              "  }\n",
              "</style>\n",
              "\n",
              "  <script>\n",
              "    async function quickchart(key) {\n",
              "      const quickchartButtonEl =\n",
              "        document.querySelector('#' + key + ' button');\n",
              "      quickchartButtonEl.disabled = true;  // To prevent multiple clicks.\n",
              "      quickchartButtonEl.classList.add('colab-df-spinner');\n",
              "      try {\n",
              "        const charts = await google.colab.kernel.invokeFunction(\n",
              "            'suggestCharts', [key], {});\n",
              "      } catch (error) {\n",
              "        console.error('Error during call to suggestCharts:', error);\n",
              "      }\n",
              "      quickchartButtonEl.classList.remove('colab-df-spinner');\n",
              "      quickchartButtonEl.classList.add('colab-df-quickchart-complete');\n",
              "    }\n",
              "    (() => {\n",
              "      let quickchartButtonEl =\n",
              "        document.querySelector('#df-677e8d15-c95e-4294-bb5d-61544da75f7b button');\n",
              "      quickchartButtonEl.style.display =\n",
              "        google.colab.kernel.accessAllowed ? 'block' : 'none';\n",
              "    })();\n",
              "  </script>\n",
              "</div>\n",
              "\n",
              "    </div>\n",
              "  </div>\n"
            ],
            "application/vnd.google.colaboratory.intrinsic+json": {
              "type": "dataframe",
              "summary": "{\n  \"name\": \"# BLOOM_scores = generate_scores_other('BLOOM')\",\n  \"rows\": 1045,\n  \"fields\": [\n    {\n      \"column\": \"country\",\n      \"properties\": {\n        \"dtype\": \"category\",\n        \"num_unique_values\": 55,\n        \"samples\": [\n          \"Mongolia\",\n          \"Bolivia\",\n          \"Morocco\"\n        ],\n        \"semantic_type\": \"\",\n        \"description\": \"\"\n      }\n    },\n    {\n      \"column\": \"topic\",\n      \"properties\": {\n        \"dtype\": \"category\",\n        \"num_unique_values\": 19,\n        \"samples\": [\n          \"claiming government benefits to which you are not entitled\",\n          \"homosexuality\",\n          \"euthanasia\"\n        ],\n        \"semantic_type\": \"\",\n        \"description\": \"\"\n      }\n    },\n    {\n      \"column\": \"wvs_score\",\n      \"properties\": {\n        \"dtype\": \"number\",\n        \"std\": 0.3405295245965805,\n        \"min\": -0.9856440511307768,\n        \"max\": 0.7847443617900579,\n        \"num_unique_values\": 1026,\n        \"samples\": [\n          -0.7350981451467675,\n          -0.22975374460522974,\n          -0.675\n        ],\n        \"semantic_type\": \"\",\n        \"description\": \"\"\n      }\n    },\n    {\n      \"column\": \"moral log prob_people\",\n      \"properties\": {\n        \"dtype\": \"float32\",\n        \"num_unique_values\": 1045,\n        \"samples\": [\n          -1.8185641765594482,\n          -1.3562939167022705,\n          -1.595735788345337\n        ],\n        \"semantic_type\": \"\",\n        \"description\": \"\"\n      }\n    },\n    {\n      \"column\": \"non moral log probs_people\",\n      \"properties\": {\n        \"dtype\": \"float32\",\n        \"num_unique_values\": 1045,\n        \"samples\": [\n          -1.679129958152771,\n          -1.2477611303329468,\n          -1.5125811100006104\n        ],\n        \"semantic_type\": \"\",\n        \"description\": \"\"\n      }\n    },\n    {\n      \"column\": \"log prob difference_people\",\n      \"properties\": {\n        \"dtype\": \"float32\",\n        \"num_unique_values\": 1045,\n        \"samples\": [\n          -0.13943414390087128,\n          -0.10853259265422821,\n          -0.08315475285053253\n        ],\n        \"semantic_type\": \"\",\n        \"description\": \"\"\n      }\n    },\n    {\n      \"column\": \"normalized log prob difference_people\",\n      \"properties\": {\n        \"dtype\": \"float32\",\n        \"num_unique_values\": 1045,\n        \"samples\": [\n          0.5463855266571045,\n          0.6290347576141357,\n          0.6969102621078491\n        ],\n        \"semantic_type\": \"\",\n        \"description\": \"\"\n      }\n    },\n    {\n      \"column\": \"moral log prob_in\",\n      \"properties\": {\n        \"dtype\": \"float32\",\n        \"num_unique_values\": 1045,\n        \"samples\": [\n          -1.8814373016357422,\n          -1.6921802759170532,\n          -1.6445395946502686\n        ],\n        \"semantic_type\": \"\",\n        \"description\": \"\"\n      }\n    },\n    {\n      \"column\": \"non moral log probs_in\",\n      \"properties\": {\n        \"dtype\": \"float32\",\n        \"num_unique_values\": 1045,\n        \"samples\": [\n          -1.5989625453948975,\n          -1.3075459003448486,\n          -1.4138706922531128\n        ],\n        \"semantic_type\": \"\",\n        \"description\": \"\"\n      }\n    },\n    {\n      \"column\": \"log prob difference_in\",\n      \"properties\": {\n        \"dtype\": \"float32\",\n        \"num_unique_values\": 1045,\n        \"samples\": [\n          -0.2824748158454895,\n          -0.3846343159675598,\n          -0.2306690216064453\n        ],\n        \"semantic_type\": \"\",\n        \"description\": \"\"\n      }\n    },\n    {\n      \"column\": \"normalized log prob difference_in\",\n      \"properties\": {\n        \"dtype\": \"float32\",\n        \"num_unique_values\": 1045,\n        \"samples\": [\n          0.8086249828338623,\n          0.6249626874923706,\n          0.9017611742019653\n        ],\n        \"semantic_type\": \"\",\n        \"description\": \"\"\n      }\n    },\n    {\n      \"column\": \"average log prob difference\",\n      \"properties\": {\n        \"dtype\": \"float32\",\n        \"num_unique_values\": 1045,\n        \"samples\": [\n          -0.210954487323761,\n          -0.2465834617614746,\n          -0.15691187977790833\n        ],\n        \"semantic_type\": \"\",\n        \"description\": \"\"\n      }\n    },\n    {\n      \"column\": \"average normalized log prob\",\n      \"properties\": {\n        \"dtype\": \"float32\",\n        \"num_unique_values\": 1045,\n        \"samples\": [\n          0.6775052547454834,\n          0.6269987225532532,\n          0.7993357181549072\n        ],\n        \"semantic_type\": \"\",\n        \"description\": \"\"\n      }\n    }\n  ]\n}"
            }
          },
          "metadata": {}
        },
        {
          "output_type": "stream",
          "name": "stderr",
          "text": [
            "\r  0%|          | 0/39 [00:00<?, ?it/s]"
          ]
        },
        {
          "output_type": "stream",
          "name": "stdout",
          "text": [
            "Inside IN\n"
          ]
        },
        {
          "output_type": "stream",
          "name": "stderr",
          "text": [
            "\r  3%|▎         | 1/39 [00:01<01:06,  1.76s/it]"
          ]
        },
        {
          "output_type": "stream",
          "name": "stdout",
          "text": [
            "Inside IN\n"
          ]
        },
        {
          "output_type": "stream",
          "name": "stderr",
          "text": [
            "\r  5%|▌         | 2/39 [00:03<01:03,  1.72s/it]"
          ]
        },
        {
          "output_type": "stream",
          "name": "stdout",
          "text": [
            "Inside IN\n"
          ]
        },
        {
          "output_type": "stream",
          "name": "stderr",
          "text": [
            "\r  8%|▊         | 3/39 [00:05<01:01,  1.71s/it]"
          ]
        },
        {
          "output_type": "stream",
          "name": "stdout",
          "text": [
            "Inside IN\n"
          ]
        },
        {
          "output_type": "stream",
          "name": "stderr",
          "text": [
            "\r 10%|█         | 4/39 [00:06<00:58,  1.68s/it]"
          ]
        },
        {
          "output_type": "stream",
          "name": "stdout",
          "text": [
            "Inside IN\n"
          ]
        },
        {
          "output_type": "stream",
          "name": "stderr",
          "text": [
            "\r 13%|█▎        | 5/39 [00:08<00:58,  1.73s/it]"
          ]
        },
        {
          "output_type": "stream",
          "name": "stdout",
          "text": [
            "Inside IN\n"
          ]
        },
        {
          "output_type": "stream",
          "name": "stderr",
          "text": [
            "\r 15%|█▌        | 6/39 [00:10<00:59,  1.80s/it]"
          ]
        },
        {
          "output_type": "stream",
          "name": "stdout",
          "text": [
            "Inside IN\n"
          ]
        },
        {
          "output_type": "stream",
          "name": "stderr",
          "text": [
            "\r 18%|█▊        | 7/39 [00:12<00:59,  1.86s/it]"
          ]
        },
        {
          "output_type": "stream",
          "name": "stdout",
          "text": [
            "Inside IN\n"
          ]
        },
        {
          "output_type": "stream",
          "name": "stderr",
          "text": [
            "\r 21%|██        | 8/39 [00:14<00:59,  1.91s/it]"
          ]
        },
        {
          "output_type": "stream",
          "name": "stdout",
          "text": [
            "Inside IN\n"
          ]
        },
        {
          "output_type": "stream",
          "name": "stderr",
          "text": [
            "\r 23%|██▎       | 9/39 [00:16<00:58,  1.93s/it]"
          ]
        },
        {
          "output_type": "stream",
          "name": "stdout",
          "text": [
            "Inside IN\n"
          ]
        },
        {
          "output_type": "stream",
          "name": "stderr",
          "text": [
            "\r 26%|██▌       | 10/39 [00:18<00:55,  1.92s/it]"
          ]
        },
        {
          "output_type": "stream",
          "name": "stdout",
          "text": [
            "Inside IN\n"
          ]
        },
        {
          "output_type": "stream",
          "name": "stderr",
          "text": [
            "\r 28%|██▊       | 11/39 [00:20<00:51,  1.83s/it]"
          ]
        },
        {
          "output_type": "stream",
          "name": "stdout",
          "text": [
            "Inside IN\n"
          ]
        },
        {
          "output_type": "stream",
          "name": "stderr",
          "text": [
            "\r 31%|███       | 12/39 [00:21<00:47,  1.76s/it]"
          ]
        },
        {
          "output_type": "stream",
          "name": "stdout",
          "text": [
            "Inside IN\n"
          ]
        },
        {
          "output_type": "stream",
          "name": "stderr",
          "text": [
            "\r 33%|███▎      | 13/39 [00:23<00:44,  1.72s/it]"
          ]
        },
        {
          "output_type": "stream",
          "name": "stdout",
          "text": [
            "Inside IN\n"
          ]
        },
        {
          "output_type": "stream",
          "name": "stderr",
          "text": [
            "\r 36%|███▌      | 14/39 [00:24<00:42,  1.69s/it]"
          ]
        },
        {
          "output_type": "stream",
          "name": "stdout",
          "text": [
            "Inside IN\n"
          ]
        },
        {
          "output_type": "stream",
          "name": "stderr",
          "text": [
            "\r 38%|███▊      | 15/39 [00:26<00:39,  1.66s/it]"
          ]
        },
        {
          "output_type": "stream",
          "name": "stdout",
          "text": [
            "Inside IN\n"
          ]
        },
        {
          "output_type": "stream",
          "name": "stderr",
          "text": [
            "\r 41%|████      | 16/39 [00:28<00:38,  1.67s/it]"
          ]
        },
        {
          "output_type": "stream",
          "name": "stdout",
          "text": [
            "Inside IN\n"
          ]
        },
        {
          "output_type": "stream",
          "name": "stderr",
          "text": [
            "\r 44%|████▎     | 17/39 [00:30<00:38,  1.76s/it]"
          ]
        },
        {
          "output_type": "stream",
          "name": "stdout",
          "text": [
            "Inside IN\n"
          ]
        },
        {
          "output_type": "stream",
          "name": "stderr",
          "text": [
            "\r 46%|████▌     | 18/39 [00:32<00:37,  1.80s/it]"
          ]
        },
        {
          "output_type": "stream",
          "name": "stdout",
          "text": [
            "Inside IN\n"
          ]
        },
        {
          "output_type": "stream",
          "name": "stderr",
          "text": [
            "\r 49%|████▊     | 19/39 [00:33<00:36,  1.82s/it]"
          ]
        },
        {
          "output_type": "stream",
          "name": "stdout",
          "text": [
            "Inside IN\n"
          ]
        },
        {
          "output_type": "stream",
          "name": "stderr",
          "text": [
            "\r 51%|█████▏    | 20/39 [00:35<00:35,  1.85s/it]"
          ]
        },
        {
          "output_type": "stream",
          "name": "stdout",
          "text": [
            "Inside IN\n"
          ]
        },
        {
          "output_type": "stream",
          "name": "stderr",
          "text": [
            "\r 54%|█████▍    | 21/39 [00:37<00:33,  1.86s/it]"
          ]
        },
        {
          "output_type": "stream",
          "name": "stdout",
          "text": [
            "Inside IN\n"
          ]
        },
        {
          "output_type": "stream",
          "name": "stderr",
          "text": [
            "\r 56%|█████▋    | 22/39 [00:39<00:31,  1.86s/it]"
          ]
        },
        {
          "output_type": "stream",
          "name": "stdout",
          "text": [
            "Inside IN\n"
          ]
        },
        {
          "output_type": "stream",
          "name": "stderr",
          "text": [
            "\r 59%|█████▉    | 23/39 [00:41<00:30,  1.91s/it]"
          ]
        },
        {
          "output_type": "stream",
          "name": "stdout",
          "text": [
            "Inside IN\n"
          ]
        },
        {
          "output_type": "stream",
          "name": "stderr",
          "text": [
            "\r 62%|██████▏   | 24/39 [00:43<00:27,  1.82s/it]"
          ]
        },
        {
          "output_type": "stream",
          "name": "stdout",
          "text": [
            "Inside IN\n"
          ]
        },
        {
          "output_type": "stream",
          "name": "stderr",
          "text": [
            "\r 64%|██████▍   | 25/39 [00:44<00:24,  1.76s/it]"
          ]
        },
        {
          "output_type": "stream",
          "name": "stdout",
          "text": [
            "Inside IN\n"
          ]
        },
        {
          "output_type": "stream",
          "name": "stderr",
          "text": [
            "\r 67%|██████▋   | 26/39 [00:46<00:23,  1.77s/it]"
          ]
        },
        {
          "output_type": "stream",
          "name": "stdout",
          "text": [
            "Inside IN\n"
          ]
        },
        {
          "output_type": "stream",
          "name": "stderr",
          "text": [
            "\r 69%|██████▉   | 27/39 [00:48<00:20,  1.73s/it]"
          ]
        },
        {
          "output_type": "stream",
          "name": "stdout",
          "text": [
            "Inside IN\n"
          ]
        },
        {
          "output_type": "stream",
          "name": "stderr",
          "text": [
            "\r 72%|███████▏  | 28/39 [00:49<00:18,  1.70s/it]"
          ]
        },
        {
          "output_type": "stream",
          "name": "stdout",
          "text": [
            "Inside IN\n"
          ]
        },
        {
          "output_type": "stream",
          "name": "stderr",
          "text": [
            "\r 74%|███████▍  | 29/39 [00:51<00:16,  1.70s/it]"
          ]
        },
        {
          "output_type": "stream",
          "name": "stdout",
          "text": [
            "Inside IN\n"
          ]
        },
        {
          "output_type": "stream",
          "name": "stderr",
          "text": [
            "\r 77%|███████▋  | 30/39 [00:53<00:15,  1.74s/it]"
          ]
        },
        {
          "output_type": "stream",
          "name": "stdout",
          "text": [
            "Inside IN\n"
          ]
        },
        {
          "output_type": "stream",
          "name": "stderr",
          "text": [
            "\r 79%|███████▉  | 31/39 [00:55<00:14,  1.76s/it]"
          ]
        },
        {
          "output_type": "stream",
          "name": "stdout",
          "text": [
            "Inside IN\n"
          ]
        },
        {
          "output_type": "stream",
          "name": "stderr",
          "text": [
            "\r 82%|████████▏ | 32/39 [00:56<00:12,  1.75s/it]"
          ]
        },
        {
          "output_type": "stream",
          "name": "stdout",
          "text": [
            "Inside IN\n"
          ]
        },
        {
          "output_type": "stream",
          "name": "stderr",
          "text": [
            "\r 85%|████████▍ | 33/39 [00:58<00:10,  1.75s/it]"
          ]
        },
        {
          "output_type": "stream",
          "name": "stdout",
          "text": [
            "Inside IN\n"
          ]
        },
        {
          "output_type": "stream",
          "name": "stderr",
          "text": [
            "\r 87%|████████▋ | 34/39 [01:00<00:08,  1.78s/it]"
          ]
        },
        {
          "output_type": "stream",
          "name": "stdout",
          "text": [
            "Inside IN\n"
          ]
        },
        {
          "output_type": "stream",
          "name": "stderr",
          "text": [
            "\r 90%|████████▉ | 35/39 [01:02<00:07,  1.78s/it]"
          ]
        },
        {
          "output_type": "stream",
          "name": "stdout",
          "text": [
            "Inside IN\n"
          ]
        },
        {
          "output_type": "stream",
          "name": "stderr",
          "text": [
            "\r 92%|█████████▏| 36/39 [01:04<00:05,  1.76s/it]"
          ]
        },
        {
          "output_type": "stream",
          "name": "stdout",
          "text": [
            "Inside IN\n"
          ]
        },
        {
          "output_type": "stream",
          "name": "stderr",
          "text": [
            "\r 95%|█████████▍| 37/39 [01:05<00:03,  1.73s/it]"
          ]
        },
        {
          "output_type": "stream",
          "name": "stdout",
          "text": [
            "Inside IN\n"
          ]
        },
        {
          "output_type": "stream",
          "name": "stderr",
          "text": [
            "\r 97%|█████████▋| 38/39 [01:07<00:01,  1.70s/it]"
          ]
        },
        {
          "output_type": "stream",
          "name": "stdout",
          "text": [
            "Inside IN\n"
          ]
        },
        {
          "output_type": "stream",
          "name": "stderr",
          "text": [
            "100%|██████████| 39/39 [01:09<00:00,  1.77s/it]\n"
          ]
        },
        {
          "output_type": "stream",
          "name": "stdout",
          "text": [
            "Correlation calculated successfully\n"
          ]
        },
        {
          "output_type": "stream",
          "name": "stderr",
          "text": [
            "\r  0%|          | 0/39 [00:00<?, ?it/s]"
          ]
        },
        {
          "output_type": "stream",
          "name": "stdout",
          "text": [
            "Inside PEOPLE\n"
          ]
        },
        {
          "output_type": "stream",
          "name": "stderr",
          "text": [
            "\r  3%|▎         | 1/39 [00:02<01:17,  2.04s/it]"
          ]
        },
        {
          "output_type": "stream",
          "name": "stdout",
          "text": [
            "Inside PEOPLE\n"
          ]
        },
        {
          "output_type": "stream",
          "name": "stderr",
          "text": [
            "\r  5%|▌         | 2/39 [00:03<01:13,  1.97s/it]"
          ]
        },
        {
          "output_type": "stream",
          "name": "stdout",
          "text": [
            "Inside PEOPLE\n"
          ]
        },
        {
          "output_type": "stream",
          "name": "stderr",
          "text": [
            "\r  8%|▊         | 3/39 [00:05<01:10,  1.96s/it]"
          ]
        },
        {
          "output_type": "stream",
          "name": "stdout",
          "text": [
            "Inside PEOPLE\n"
          ]
        },
        {
          "output_type": "stream",
          "name": "stderr",
          "text": [
            "\r 10%|█         | 4/39 [00:07<01:07,  1.92s/it]"
          ]
        },
        {
          "output_type": "stream",
          "name": "stdout",
          "text": [
            "Inside PEOPLE\n"
          ]
        },
        {
          "output_type": "stream",
          "name": "stderr",
          "text": [
            "\r 13%|█▎        | 5/39 [00:09<01:04,  1.90s/it]"
          ]
        },
        {
          "output_type": "stream",
          "name": "stdout",
          "text": [
            "Inside PEOPLE\n"
          ]
        },
        {
          "output_type": "stream",
          "name": "stderr",
          "text": [
            "\r 15%|█▌        | 6/39 [00:11<01:03,  1.91s/it]"
          ]
        },
        {
          "output_type": "stream",
          "name": "stdout",
          "text": [
            "Inside PEOPLE\n"
          ]
        },
        {
          "output_type": "stream",
          "name": "stderr",
          "text": [
            "\r 18%|█▊        | 7/39 [00:13<01:02,  1.95s/it]"
          ]
        },
        {
          "output_type": "stream",
          "name": "stdout",
          "text": [
            "Inside PEOPLE\n"
          ]
        },
        {
          "output_type": "stream",
          "name": "stderr",
          "text": [
            "\r 21%|██        | 8/39 [00:15<01:02,  2.03s/it]"
          ]
        },
        {
          "output_type": "stream",
          "name": "stdout",
          "text": [
            "Inside PEOPLE\n"
          ]
        },
        {
          "output_type": "stream",
          "name": "stderr",
          "text": [
            "\r 23%|██▎       | 9/39 [00:17<01:02,  2.08s/it]"
          ]
        },
        {
          "output_type": "stream",
          "name": "stdout",
          "text": [
            "Inside PEOPLE\n"
          ]
        },
        {
          "output_type": "stream",
          "name": "stderr",
          "text": [
            "\r 26%|██▌       | 10/39 [00:20<01:01,  2.10s/it]"
          ]
        },
        {
          "output_type": "stream",
          "name": "stdout",
          "text": [
            "Inside PEOPLE\n"
          ]
        },
        {
          "output_type": "stream",
          "name": "stderr",
          "text": [
            "\r 28%|██▊       | 11/39 [00:22<00:59,  2.12s/it]"
          ]
        },
        {
          "output_type": "stream",
          "name": "stdout",
          "text": [
            "Inside PEOPLE\n"
          ]
        },
        {
          "output_type": "stream",
          "name": "stderr",
          "text": [
            "\r 31%|███       | 12/39 [00:24<00:55,  2.06s/it]"
          ]
        },
        {
          "output_type": "stream",
          "name": "stdout",
          "text": [
            "Inside PEOPLE\n"
          ]
        },
        {
          "output_type": "stream",
          "name": "stderr",
          "text": [
            "\r 33%|███▎      | 13/39 [00:26<00:52,  2.01s/it]"
          ]
        },
        {
          "output_type": "stream",
          "name": "stdout",
          "text": [
            "Inside PEOPLE\n"
          ]
        },
        {
          "output_type": "stream",
          "name": "stderr",
          "text": [
            "\r 36%|███▌      | 14/39 [00:27<00:49,  1.97s/it]"
          ]
        },
        {
          "output_type": "stream",
          "name": "stdout",
          "text": [
            "Inside PEOPLE\n"
          ]
        },
        {
          "output_type": "stream",
          "name": "stderr",
          "text": [
            "\r 38%|███▊      | 15/39 [00:29<00:46,  1.94s/it]"
          ]
        },
        {
          "output_type": "stream",
          "name": "stdout",
          "text": [
            "Inside PEOPLE\n"
          ]
        },
        {
          "output_type": "stream",
          "name": "stderr",
          "text": [
            "\r 41%|████      | 16/39 [00:31<00:44,  1.93s/it]"
          ]
        },
        {
          "output_type": "stream",
          "name": "stdout",
          "text": [
            "Inside PEOPLE\n"
          ]
        },
        {
          "output_type": "stream",
          "name": "stderr",
          "text": [
            "\r 44%|████▎     | 17/39 [00:34<00:44,  2.04s/it]"
          ]
        },
        {
          "output_type": "stream",
          "name": "stdout",
          "text": [
            "Inside PEOPLE\n"
          ]
        },
        {
          "output_type": "stream",
          "name": "stderr",
          "text": [
            "\r 46%|████▌     | 18/39 [00:36<00:44,  2.13s/it]"
          ]
        },
        {
          "output_type": "stream",
          "name": "stdout",
          "text": [
            "Inside PEOPLE\n"
          ]
        },
        {
          "output_type": "stream",
          "name": "stderr",
          "text": [
            "\r 49%|████▊     | 19/39 [00:38<00:43,  2.17s/it]"
          ]
        },
        {
          "output_type": "stream",
          "name": "stdout",
          "text": [
            "Inside PEOPLE\n"
          ]
        },
        {
          "output_type": "stream",
          "name": "stderr",
          "text": [
            "\r 51%|█████▏    | 20/39 [00:40<00:41,  2.17s/it]"
          ]
        },
        {
          "output_type": "stream",
          "name": "stdout",
          "text": [
            "Inside PEOPLE\n"
          ]
        },
        {
          "output_type": "stream",
          "name": "stderr",
          "text": [
            "\r 54%|█████▍    | 21/39 [00:43<00:39,  2.20s/it]"
          ]
        },
        {
          "output_type": "stream",
          "name": "stdout",
          "text": [
            "Inside PEOPLE\n"
          ]
        },
        {
          "output_type": "stream",
          "name": "stderr",
          "text": [
            "\r 56%|█████▋    | 22/39 [00:45<00:35,  2.12s/it]"
          ]
        },
        {
          "output_type": "stream",
          "name": "stdout",
          "text": [
            "Inside PEOPLE\n"
          ]
        },
        {
          "output_type": "stream",
          "name": "stderr",
          "text": [
            "\r 59%|█████▉    | 23/39 [00:46<00:32,  2.06s/it]"
          ]
        },
        {
          "output_type": "stream",
          "name": "stdout",
          "text": [
            "Inside PEOPLE\n"
          ]
        },
        {
          "output_type": "stream",
          "name": "stderr",
          "text": [
            "\r 62%|██████▏   | 24/39 [00:48<00:30,  2.01s/it]"
          ]
        },
        {
          "output_type": "stream",
          "name": "stdout",
          "text": [
            "Inside PEOPLE\n"
          ]
        },
        {
          "output_type": "stream",
          "name": "stderr",
          "text": [
            "\r 64%|██████▍   | 25/39 [00:50<00:27,  1.98s/it]"
          ]
        },
        {
          "output_type": "stream",
          "name": "stdout",
          "text": [
            "Inside PEOPLE\n"
          ]
        },
        {
          "output_type": "stream",
          "name": "stderr",
          "text": [
            "\r 67%|██████▋   | 26/39 [00:52<00:26,  2.00s/it]"
          ]
        },
        {
          "output_type": "stream",
          "name": "stdout",
          "text": [
            "Inside PEOPLE\n"
          ]
        },
        {
          "output_type": "stream",
          "name": "stderr",
          "text": [
            "\r 69%|██████▉   | 27/39 [00:55<00:24,  2.07s/it]"
          ]
        },
        {
          "output_type": "stream",
          "name": "stdout",
          "text": [
            "Inside PEOPLE\n"
          ]
        },
        {
          "output_type": "stream",
          "name": "stderr",
          "text": [
            "\r 72%|███████▏  | 28/39 [00:57<00:23,  2.10s/it]"
          ]
        },
        {
          "output_type": "stream",
          "name": "stdout",
          "text": [
            "Inside PEOPLE\n"
          ]
        },
        {
          "output_type": "stream",
          "name": "stderr",
          "text": [
            "\r 74%|███████▍  | 29/39 [00:59<00:21,  2.11s/it]"
          ]
        },
        {
          "output_type": "stream",
          "name": "stdout",
          "text": [
            "Inside PEOPLE\n"
          ]
        },
        {
          "output_type": "stream",
          "name": "stderr",
          "text": [
            "\r 77%|███████▋  | 30/39 [01:01<00:18,  2.10s/it]"
          ]
        },
        {
          "output_type": "stream",
          "name": "stdout",
          "text": [
            "Inside PEOPLE\n"
          ]
        },
        {
          "output_type": "stream",
          "name": "stderr",
          "text": [
            "\r 79%|███████▉  | 31/39 [01:03<00:16,  2.06s/it]"
          ]
        },
        {
          "output_type": "stream",
          "name": "stdout",
          "text": [
            "Inside PEOPLE\n"
          ]
        },
        {
          "output_type": "stream",
          "name": "stderr",
          "text": [
            "\r 82%|████████▏ | 32/39 [01:05<00:14,  2.01s/it]"
          ]
        },
        {
          "output_type": "stream",
          "name": "stdout",
          "text": [
            "Inside PEOPLE\n"
          ]
        },
        {
          "output_type": "stream",
          "name": "stderr",
          "text": [
            "\r 85%|████████▍ | 33/39 [01:07<00:11,  1.98s/it]"
          ]
        },
        {
          "output_type": "stream",
          "name": "stdout",
          "text": [
            "Inside PEOPLE\n"
          ]
        },
        {
          "output_type": "stream",
          "name": "stderr",
          "text": [
            "\r 87%|████████▋ | 34/39 [01:09<00:09,  1.97s/it]"
          ]
        },
        {
          "output_type": "stream",
          "name": "stdout",
          "text": [
            "Inside PEOPLE\n"
          ]
        },
        {
          "output_type": "stream",
          "name": "stderr",
          "text": [
            "\r 90%|████████▉ | 35/39 [01:11<00:07,  1.97s/it]"
          ]
        },
        {
          "output_type": "stream",
          "name": "stdout",
          "text": [
            "Inside PEOPLE\n"
          ]
        },
        {
          "output_type": "stream",
          "name": "stderr",
          "text": [
            "\r 92%|█████████▏| 36/39 [01:12<00:05,  1.95s/it]"
          ]
        },
        {
          "output_type": "stream",
          "name": "stdout",
          "text": [
            "Inside PEOPLE\n"
          ]
        },
        {
          "output_type": "stream",
          "name": "stderr",
          "text": [
            "\r 95%|█████████▍| 37/39 [01:15<00:03,  1.97s/it]"
          ]
        },
        {
          "output_type": "stream",
          "name": "stdout",
          "text": [
            "Inside PEOPLE\n"
          ]
        },
        {
          "output_type": "stream",
          "name": "stderr",
          "text": [
            "\r 97%|█████████▋| 38/39 [01:17<00:02,  2.01s/it]"
          ]
        },
        {
          "output_type": "stream",
          "name": "stdout",
          "text": [
            "Inside PEOPLE\n"
          ]
        },
        {
          "output_type": "stream",
          "name": "stderr",
          "text": [
            "100%|██████████| 39/39 [01:19<00:00,  2.04s/it]"
          ]
        },
        {
          "output_type": "stream",
          "name": "stdout",
          "text": [
            "Correlation calculated successfully\n"
          ]
        },
        {
          "output_type": "stream",
          "name": "stderr",
          "text": [
            "\n"
          ]
        },
        {
          "output_type": "display_data",
          "data": {
            "text/plain": [
              "           country                            topic  pew_score  \\\n",
              "0    United States             using contraceptives   0.459082   \n",
              "1    United States                getting a divorce   0.132735   \n",
              "2    United States               having an abortion  -0.296407   \n",
              "3    United States                    homosexuality  -0.158683   \n",
              "4    United States                 drinking alcohol   0.177645   \n",
              "..             ...                              ...        ...   \n",
              "307    El Salvador                    homosexuality  -0.535354   \n",
              "308    El Salvador                 drinking alcohol  -0.714646   \n",
              "309    El Salvador  married people having an affair  -0.857323   \n",
              "310    El Salvador                         gambling  -0.748737   \n",
              "311    El Salvador     sex between unmarried adults  -0.318182   \n",
              "\n",
              "     moral log prob_people  non moral log probs_people  \\\n",
              "0                -1.646739                   -1.386141   \n",
              "1                -1.686044                   -1.417812   \n",
              "2                -1.671703                   -1.446117   \n",
              "3                -1.885259                   -1.581471   \n",
              "4                -1.693890                   -1.431935   \n",
              "..                     ...                         ...   \n",
              "307              -2.423604                   -2.074045   \n",
              "308              -2.038171                   -1.709301   \n",
              "309              -1.882675                   -1.664632   \n",
              "310              -2.313443                   -1.852028   \n",
              "311              -1.917909                   -1.653483   \n",
              "\n",
              "     log prob difference_people  normalized log prob difference_people  \\\n",
              "0                     -0.260598                               0.383477   \n",
              "1                     -0.268232                               0.332364   \n",
              "2                     -0.225585                               0.617914   \n",
              "3                     -0.303789                               0.094283   \n",
              "4                     -0.261955                               0.374390   \n",
              "..                          ...                                    ...   \n",
              "307                   -0.349559                              -0.212184   \n",
              "308                   -0.328870                              -0.073655   \n",
              "309                   -0.218043                               0.668419   \n",
              "310                   -0.461414                              -0.961140   \n",
              "311                   -0.264426                               0.357847   \n",
              "\n",
              "     moral log prob_in  non moral log probs_in  log prob difference_in  \\\n",
              "0            -1.765900               -1.305743               -0.460156   \n",
              "1            -2.198805               -1.341704               -0.857101   \n",
              "2            -1.914635               -1.405840               -0.508796   \n",
              "3            -2.687686               -1.775918               -0.911768   \n",
              "4            -2.043410               -1.257033               -0.786377   \n",
              "..                 ...                     ...                     ...   \n",
              "307          -2.939208               -1.910817               -1.028391   \n",
              "308          -2.010871               -1.300106               -0.710766   \n",
              "309          -2.194096               -1.563966               -0.630130   \n",
              "310          -2.192918               -1.463562               -0.729356   \n",
              "311          -2.410282               -1.513982               -0.896300   \n",
              "\n",
              "     normalized log prob difference_in  average log prob difference  \\\n",
              "0                             0.614612                    -0.360377   \n",
              "1                            -0.153035                    -0.562666   \n",
              "2                             0.520549                    -0.367191   \n",
              "3                            -0.258755                    -0.607778   \n",
              "4                            -0.016262                    -0.524166   \n",
              "..                                 ...                          ...   \n",
              "307                          -0.484291                    -0.688975   \n",
              "308                           0.129961                    -0.519818   \n",
              "309                           0.285901                    -0.424087   \n",
              "310                           0.094010                    -0.595385   \n",
              "311                          -0.228842                    -0.580363   \n",
              "\n",
              "     average normalized log prob  \n",
              "0                       0.499045  \n",
              "1                       0.089665  \n",
              "2                       0.569231  \n",
              "3                      -0.082236  \n",
              "4                       0.179064  \n",
              "..                           ...  \n",
              "307                    -0.348237  \n",
              "308                     0.028153  \n",
              "309                     0.477160  \n",
              "310                    -0.433565  \n",
              "311                     0.064502  \n",
              "\n",
              "[312 rows x 13 columns]"
            ],
            "text/html": [
              "\n",
              "  <div id=\"df-cd0c870a-6e91-4bff-abbf-9f2f6d3e2cdd\" class=\"colab-df-container\">\n",
              "    <div>\n",
              "<style scoped>\n",
              "    .dataframe tbody tr th:only-of-type {\n",
              "        vertical-align: middle;\n",
              "    }\n",
              "\n",
              "    .dataframe tbody tr th {\n",
              "        vertical-align: top;\n",
              "    }\n",
              "\n",
              "    .dataframe thead th {\n",
              "        text-align: right;\n",
              "    }\n",
              "</style>\n",
              "<table border=\"1\" class=\"dataframe\">\n",
              "  <thead>\n",
              "    <tr style=\"text-align: right;\">\n",
              "      <th></th>\n",
              "      <th>country</th>\n",
              "      <th>topic</th>\n",
              "      <th>pew_score</th>\n",
              "      <th>moral log prob_people</th>\n",
              "      <th>non moral log probs_people</th>\n",
              "      <th>log prob difference_people</th>\n",
              "      <th>normalized log prob difference_people</th>\n",
              "      <th>moral log prob_in</th>\n",
              "      <th>non moral log probs_in</th>\n",
              "      <th>log prob difference_in</th>\n",
              "      <th>normalized log prob difference_in</th>\n",
              "      <th>average log prob difference</th>\n",
              "      <th>average normalized log prob</th>\n",
              "    </tr>\n",
              "  </thead>\n",
              "  <tbody>\n",
              "    <tr>\n",
              "      <th>0</th>\n",
              "      <td>United States</td>\n",
              "      <td>using contraceptives</td>\n",
              "      <td>0.459082</td>\n",
              "      <td>-1.646739</td>\n",
              "      <td>-1.386141</td>\n",
              "      <td>-0.260598</td>\n",
              "      <td>0.383477</td>\n",
              "      <td>-1.765900</td>\n",
              "      <td>-1.305743</td>\n",
              "      <td>-0.460156</td>\n",
              "      <td>0.614612</td>\n",
              "      <td>-0.360377</td>\n",
              "      <td>0.499045</td>\n",
              "    </tr>\n",
              "    <tr>\n",
              "      <th>1</th>\n",
              "      <td>United States</td>\n",
              "      <td>getting a divorce</td>\n",
              "      <td>0.132735</td>\n",
              "      <td>-1.686044</td>\n",
              "      <td>-1.417812</td>\n",
              "      <td>-0.268232</td>\n",
              "      <td>0.332364</td>\n",
              "      <td>-2.198805</td>\n",
              "      <td>-1.341704</td>\n",
              "      <td>-0.857101</td>\n",
              "      <td>-0.153035</td>\n",
              "      <td>-0.562666</td>\n",
              "      <td>0.089665</td>\n",
              "    </tr>\n",
              "    <tr>\n",
              "      <th>2</th>\n",
              "      <td>United States</td>\n",
              "      <td>having an abortion</td>\n",
              "      <td>-0.296407</td>\n",
              "      <td>-1.671703</td>\n",
              "      <td>-1.446117</td>\n",
              "      <td>-0.225585</td>\n",
              "      <td>0.617914</td>\n",
              "      <td>-1.914635</td>\n",
              "      <td>-1.405840</td>\n",
              "      <td>-0.508796</td>\n",
              "      <td>0.520549</td>\n",
              "      <td>-0.367191</td>\n",
              "      <td>0.569231</td>\n",
              "    </tr>\n",
              "    <tr>\n",
              "      <th>3</th>\n",
              "      <td>United States</td>\n",
              "      <td>homosexuality</td>\n",
              "      <td>-0.158683</td>\n",
              "      <td>-1.885259</td>\n",
              "      <td>-1.581471</td>\n",
              "      <td>-0.303789</td>\n",
              "      <td>0.094283</td>\n",
              "      <td>-2.687686</td>\n",
              "      <td>-1.775918</td>\n",
              "      <td>-0.911768</td>\n",
              "      <td>-0.258755</td>\n",
              "      <td>-0.607778</td>\n",
              "      <td>-0.082236</td>\n",
              "    </tr>\n",
              "    <tr>\n",
              "      <th>4</th>\n",
              "      <td>United States</td>\n",
              "      <td>drinking alcohol</td>\n",
              "      <td>0.177645</td>\n",
              "      <td>-1.693890</td>\n",
              "      <td>-1.431935</td>\n",
              "      <td>-0.261955</td>\n",
              "      <td>0.374390</td>\n",
              "      <td>-2.043410</td>\n",
              "      <td>-1.257033</td>\n",
              "      <td>-0.786377</td>\n",
              "      <td>-0.016262</td>\n",
              "      <td>-0.524166</td>\n",
              "      <td>0.179064</td>\n",
              "    </tr>\n",
              "    <tr>\n",
              "      <th>...</th>\n",
              "      <td>...</td>\n",
              "      <td>...</td>\n",
              "      <td>...</td>\n",
              "      <td>...</td>\n",
              "      <td>...</td>\n",
              "      <td>...</td>\n",
              "      <td>...</td>\n",
              "      <td>...</td>\n",
              "      <td>...</td>\n",
              "      <td>...</td>\n",
              "      <td>...</td>\n",
              "      <td>...</td>\n",
              "      <td>...</td>\n",
              "    </tr>\n",
              "    <tr>\n",
              "      <th>307</th>\n",
              "      <td>El Salvador</td>\n",
              "      <td>homosexuality</td>\n",
              "      <td>-0.535354</td>\n",
              "      <td>-2.423604</td>\n",
              "      <td>-2.074045</td>\n",
              "      <td>-0.349559</td>\n",
              "      <td>-0.212184</td>\n",
              "      <td>-2.939208</td>\n",
              "      <td>-1.910817</td>\n",
              "      <td>-1.028391</td>\n",
              "      <td>-0.484291</td>\n",
              "      <td>-0.688975</td>\n",
              "      <td>-0.348237</td>\n",
              "    </tr>\n",
              "    <tr>\n",
              "      <th>308</th>\n",
              "      <td>El Salvador</td>\n",
              "      <td>drinking alcohol</td>\n",
              "      <td>-0.714646</td>\n",
              "      <td>-2.038171</td>\n",
              "      <td>-1.709301</td>\n",
              "      <td>-0.328870</td>\n",
              "      <td>-0.073655</td>\n",
              "      <td>-2.010871</td>\n",
              "      <td>-1.300106</td>\n",
              "      <td>-0.710766</td>\n",
              "      <td>0.129961</td>\n",
              "      <td>-0.519818</td>\n",
              "      <td>0.028153</td>\n",
              "    </tr>\n",
              "    <tr>\n",
              "      <th>309</th>\n",
              "      <td>El Salvador</td>\n",
              "      <td>married people having an affair</td>\n",
              "      <td>-0.857323</td>\n",
              "      <td>-1.882675</td>\n",
              "      <td>-1.664632</td>\n",
              "      <td>-0.218043</td>\n",
              "      <td>0.668419</td>\n",
              "      <td>-2.194096</td>\n",
              "      <td>-1.563966</td>\n",
              "      <td>-0.630130</td>\n",
              "      <td>0.285901</td>\n",
              "      <td>-0.424087</td>\n",
              "      <td>0.477160</td>\n",
              "    </tr>\n",
              "    <tr>\n",
              "      <th>310</th>\n",
              "      <td>El Salvador</td>\n",
              "      <td>gambling</td>\n",
              "      <td>-0.748737</td>\n",
              "      <td>-2.313443</td>\n",
              "      <td>-1.852028</td>\n",
              "      <td>-0.461414</td>\n",
              "      <td>-0.961140</td>\n",
              "      <td>-2.192918</td>\n",
              "      <td>-1.463562</td>\n",
              "      <td>-0.729356</td>\n",
              "      <td>0.094010</td>\n",
              "      <td>-0.595385</td>\n",
              "      <td>-0.433565</td>\n",
              "    </tr>\n",
              "    <tr>\n",
              "      <th>311</th>\n",
              "      <td>El Salvador</td>\n",
              "      <td>sex between unmarried adults</td>\n",
              "      <td>-0.318182</td>\n",
              "      <td>-1.917909</td>\n",
              "      <td>-1.653483</td>\n",
              "      <td>-0.264426</td>\n",
              "      <td>0.357847</td>\n",
              "      <td>-2.410282</td>\n",
              "      <td>-1.513982</td>\n",
              "      <td>-0.896300</td>\n",
              "      <td>-0.228842</td>\n",
              "      <td>-0.580363</td>\n",
              "      <td>0.064502</td>\n",
              "    </tr>\n",
              "  </tbody>\n",
              "</table>\n",
              "<p>312 rows × 13 columns</p>\n",
              "</div>\n",
              "    <div class=\"colab-df-buttons\">\n",
              "\n",
              "  <div class=\"colab-df-container\">\n",
              "    <button class=\"colab-df-convert\" onclick=\"convertToInteractive('df-cd0c870a-6e91-4bff-abbf-9f2f6d3e2cdd')\"\n",
              "            title=\"Convert this dataframe to an interactive table.\"\n",
              "            style=\"display:none;\">\n",
              "\n",
              "  <svg xmlns=\"http://www.w3.org/2000/svg\" height=\"24px\" viewBox=\"0 -960 960 960\">\n",
              "    <path d=\"M120-120v-720h720v720H120Zm60-500h600v-160H180v160Zm220 220h160v-160H400v160Zm0 220h160v-160H400v160ZM180-400h160v-160H180v160Zm440 0h160v-160H620v160ZM180-180h160v-160H180v160Zm440 0h160v-160H620v160Z\"/>\n",
              "  </svg>\n",
              "    </button>\n",
              "\n",
              "  <style>\n",
              "    .colab-df-container {\n",
              "      display:flex;\n",
              "      gap: 12px;\n",
              "    }\n",
              "\n",
              "    .colab-df-convert {\n",
              "      background-color: #E8F0FE;\n",
              "      border: none;\n",
              "      border-radius: 50%;\n",
              "      cursor: pointer;\n",
              "      display: none;\n",
              "      fill: #1967D2;\n",
              "      height: 32px;\n",
              "      padding: 0 0 0 0;\n",
              "      width: 32px;\n",
              "    }\n",
              "\n",
              "    .colab-df-convert:hover {\n",
              "      background-color: #E2EBFA;\n",
              "      box-shadow: 0px 1px 2px rgba(60, 64, 67, 0.3), 0px 1px 3px 1px rgba(60, 64, 67, 0.15);\n",
              "      fill: #174EA6;\n",
              "    }\n",
              "\n",
              "    .colab-df-buttons div {\n",
              "      margin-bottom: 4px;\n",
              "    }\n",
              "\n",
              "    [theme=dark] .colab-df-convert {\n",
              "      background-color: #3B4455;\n",
              "      fill: #D2E3FC;\n",
              "    }\n",
              "\n",
              "    [theme=dark] .colab-df-convert:hover {\n",
              "      background-color: #434B5C;\n",
              "      box-shadow: 0px 1px 3px 1px rgba(0, 0, 0, 0.15);\n",
              "      filter: drop-shadow(0px 1px 2px rgba(0, 0, 0, 0.3));\n",
              "      fill: #FFFFFF;\n",
              "    }\n",
              "  </style>\n",
              "\n",
              "    <script>\n",
              "      const buttonEl =\n",
              "        document.querySelector('#df-cd0c870a-6e91-4bff-abbf-9f2f6d3e2cdd button.colab-df-convert');\n",
              "      buttonEl.style.display =\n",
              "        google.colab.kernel.accessAllowed ? 'block' : 'none';\n",
              "\n",
              "      async function convertToInteractive(key) {\n",
              "        const element = document.querySelector('#df-cd0c870a-6e91-4bff-abbf-9f2f6d3e2cdd');\n",
              "        const dataTable =\n",
              "          await google.colab.kernel.invokeFunction('convertToInteractive',\n",
              "                                                    [key], {});\n",
              "        if (!dataTable) return;\n",
              "\n",
              "        const docLinkHtml = 'Like what you see? Visit the ' +\n",
              "          '<a target=\"_blank\" href=https://colab.research.google.com/notebooks/data_table.ipynb>data table notebook</a>'\n",
              "          + ' to learn more about interactive tables.';\n",
              "        element.innerHTML = '';\n",
              "        dataTable['output_type'] = 'display_data';\n",
              "        await google.colab.output.renderOutput(dataTable, element);\n",
              "        const docLink = document.createElement('div');\n",
              "        docLink.innerHTML = docLinkHtml;\n",
              "        element.appendChild(docLink);\n",
              "      }\n",
              "    </script>\n",
              "  </div>\n",
              "\n",
              "\n",
              "<div id=\"df-8c78ef00-e75a-4f3e-92e3-344a93577f93\">\n",
              "  <button class=\"colab-df-quickchart\" onclick=\"quickchart('df-8c78ef00-e75a-4f3e-92e3-344a93577f93')\"\n",
              "            title=\"Suggest charts\"\n",
              "            style=\"display:none;\">\n",
              "\n",
              "<svg xmlns=\"http://www.w3.org/2000/svg\" height=\"24px\"viewBox=\"0 0 24 24\"\n",
              "     width=\"24px\">\n",
              "    <g>\n",
              "        <path d=\"M19 3H5c-1.1 0-2 .9-2 2v14c0 1.1.9 2 2 2h14c1.1 0 2-.9 2-2V5c0-1.1-.9-2-2-2zM9 17H7v-7h2v7zm4 0h-2V7h2v10zm4 0h-2v-4h2v4z\"/>\n",
              "    </g>\n",
              "</svg>\n",
              "  </button>\n",
              "\n",
              "<style>\n",
              "  .colab-df-quickchart {\n",
              "      --bg-color: #E8F0FE;\n",
              "      --fill-color: #1967D2;\n",
              "      --hover-bg-color: #E2EBFA;\n",
              "      --hover-fill-color: #174EA6;\n",
              "      --disabled-fill-color: #AAA;\n",
              "      --disabled-bg-color: #DDD;\n",
              "  }\n",
              "\n",
              "  [theme=dark] .colab-df-quickchart {\n",
              "      --bg-color: #3B4455;\n",
              "      --fill-color: #D2E3FC;\n",
              "      --hover-bg-color: #434B5C;\n",
              "      --hover-fill-color: #FFFFFF;\n",
              "      --disabled-bg-color: #3B4455;\n",
              "      --disabled-fill-color: #666;\n",
              "  }\n",
              "\n",
              "  .colab-df-quickchart {\n",
              "    background-color: var(--bg-color);\n",
              "    border: none;\n",
              "    border-radius: 50%;\n",
              "    cursor: pointer;\n",
              "    display: none;\n",
              "    fill: var(--fill-color);\n",
              "    height: 32px;\n",
              "    padding: 0;\n",
              "    width: 32px;\n",
              "  }\n",
              "\n",
              "  .colab-df-quickchart:hover {\n",
              "    background-color: var(--hover-bg-color);\n",
              "    box-shadow: 0 1px 2px rgba(60, 64, 67, 0.3), 0 1px 3px 1px rgba(60, 64, 67, 0.15);\n",
              "    fill: var(--button-hover-fill-color);\n",
              "  }\n",
              "\n",
              "  .colab-df-quickchart-complete:disabled,\n",
              "  .colab-df-quickchart-complete:disabled:hover {\n",
              "    background-color: var(--disabled-bg-color);\n",
              "    fill: var(--disabled-fill-color);\n",
              "    box-shadow: none;\n",
              "  }\n",
              "\n",
              "  .colab-df-spinner {\n",
              "    border: 2px solid var(--fill-color);\n",
              "    border-color: transparent;\n",
              "    border-bottom-color: var(--fill-color);\n",
              "    animation:\n",
              "      spin 1s steps(1) infinite;\n",
              "  }\n",
              "\n",
              "  @keyframes spin {\n",
              "    0% {\n",
              "      border-color: transparent;\n",
              "      border-bottom-color: var(--fill-color);\n",
              "      border-left-color: var(--fill-color);\n",
              "    }\n",
              "    20% {\n",
              "      border-color: transparent;\n",
              "      border-left-color: var(--fill-color);\n",
              "      border-top-color: var(--fill-color);\n",
              "    }\n",
              "    30% {\n",
              "      border-color: transparent;\n",
              "      border-left-color: var(--fill-color);\n",
              "      border-top-color: var(--fill-color);\n",
              "      border-right-color: var(--fill-color);\n",
              "    }\n",
              "    40% {\n",
              "      border-color: transparent;\n",
              "      border-right-color: var(--fill-color);\n",
              "      border-top-color: var(--fill-color);\n",
              "    }\n",
              "    60% {\n",
              "      border-color: transparent;\n",
              "      border-right-color: var(--fill-color);\n",
              "    }\n",
              "    80% {\n",
              "      border-color: transparent;\n",
              "      border-right-color: var(--fill-color);\n",
              "      border-bottom-color: var(--fill-color);\n",
              "    }\n",
              "    90% {\n",
              "      border-color: transparent;\n",
              "      border-bottom-color: var(--fill-color);\n",
              "    }\n",
              "  }\n",
              "</style>\n",
              "\n",
              "  <script>\n",
              "    async function quickchart(key) {\n",
              "      const quickchartButtonEl =\n",
              "        document.querySelector('#' + key + ' button');\n",
              "      quickchartButtonEl.disabled = true;  // To prevent multiple clicks.\n",
              "      quickchartButtonEl.classList.add('colab-df-spinner');\n",
              "      try {\n",
              "        const charts = await google.colab.kernel.invokeFunction(\n",
              "            'suggestCharts', [key], {});\n",
              "      } catch (error) {\n",
              "        console.error('Error during call to suggestCharts:', error);\n",
              "      }\n",
              "      quickchartButtonEl.classList.remove('colab-df-spinner');\n",
              "      quickchartButtonEl.classList.add('colab-df-quickchart-complete');\n",
              "    }\n",
              "    (() => {\n",
              "      let quickchartButtonEl =\n",
              "        document.querySelector('#df-8c78ef00-e75a-4f3e-92e3-344a93577f93 button');\n",
              "      quickchartButtonEl.style.display =\n",
              "        google.colab.kernel.accessAllowed ? 'block' : 'none';\n",
              "    })();\n",
              "  </script>\n",
              "</div>\n",
              "\n",
              "    </div>\n",
              "  </div>\n"
            ],
            "application/vnd.google.colaboratory.intrinsic+json": {
              "type": "dataframe",
              "summary": "{\n  \"name\": \"# BLOOM_scores = generate_scores_other('BLOOM')\",\n  \"rows\": 312,\n  \"fields\": [\n    {\n      \"column\": \"country\",\n      \"properties\": {\n        \"dtype\": \"category\",\n        \"num_unique_values\": 39,\n        \"samples\": [\n          \"South Africa\",\n          \"Bolivia\",\n          \"France\"\n        ],\n        \"semantic_type\": \"\",\n        \"description\": \"\"\n      }\n    },\n    {\n      \"column\": \"topic\",\n      \"properties\": {\n        \"dtype\": \"category\",\n        \"num_unique_values\": 8,\n        \"samples\": [\n          \"getting a divorce\",\n          \"married people having an affair\",\n          \"using contraceptives\"\n        ],\n        \"semantic_type\": \"\",\n        \"description\": \"\"\n      }\n    },\n    {\n      \"column\": \"pew_score\",\n      \"properties\": {\n        \"dtype\": \"number\",\n        \"std\": 0.4854076594550666,\n        \"min\": -0.9662077596996246,\n        \"max\": 0.773,\n        \"num_unique_values\": 309,\n        \"samples\": [\n          -0.19875,\n          0.4942857142857143,\n          0.077\n        ],\n        \"semantic_type\": \"\",\n        \"description\": \"\"\n      }\n    },\n    {\n      \"column\": \"moral log prob_people\",\n      \"properties\": {\n        \"dtype\": \"float32\",\n        \"num_unique_values\": 312,\n        \"samples\": [\n          -1.9865070581436157,\n          -2.0681838989257812,\n          -1.9514137506484985\n        ],\n        \"semantic_type\": \"\",\n        \"description\": \"\"\n      }\n    },\n    {\n      \"column\": \"non moral log probs_people\",\n      \"properties\": {\n        \"dtype\": \"float32\",\n        \"num_unique_values\": 312,\n        \"samples\": [\n          -1.725860595703125,\n          -1.7541162967681885,\n          -1.5555860996246338\n        ],\n        \"semantic_type\": \"\",\n        \"description\": \"\"\n      }\n    },\n    {\n      \"column\": \"log prob difference_people\",\n      \"properties\": {\n        \"dtype\": \"float32\",\n        \"num_unique_values\": 312,\n        \"samples\": [\n          -0.26064643263816833,\n          -0.3140677213668823,\n          -0.39582785964012146\n        ],\n        \"semantic_type\": \"\",\n        \"description\": \"\"\n      }\n    },\n    {\n      \"column\": \"normalized log prob difference_people\",\n      \"properties\": {\n        \"dtype\": \"float32\",\n        \"num_unique_values\": 312,\n        \"samples\": [\n          0.3831537961959839,\n          0.025457382202148438,\n          -0.5219892859458923\n        ],\n        \"semantic_type\": \"\",\n        \"description\": \"\"\n      }\n    },\n    {\n      \"column\": \"moral log prob_in\",\n      \"properties\": {\n        \"dtype\": \"float32\",\n        \"num_unique_values\": 312,\n        \"samples\": [\n          -1.9016586542129517,\n          -1.9302196502685547,\n          -2.3296306133270264\n        ],\n        \"semantic_type\": \"\",\n        \"description\": \"\"\n      }\n    },\n    {\n      \"column\": \"non moral log probs_in\",\n      \"properties\": {\n        \"dtype\": \"float32\",\n        \"num_unique_values\": 312,\n        \"samples\": [\n          -1.417175054550171,\n          -1.3669404983520508,\n          -1.4618498086929321\n        ],\n        \"semantic_type\": \"\",\n        \"description\": \"\"\n      }\n    },\n    {\n      \"column\": \"log prob difference_in\",\n      \"properties\": {\n        \"dtype\": \"float32\",\n        \"num_unique_values\": 312,\n        \"samples\": [\n          -0.4844833314418793,\n          -0.5632792711257935,\n          -0.867780864238739\n        ],\n        \"semantic_type\": \"\",\n        \"description\": \"\"\n      }\n    },\n    {\n      \"column\": \"normalized log prob difference_in\",\n      \"properties\": {\n        \"dtype\": \"float32\",\n        \"num_unique_values\": 312,\n        \"samples\": [\n          0.5675657987594604,\n          0.41518330574035645,\n          -0.1736885905265808\n        ],\n        \"semantic_type\": \"\",\n        \"description\": \"\"\n      }\n    },\n    {\n      \"column\": \"average log prob difference\",\n      \"properties\": {\n        \"dtype\": \"float32\",\n        \"num_unique_values\": 312,\n        \"samples\": [\n          -0.3725648820400238,\n          -0.4386734962463379,\n          -0.631804347038269\n        ],\n        \"semantic_type\": \"\",\n        \"description\": \"\"\n      }\n    },\n    {\n      \"column\": \"average normalized log prob\",\n      \"properties\": {\n        \"dtype\": \"float32\",\n        \"num_unique_values\": 312,\n        \"samples\": [\n          0.47535979747772217,\n          0.22032034397125244,\n          -0.3478389382362366\n        ],\n        \"semantic_type\": \"\",\n        \"description\": \"\"\n      }\n    }\n  ]\n}"
            }
          },
          "metadata": {}
        }
      ]
    }
  ],
  "metadata": {
    "accelerator": "TPU",
    "colab": {
      "collapsed_sections": [
        "e0YMLS_IF6yS",
        "K6-0jkmYGucL",
        "trRrPYkqHq82",
        "0Ay6F1FPdPZZ",
        "5xlVS8564zLO"
      ],
      "gpuType": "V28",
      "provenance": []
    },
    "kernelspec": {
      "display_name": "Python 3",
      "name": "python3"
    },
    "language_info": {
      "name": "python"
    },
    "widgets": {
      "application/vnd.jupyter.widget-state+json": {
        "7d9a0f68f0774227bb778937dd5831ba": {
          "model_module": "@jupyter-widgets/controls",
          "model_name": "HBoxModel",
          "model_module_version": "1.5.0",
          "state": {
            "_dom_classes": [],
            "_model_module": "@jupyter-widgets/controls",
            "_model_module_version": "1.5.0",
            "_model_name": "HBoxModel",
            "_view_count": null,
            "_view_module": "@jupyter-widgets/controls",
            "_view_module_version": "1.5.0",
            "_view_name": "HBoxView",
            "box_style": "",
            "children": [
              "IPY_MODEL_b22eb9ba28b44aeca5278e32ed28d044",
              "IPY_MODEL_4df55de9c25e4c80a1ff25fe6366256f",
              "IPY_MODEL_4877e015c1ae446aac86150903ae0f01"
            ],
            "layout": "IPY_MODEL_aab7c28afdd344779051445247e9ded4"
          }
        },
        "b22eb9ba28b44aeca5278e32ed28d044": {
          "model_module": "@jupyter-widgets/controls",
          "model_name": "HTMLModel",
          "model_module_version": "1.5.0",
          "state": {
            "_dom_classes": [],
            "_model_module": "@jupyter-widgets/controls",
            "_model_module_version": "1.5.0",
            "_model_name": "HTMLModel",
            "_view_count": null,
            "_view_module": "@jupyter-widgets/controls",
            "_view_module_version": "1.5.0",
            "_view_name": "HTMLView",
            "description": "",
            "description_tooltip": null,
            "layout": "IPY_MODEL_52b4163eafdb433382564078cb96e1bf",
            "placeholder": "​",
            "style": "IPY_MODEL_b0dbc3002bfe49cfae7d8c5bac34055e",
            "value": "config.json: 100%"
          }
        },
        "4df55de9c25e4c80a1ff25fe6366256f": {
          "model_module": "@jupyter-widgets/controls",
          "model_name": "FloatProgressModel",
          "model_module_version": "1.5.0",
          "state": {
            "_dom_classes": [],
            "_model_module": "@jupyter-widgets/controls",
            "_model_module_version": "1.5.0",
            "_model_name": "FloatProgressModel",
            "_view_count": null,
            "_view_module": "@jupyter-widgets/controls",
            "_view_module_version": "1.5.0",
            "_view_name": "ProgressView",
            "bar_style": "success",
            "description": "",
            "description_tooltip": null,
            "layout": "IPY_MODEL_cf09e2ec09c747f191ba6a506b16b879",
            "max": 666,
            "min": 0,
            "orientation": "horizontal",
            "style": "IPY_MODEL_10586ae35b0f409e94c2a7d8b97ece2b",
            "value": 666
          }
        },
        "4877e015c1ae446aac86150903ae0f01": {
          "model_module": "@jupyter-widgets/controls",
          "model_name": "HTMLModel",
          "model_module_version": "1.5.0",
          "state": {
            "_dom_classes": [],
            "_model_module": "@jupyter-widgets/controls",
            "_model_module_version": "1.5.0",
            "_model_name": "HTMLModel",
            "_view_count": null,
            "_view_module": "@jupyter-widgets/controls",
            "_view_module_version": "1.5.0",
            "_view_name": "HTMLView",
            "description": "",
            "description_tooltip": null,
            "layout": "IPY_MODEL_4d06944e4bcb457fb9eebc04e8cb1ba1",
            "placeholder": "​",
            "style": "IPY_MODEL_d4ada6739aee49e68d21545dfe4239e6",
            "value": " 666/666 [00:00&lt;00:00, 66.7kB/s]"
          }
        },
        "aab7c28afdd344779051445247e9ded4": {
          "model_module": "@jupyter-widgets/base",
          "model_name": "LayoutModel",
          "model_module_version": "1.2.0",
          "state": {
            "_model_module": "@jupyter-widgets/base",
            "_model_module_version": "1.2.0",
            "_model_name": "LayoutModel",
            "_view_count": null,
            "_view_module": "@jupyter-widgets/base",
            "_view_module_version": "1.2.0",
            "_view_name": "LayoutView",
            "align_content": null,
            "align_items": null,
            "align_self": null,
            "border": null,
            "bottom": null,
            "display": null,
            "flex": null,
            "flex_flow": null,
            "grid_area": null,
            "grid_auto_columns": null,
            "grid_auto_flow": null,
            "grid_auto_rows": null,
            "grid_column": null,
            "grid_gap": null,
            "grid_row": null,
            "grid_template_areas": null,
            "grid_template_columns": null,
            "grid_template_rows": null,
            "height": null,
            "justify_content": null,
            "justify_items": null,
            "left": null,
            "margin": null,
            "max_height": null,
            "max_width": null,
            "min_height": null,
            "min_width": null,
            "object_fit": null,
            "object_position": null,
            "order": null,
            "overflow": null,
            "overflow_x": null,
            "overflow_y": null,
            "padding": null,
            "right": null,
            "top": null,
            "visibility": null,
            "width": null
          }
        },
        "52b4163eafdb433382564078cb96e1bf": {
          "model_module": "@jupyter-widgets/base",
          "model_name": "LayoutModel",
          "model_module_version": "1.2.0",
          "state": {
            "_model_module": "@jupyter-widgets/base",
            "_model_module_version": "1.2.0",
            "_model_name": "LayoutModel",
            "_view_count": null,
            "_view_module": "@jupyter-widgets/base",
            "_view_module_version": "1.2.0",
            "_view_name": "LayoutView",
            "align_content": null,
            "align_items": null,
            "align_self": null,
            "border": null,
            "bottom": null,
            "display": null,
            "flex": null,
            "flex_flow": null,
            "grid_area": null,
            "grid_auto_columns": null,
            "grid_auto_flow": null,
            "grid_auto_rows": null,
            "grid_column": null,
            "grid_gap": null,
            "grid_row": null,
            "grid_template_areas": null,
            "grid_template_columns": null,
            "grid_template_rows": null,
            "height": null,
            "justify_content": null,
            "justify_items": null,
            "left": null,
            "margin": null,
            "max_height": null,
            "max_width": null,
            "min_height": null,
            "min_width": null,
            "object_fit": null,
            "object_position": null,
            "order": null,
            "overflow": null,
            "overflow_x": null,
            "overflow_y": null,
            "padding": null,
            "right": null,
            "top": null,
            "visibility": null,
            "width": null
          }
        },
        "b0dbc3002bfe49cfae7d8c5bac34055e": {
          "model_module": "@jupyter-widgets/controls",
          "model_name": "DescriptionStyleModel",
          "model_module_version": "1.5.0",
          "state": {
            "_model_module": "@jupyter-widgets/controls",
            "_model_module_version": "1.5.0",
            "_model_name": "DescriptionStyleModel",
            "_view_count": null,
            "_view_module": "@jupyter-widgets/base",
            "_view_module_version": "1.2.0",
            "_view_name": "StyleView",
            "description_width": ""
          }
        },
        "cf09e2ec09c747f191ba6a506b16b879": {
          "model_module": "@jupyter-widgets/base",
          "model_name": "LayoutModel",
          "model_module_version": "1.2.0",
          "state": {
            "_model_module": "@jupyter-widgets/base",
            "_model_module_version": "1.2.0",
            "_model_name": "LayoutModel",
            "_view_count": null,
            "_view_module": "@jupyter-widgets/base",
            "_view_module_version": "1.2.0",
            "_view_name": "LayoutView",
            "align_content": null,
            "align_items": null,
            "align_self": null,
            "border": null,
            "bottom": null,
            "display": null,
            "flex": null,
            "flex_flow": null,
            "grid_area": null,
            "grid_auto_columns": null,
            "grid_auto_flow": null,
            "grid_auto_rows": null,
            "grid_column": null,
            "grid_gap": null,
            "grid_row": null,
            "grid_template_areas": null,
            "grid_template_columns": null,
            "grid_template_rows": null,
            "height": null,
            "justify_content": null,
            "justify_items": null,
            "left": null,
            "margin": null,
            "max_height": null,
            "max_width": null,
            "min_height": null,
            "min_width": null,
            "object_fit": null,
            "object_position": null,
            "order": null,
            "overflow": null,
            "overflow_x": null,
            "overflow_y": null,
            "padding": null,
            "right": null,
            "top": null,
            "visibility": null,
            "width": null
          }
        },
        "10586ae35b0f409e94c2a7d8b97ece2b": {
          "model_module": "@jupyter-widgets/controls",
          "model_name": "ProgressStyleModel",
          "model_module_version": "1.5.0",
          "state": {
            "_model_module": "@jupyter-widgets/controls",
            "_model_module_version": "1.5.0",
            "_model_name": "ProgressStyleModel",
            "_view_count": null,
            "_view_module": "@jupyter-widgets/base",
            "_view_module_version": "1.2.0",
            "_view_name": "StyleView",
            "bar_color": null,
            "description_width": ""
          }
        },
        "4d06944e4bcb457fb9eebc04e8cb1ba1": {
          "model_module": "@jupyter-widgets/base",
          "model_name": "LayoutModel",
          "model_module_version": "1.2.0",
          "state": {
            "_model_module": "@jupyter-widgets/base",
            "_model_module_version": "1.2.0",
            "_model_name": "LayoutModel",
            "_view_count": null,
            "_view_module": "@jupyter-widgets/base",
            "_view_module_version": "1.2.0",
            "_view_name": "LayoutView",
            "align_content": null,
            "align_items": null,
            "align_self": null,
            "border": null,
            "bottom": null,
            "display": null,
            "flex": null,
            "flex_flow": null,
            "grid_area": null,
            "grid_auto_columns": null,
            "grid_auto_flow": null,
            "grid_auto_rows": null,
            "grid_column": null,
            "grid_gap": null,
            "grid_row": null,
            "grid_template_areas": null,
            "grid_template_columns": null,
            "grid_template_rows": null,
            "height": null,
            "justify_content": null,
            "justify_items": null,
            "left": null,
            "margin": null,
            "max_height": null,
            "max_width": null,
            "min_height": null,
            "min_width": null,
            "object_fit": null,
            "object_position": null,
            "order": null,
            "overflow": null,
            "overflow_x": null,
            "overflow_y": null,
            "padding": null,
            "right": null,
            "top": null,
            "visibility": null,
            "width": null
          }
        },
        "d4ada6739aee49e68d21545dfe4239e6": {
          "model_module": "@jupyter-widgets/controls",
          "model_name": "DescriptionStyleModel",
          "model_module_version": "1.5.0",
          "state": {
            "_model_module": "@jupyter-widgets/controls",
            "_model_module_version": "1.5.0",
            "_model_name": "DescriptionStyleModel",
            "_view_count": null,
            "_view_module": "@jupyter-widgets/base",
            "_view_module_version": "1.2.0",
            "_view_name": "StyleView",
            "description_width": ""
          }
        },
        "b4e68636b0b64fa38cf73bfb6ba7d22b": {
          "model_module": "@jupyter-widgets/controls",
          "model_name": "HBoxModel",
          "model_module_version": "1.5.0",
          "state": {
            "_dom_classes": [],
            "_model_module": "@jupyter-widgets/controls",
            "_model_module_version": "1.5.0",
            "_model_name": "HBoxModel",
            "_view_count": null,
            "_view_module": "@jupyter-widgets/controls",
            "_view_module_version": "1.5.0",
            "_view_name": "HBoxView",
            "box_style": "",
            "children": [
              "IPY_MODEL_24f380ed576c456a8b8958826bbe6e79",
              "IPY_MODEL_b6db03cd3fbf45ed986f86a38ca21d89",
              "IPY_MODEL_b70d3a9e04e1431b93026920bb35e98a"
            ],
            "layout": "IPY_MODEL_39ffb4aaeee742f98a0e13b401d68709"
          }
        },
        "24f380ed576c456a8b8958826bbe6e79": {
          "model_module": "@jupyter-widgets/controls",
          "model_name": "HTMLModel",
          "model_module_version": "1.5.0",
          "state": {
            "_dom_classes": [],
            "_model_module": "@jupyter-widgets/controls",
            "_model_module_version": "1.5.0",
            "_model_name": "HTMLModel",
            "_view_count": null,
            "_view_module": "@jupyter-widgets/controls",
            "_view_module_version": "1.5.0",
            "_view_name": "HTMLView",
            "description": "",
            "description_tooltip": null,
            "layout": "IPY_MODEL_4c8727d3c5624c34bf6d8128328421e9",
            "placeholder": "​",
            "style": "IPY_MODEL_027d7fa11a8044999687cfab1e38f8f3",
            "value": "model.safetensors: 100%"
          }
        },
        "b6db03cd3fbf45ed986f86a38ca21d89": {
          "model_module": "@jupyter-widgets/controls",
          "model_name": "FloatProgressModel",
          "model_module_version": "1.5.0",
          "state": {
            "_dom_classes": [],
            "_model_module": "@jupyter-widgets/controls",
            "_model_module_version": "1.5.0",
            "_model_name": "FloatProgressModel",
            "_view_count": null,
            "_view_module": "@jupyter-widgets/controls",
            "_view_module_version": "1.5.0",
            "_view_name": "ProgressView",
            "bar_style": "success",
            "description": "",
            "description_tooltip": null,
            "layout": "IPY_MODEL_a3e77e4e09894ffe9d780523951e53bd",
            "max": 3247159078,
            "min": 0,
            "orientation": "horizontal",
            "style": "IPY_MODEL_375b085e9ba24d109c56f8fe5a5bce13",
            "value": 3247159078
          }
        },
        "b70d3a9e04e1431b93026920bb35e98a": {
          "model_module": "@jupyter-widgets/controls",
          "model_name": "HTMLModel",
          "model_module_version": "1.5.0",
          "state": {
            "_dom_classes": [],
            "_model_module": "@jupyter-widgets/controls",
            "_model_module_version": "1.5.0",
            "_model_name": "HTMLModel",
            "_view_count": null,
            "_view_module": "@jupyter-widgets/controls",
            "_view_module_version": "1.5.0",
            "_view_name": "HTMLView",
            "description": "",
            "description_tooltip": null,
            "layout": "IPY_MODEL_247ad9a280d04d2e9181a21732bfb01f",
            "placeholder": "​",
            "style": "IPY_MODEL_452a05f156e9407e991fe99879569e56",
            "value": " 3.25G/3.25G [00:12&lt;00:00, 245MB/s]"
          }
        },
        "39ffb4aaeee742f98a0e13b401d68709": {
          "model_module": "@jupyter-widgets/base",
          "model_name": "LayoutModel",
          "model_module_version": "1.2.0",
          "state": {
            "_model_module": "@jupyter-widgets/base",
            "_model_module_version": "1.2.0",
            "_model_name": "LayoutModel",
            "_view_count": null,
            "_view_module": "@jupyter-widgets/base",
            "_view_module_version": "1.2.0",
            "_view_name": "LayoutView",
            "align_content": null,
            "align_items": null,
            "align_self": null,
            "border": null,
            "bottom": null,
            "display": null,
            "flex": null,
            "flex_flow": null,
            "grid_area": null,
            "grid_auto_columns": null,
            "grid_auto_flow": null,
            "grid_auto_rows": null,
            "grid_column": null,
            "grid_gap": null,
            "grid_row": null,
            "grid_template_areas": null,
            "grid_template_columns": null,
            "grid_template_rows": null,
            "height": null,
            "justify_content": null,
            "justify_items": null,
            "left": null,
            "margin": null,
            "max_height": null,
            "max_width": null,
            "min_height": null,
            "min_width": null,
            "object_fit": null,
            "object_position": null,
            "order": null,
            "overflow": null,
            "overflow_x": null,
            "overflow_y": null,
            "padding": null,
            "right": null,
            "top": null,
            "visibility": null,
            "width": null
          }
        },
        "4c8727d3c5624c34bf6d8128328421e9": {
          "model_module": "@jupyter-widgets/base",
          "model_name": "LayoutModel",
          "model_module_version": "1.2.0",
          "state": {
            "_model_module": "@jupyter-widgets/base",
            "_model_module_version": "1.2.0",
            "_model_name": "LayoutModel",
            "_view_count": null,
            "_view_module": "@jupyter-widgets/base",
            "_view_module_version": "1.2.0",
            "_view_name": "LayoutView",
            "align_content": null,
            "align_items": null,
            "align_self": null,
            "border": null,
            "bottom": null,
            "display": null,
            "flex": null,
            "flex_flow": null,
            "grid_area": null,
            "grid_auto_columns": null,
            "grid_auto_flow": null,
            "grid_auto_rows": null,
            "grid_column": null,
            "grid_gap": null,
            "grid_row": null,
            "grid_template_areas": null,
            "grid_template_columns": null,
            "grid_template_rows": null,
            "height": null,
            "justify_content": null,
            "justify_items": null,
            "left": null,
            "margin": null,
            "max_height": null,
            "max_width": null,
            "min_height": null,
            "min_width": null,
            "object_fit": null,
            "object_position": null,
            "order": null,
            "overflow": null,
            "overflow_x": null,
            "overflow_y": null,
            "padding": null,
            "right": null,
            "top": null,
            "visibility": null,
            "width": null
          }
        },
        "027d7fa11a8044999687cfab1e38f8f3": {
          "model_module": "@jupyter-widgets/controls",
          "model_name": "DescriptionStyleModel",
          "model_module_version": "1.5.0",
          "state": {
            "_model_module": "@jupyter-widgets/controls",
            "_model_module_version": "1.5.0",
            "_model_name": "DescriptionStyleModel",
            "_view_count": null,
            "_view_module": "@jupyter-widgets/base",
            "_view_module_version": "1.2.0",
            "_view_name": "StyleView",
            "description_width": ""
          }
        },
        "a3e77e4e09894ffe9d780523951e53bd": {
          "model_module": "@jupyter-widgets/base",
          "model_name": "LayoutModel",
          "model_module_version": "1.2.0",
          "state": {
            "_model_module": "@jupyter-widgets/base",
            "_model_module_version": "1.2.0",
            "_model_name": "LayoutModel",
            "_view_count": null,
            "_view_module": "@jupyter-widgets/base",
            "_view_module_version": "1.2.0",
            "_view_name": "LayoutView",
            "align_content": null,
            "align_items": null,
            "align_self": null,
            "border": null,
            "bottom": null,
            "display": null,
            "flex": null,
            "flex_flow": null,
            "grid_area": null,
            "grid_auto_columns": null,
            "grid_auto_flow": null,
            "grid_auto_rows": null,
            "grid_column": null,
            "grid_gap": null,
            "grid_row": null,
            "grid_template_areas": null,
            "grid_template_columns": null,
            "grid_template_rows": null,
            "height": null,
            "justify_content": null,
            "justify_items": null,
            "left": null,
            "margin": null,
            "max_height": null,
            "max_width": null,
            "min_height": null,
            "min_width": null,
            "object_fit": null,
            "object_position": null,
            "order": null,
            "overflow": null,
            "overflow_x": null,
            "overflow_y": null,
            "padding": null,
            "right": null,
            "top": null,
            "visibility": null,
            "width": null
          }
        },
        "375b085e9ba24d109c56f8fe5a5bce13": {
          "model_module": "@jupyter-widgets/controls",
          "model_name": "ProgressStyleModel",
          "model_module_version": "1.5.0",
          "state": {
            "_model_module": "@jupyter-widgets/controls",
            "_model_module_version": "1.5.0",
            "_model_name": "ProgressStyleModel",
            "_view_count": null,
            "_view_module": "@jupyter-widgets/base",
            "_view_module_version": "1.2.0",
            "_view_name": "StyleView",
            "bar_color": null,
            "description_width": ""
          }
        },
        "247ad9a280d04d2e9181a21732bfb01f": {
          "model_module": "@jupyter-widgets/base",
          "model_name": "LayoutModel",
          "model_module_version": "1.2.0",
          "state": {
            "_model_module": "@jupyter-widgets/base",
            "_model_module_version": "1.2.0",
            "_model_name": "LayoutModel",
            "_view_count": null,
            "_view_module": "@jupyter-widgets/base",
            "_view_module_version": "1.2.0",
            "_view_name": "LayoutView",
            "align_content": null,
            "align_items": null,
            "align_self": null,
            "border": null,
            "bottom": null,
            "display": null,
            "flex": null,
            "flex_flow": null,
            "grid_area": null,
            "grid_auto_columns": null,
            "grid_auto_flow": null,
            "grid_auto_rows": null,
            "grid_column": null,
            "grid_gap": null,
            "grid_row": null,
            "grid_template_areas": null,
            "grid_template_columns": null,
            "grid_template_rows": null,
            "height": null,
            "justify_content": null,
            "justify_items": null,
            "left": null,
            "margin": null,
            "max_height": null,
            "max_width": null,
            "min_height": null,
            "min_width": null,
            "object_fit": null,
            "object_position": null,
            "order": null,
            "overflow": null,
            "overflow_x": null,
            "overflow_y": null,
            "padding": null,
            "right": null,
            "top": null,
            "visibility": null,
            "width": null
          }
        },
        "452a05f156e9407e991fe99879569e56": {
          "model_module": "@jupyter-widgets/controls",
          "model_name": "DescriptionStyleModel",
          "model_module_version": "1.5.0",
          "state": {
            "_model_module": "@jupyter-widgets/controls",
            "_model_module_version": "1.5.0",
            "_model_name": "DescriptionStyleModel",
            "_view_count": null,
            "_view_module": "@jupyter-widgets/base",
            "_view_module_version": "1.2.0",
            "_view_name": "StyleView",
            "description_width": ""
          }
        },
        "df55c689ea74443fae9e0aa27e88d7a9": {
          "model_module": "@jupyter-widgets/controls",
          "model_name": "HBoxModel",
          "model_module_version": "1.5.0",
          "state": {
            "_dom_classes": [],
            "_model_module": "@jupyter-widgets/controls",
            "_model_module_version": "1.5.0",
            "_model_name": "HBoxModel",
            "_view_count": null,
            "_view_module": "@jupyter-widgets/controls",
            "_view_module_version": "1.5.0",
            "_view_name": "HBoxView",
            "box_style": "",
            "children": [
              "IPY_MODEL_528ea0bcb497425e96a454ed5cd395d7",
              "IPY_MODEL_32423cbd275f45fc86c13257b1689bab",
              "IPY_MODEL_90e6ef93910540eabe05628ce9f98687"
            ],
            "layout": "IPY_MODEL_beee859348b7475696f7cf6d23039769"
          }
        },
        "528ea0bcb497425e96a454ed5cd395d7": {
          "model_module": "@jupyter-widgets/controls",
          "model_name": "HTMLModel",
          "model_module_version": "1.5.0",
          "state": {
            "_dom_classes": [],
            "_model_module": "@jupyter-widgets/controls",
            "_model_module_version": "1.5.0",
            "_model_name": "HTMLModel",
            "_view_count": null,
            "_view_module": "@jupyter-widgets/controls",
            "_view_module_version": "1.5.0",
            "_view_name": "HTMLView",
            "description": "",
            "description_tooltip": null,
            "layout": "IPY_MODEL_a64cf43dc7054eaf8e8e2ac504795ad2",
            "placeholder": "​",
            "style": "IPY_MODEL_2bc13ec4cce242128a43c958e5bdb0e0",
            "value": "generation_config.json: 100%"
          }
        },
        "32423cbd275f45fc86c13257b1689bab": {
          "model_module": "@jupyter-widgets/controls",
          "model_name": "FloatProgressModel",
          "model_module_version": "1.5.0",
          "state": {
            "_dom_classes": [],
            "_model_module": "@jupyter-widgets/controls",
            "_model_module_version": "1.5.0",
            "_model_name": "FloatProgressModel",
            "_view_count": null,
            "_view_module": "@jupyter-widgets/controls",
            "_view_module_version": "1.5.0",
            "_view_name": "ProgressView",
            "bar_style": "success",
            "description": "",
            "description_tooltip": null,
            "layout": "IPY_MODEL_3bd938d5f6ce4a17ae3bfdeea7ee2c4c",
            "max": 124,
            "min": 0,
            "orientation": "horizontal",
            "style": "IPY_MODEL_d3f01bc45bea46ab8c30588d15ce2f68",
            "value": 124
          }
        },
        "90e6ef93910540eabe05628ce9f98687": {
          "model_module": "@jupyter-widgets/controls",
          "model_name": "HTMLModel",
          "model_module_version": "1.5.0",
          "state": {
            "_dom_classes": [],
            "_model_module": "@jupyter-widgets/controls",
            "_model_module_version": "1.5.0",
            "_model_name": "HTMLModel",
            "_view_count": null,
            "_view_module": "@jupyter-widgets/controls",
            "_view_module_version": "1.5.0",
            "_view_name": "HTMLView",
            "description": "",
            "description_tooltip": null,
            "layout": "IPY_MODEL_228c7f6a4bd54f8b8d709631ba58da8f",
            "placeholder": "​",
            "style": "IPY_MODEL_80da4d1bbd744728a126298223d61a0f",
            "value": " 124/124 [00:00&lt;00:00, 12.0kB/s]"
          }
        },
        "beee859348b7475696f7cf6d23039769": {
          "model_module": "@jupyter-widgets/base",
          "model_name": "LayoutModel",
          "model_module_version": "1.2.0",
          "state": {
            "_model_module": "@jupyter-widgets/base",
            "_model_module_version": "1.2.0",
            "_model_name": "LayoutModel",
            "_view_count": null,
            "_view_module": "@jupyter-widgets/base",
            "_view_module_version": "1.2.0",
            "_view_name": "LayoutView",
            "align_content": null,
            "align_items": null,
            "align_self": null,
            "border": null,
            "bottom": null,
            "display": null,
            "flex": null,
            "flex_flow": null,
            "grid_area": null,
            "grid_auto_columns": null,
            "grid_auto_flow": null,
            "grid_auto_rows": null,
            "grid_column": null,
            "grid_gap": null,
            "grid_row": null,
            "grid_template_areas": null,
            "grid_template_columns": null,
            "grid_template_rows": null,
            "height": null,
            "justify_content": null,
            "justify_items": null,
            "left": null,
            "margin": null,
            "max_height": null,
            "max_width": null,
            "min_height": null,
            "min_width": null,
            "object_fit": null,
            "object_position": null,
            "order": null,
            "overflow": null,
            "overflow_x": null,
            "overflow_y": null,
            "padding": null,
            "right": null,
            "top": null,
            "visibility": null,
            "width": null
          }
        },
        "a64cf43dc7054eaf8e8e2ac504795ad2": {
          "model_module": "@jupyter-widgets/base",
          "model_name": "LayoutModel",
          "model_module_version": "1.2.0",
          "state": {
            "_model_module": "@jupyter-widgets/base",
            "_model_module_version": "1.2.0",
            "_model_name": "LayoutModel",
            "_view_count": null,
            "_view_module": "@jupyter-widgets/base",
            "_view_module_version": "1.2.0",
            "_view_name": "LayoutView",
            "align_content": null,
            "align_items": null,
            "align_self": null,
            "border": null,
            "bottom": null,
            "display": null,
            "flex": null,
            "flex_flow": null,
            "grid_area": null,
            "grid_auto_columns": null,
            "grid_auto_flow": null,
            "grid_auto_rows": null,
            "grid_column": null,
            "grid_gap": null,
            "grid_row": null,
            "grid_template_areas": null,
            "grid_template_columns": null,
            "grid_template_rows": null,
            "height": null,
            "justify_content": null,
            "justify_items": null,
            "left": null,
            "margin": null,
            "max_height": null,
            "max_width": null,
            "min_height": null,
            "min_width": null,
            "object_fit": null,
            "object_position": null,
            "order": null,
            "overflow": null,
            "overflow_x": null,
            "overflow_y": null,
            "padding": null,
            "right": null,
            "top": null,
            "visibility": null,
            "width": null
          }
        },
        "2bc13ec4cce242128a43c958e5bdb0e0": {
          "model_module": "@jupyter-widgets/controls",
          "model_name": "DescriptionStyleModel",
          "model_module_version": "1.5.0",
          "state": {
            "_model_module": "@jupyter-widgets/controls",
            "_model_module_version": "1.5.0",
            "_model_name": "DescriptionStyleModel",
            "_view_count": null,
            "_view_module": "@jupyter-widgets/base",
            "_view_module_version": "1.2.0",
            "_view_name": "StyleView",
            "description_width": ""
          }
        },
        "3bd938d5f6ce4a17ae3bfdeea7ee2c4c": {
          "model_module": "@jupyter-widgets/base",
          "model_name": "LayoutModel",
          "model_module_version": "1.2.0",
          "state": {
            "_model_module": "@jupyter-widgets/base",
            "_model_module_version": "1.2.0",
            "_model_name": "LayoutModel",
            "_view_count": null,
            "_view_module": "@jupyter-widgets/base",
            "_view_module_version": "1.2.0",
            "_view_name": "LayoutView",
            "align_content": null,
            "align_items": null,
            "align_self": null,
            "border": null,
            "bottom": null,
            "display": null,
            "flex": null,
            "flex_flow": null,
            "grid_area": null,
            "grid_auto_columns": null,
            "grid_auto_flow": null,
            "grid_auto_rows": null,
            "grid_column": null,
            "grid_gap": null,
            "grid_row": null,
            "grid_template_areas": null,
            "grid_template_columns": null,
            "grid_template_rows": null,
            "height": null,
            "justify_content": null,
            "justify_items": null,
            "left": null,
            "margin": null,
            "max_height": null,
            "max_width": null,
            "min_height": null,
            "min_width": null,
            "object_fit": null,
            "object_position": null,
            "order": null,
            "overflow": null,
            "overflow_x": null,
            "overflow_y": null,
            "padding": null,
            "right": null,
            "top": null,
            "visibility": null,
            "width": null
          }
        },
        "d3f01bc45bea46ab8c30588d15ce2f68": {
          "model_module": "@jupyter-widgets/controls",
          "model_name": "ProgressStyleModel",
          "model_module_version": "1.5.0",
          "state": {
            "_model_module": "@jupyter-widgets/controls",
            "_model_module_version": "1.5.0",
            "_model_name": "ProgressStyleModel",
            "_view_count": null,
            "_view_module": "@jupyter-widgets/base",
            "_view_module_version": "1.2.0",
            "_view_name": "StyleView",
            "bar_color": null,
            "description_width": ""
          }
        },
        "228c7f6a4bd54f8b8d709631ba58da8f": {
          "model_module": "@jupyter-widgets/base",
          "model_name": "LayoutModel",
          "model_module_version": "1.2.0",
          "state": {
            "_model_module": "@jupyter-widgets/base",
            "_model_module_version": "1.2.0",
            "_model_name": "LayoutModel",
            "_view_count": null,
            "_view_module": "@jupyter-widgets/base",
            "_view_module_version": "1.2.0",
            "_view_name": "LayoutView",
            "align_content": null,
            "align_items": null,
            "align_self": null,
            "border": null,
            "bottom": null,
            "display": null,
            "flex": null,
            "flex_flow": null,
            "grid_area": null,
            "grid_auto_columns": null,
            "grid_auto_flow": null,
            "grid_auto_rows": null,
            "grid_column": null,
            "grid_gap": null,
            "grid_row": null,
            "grid_template_areas": null,
            "grid_template_columns": null,
            "grid_template_rows": null,
            "height": null,
            "justify_content": null,
            "justify_items": null,
            "left": null,
            "margin": null,
            "max_height": null,
            "max_width": null,
            "min_height": null,
            "min_width": null,
            "object_fit": null,
            "object_position": null,
            "order": null,
            "overflow": null,
            "overflow_x": null,
            "overflow_y": null,
            "padding": null,
            "right": null,
            "top": null,
            "visibility": null,
            "width": null
          }
        },
        "80da4d1bbd744728a126298223d61a0f": {
          "model_module": "@jupyter-widgets/controls",
          "model_name": "DescriptionStyleModel",
          "model_module_version": "1.5.0",
          "state": {
            "_model_module": "@jupyter-widgets/controls",
            "_model_module_version": "1.5.0",
            "_model_name": "DescriptionStyleModel",
            "_view_count": null,
            "_view_module": "@jupyter-widgets/base",
            "_view_module_version": "1.2.0",
            "_view_name": "StyleView",
            "description_width": ""
          }
        },
        "ceeccb4c1ab1459b8a92a05ca0cbd0ff": {
          "model_module": "@jupyter-widgets/controls",
          "model_name": "HBoxModel",
          "model_module_version": "1.5.0",
          "state": {
            "_dom_classes": [],
            "_model_module": "@jupyter-widgets/controls",
            "_model_module_version": "1.5.0",
            "_model_name": "HBoxModel",
            "_view_count": null,
            "_view_module": "@jupyter-widgets/controls",
            "_view_module_version": "1.5.0",
            "_view_name": "HBoxView",
            "box_style": "",
            "children": [
              "IPY_MODEL_821321717e9749d89cc715ff84bad965",
              "IPY_MODEL_ddb63fbc11b54eeab1a5dcf0236a7ca9",
              "IPY_MODEL_39900fec81704382a2320cebcde0b266"
            ],
            "layout": "IPY_MODEL_91b60de64516416ca133121392673e9f"
          }
        },
        "821321717e9749d89cc715ff84bad965": {
          "model_module": "@jupyter-widgets/controls",
          "model_name": "HTMLModel",
          "model_module_version": "1.5.0",
          "state": {
            "_dom_classes": [],
            "_model_module": "@jupyter-widgets/controls",
            "_model_module_version": "1.5.0",
            "_model_name": "HTMLModel",
            "_view_count": null,
            "_view_module": "@jupyter-widgets/controls",
            "_view_module_version": "1.5.0",
            "_view_name": "HTMLView",
            "description": "",
            "description_tooltip": null,
            "layout": "IPY_MODEL_f59768964e5b40debcac543a6cb0f3b4",
            "placeholder": "​",
            "style": "IPY_MODEL_4e0cdf16680244f396fa75f03ef35fa1",
            "value": "tokenizer_config.json: 100%"
          }
        },
        "ddb63fbc11b54eeab1a5dcf0236a7ca9": {
          "model_module": "@jupyter-widgets/controls",
          "model_name": "FloatProgressModel",
          "model_module_version": "1.5.0",
          "state": {
            "_dom_classes": [],
            "_model_module": "@jupyter-widgets/controls",
            "_model_module_version": "1.5.0",
            "_model_name": "FloatProgressModel",
            "_view_count": null,
            "_view_module": "@jupyter-widgets/controls",
            "_view_module_version": "1.5.0",
            "_view_name": "ProgressView",
            "bar_style": "success",
            "description": "",
            "description_tooltip": null,
            "layout": "IPY_MODEL_fc994db0acfb4516b881ed9f7b10e410",
            "max": 26,
            "min": 0,
            "orientation": "horizontal",
            "style": "IPY_MODEL_1c3f95cbb1fd476e97f7c24d1fa98c20",
            "value": 26
          }
        },
        "39900fec81704382a2320cebcde0b266": {
          "model_module": "@jupyter-widgets/controls",
          "model_name": "HTMLModel",
          "model_module_version": "1.5.0",
          "state": {
            "_dom_classes": [],
            "_model_module": "@jupyter-widgets/controls",
            "_model_module_version": "1.5.0",
            "_model_name": "HTMLModel",
            "_view_count": null,
            "_view_module": "@jupyter-widgets/controls",
            "_view_module_version": "1.5.0",
            "_view_name": "HTMLView",
            "description": "",
            "description_tooltip": null,
            "layout": "IPY_MODEL_ca6ed0d9f5364d89af30b193a2f5de9d",
            "placeholder": "​",
            "style": "IPY_MODEL_1798475bf77b48ee8282660aae293f22",
            "value": " 26.0/26.0 [00:00&lt;00:00, 2.77kB/s]"
          }
        },
        "91b60de64516416ca133121392673e9f": {
          "model_module": "@jupyter-widgets/base",
          "model_name": "LayoutModel",
          "model_module_version": "1.2.0",
          "state": {
            "_model_module": "@jupyter-widgets/base",
            "_model_module_version": "1.2.0",
            "_model_name": "LayoutModel",
            "_view_count": null,
            "_view_module": "@jupyter-widgets/base",
            "_view_module_version": "1.2.0",
            "_view_name": "LayoutView",
            "align_content": null,
            "align_items": null,
            "align_self": null,
            "border": null,
            "bottom": null,
            "display": null,
            "flex": null,
            "flex_flow": null,
            "grid_area": null,
            "grid_auto_columns": null,
            "grid_auto_flow": null,
            "grid_auto_rows": null,
            "grid_column": null,
            "grid_gap": null,
            "grid_row": null,
            "grid_template_areas": null,
            "grid_template_columns": null,
            "grid_template_rows": null,
            "height": null,
            "justify_content": null,
            "justify_items": null,
            "left": null,
            "margin": null,
            "max_height": null,
            "max_width": null,
            "min_height": null,
            "min_width": null,
            "object_fit": null,
            "object_position": null,
            "order": null,
            "overflow": null,
            "overflow_x": null,
            "overflow_y": null,
            "padding": null,
            "right": null,
            "top": null,
            "visibility": null,
            "width": null
          }
        },
        "f59768964e5b40debcac543a6cb0f3b4": {
          "model_module": "@jupyter-widgets/base",
          "model_name": "LayoutModel",
          "model_module_version": "1.2.0",
          "state": {
            "_model_module": "@jupyter-widgets/base",
            "_model_module_version": "1.2.0",
            "_model_name": "LayoutModel",
            "_view_count": null,
            "_view_module": "@jupyter-widgets/base",
            "_view_module_version": "1.2.0",
            "_view_name": "LayoutView",
            "align_content": null,
            "align_items": null,
            "align_self": null,
            "border": null,
            "bottom": null,
            "display": null,
            "flex": null,
            "flex_flow": null,
            "grid_area": null,
            "grid_auto_columns": null,
            "grid_auto_flow": null,
            "grid_auto_rows": null,
            "grid_column": null,
            "grid_gap": null,
            "grid_row": null,
            "grid_template_areas": null,
            "grid_template_columns": null,
            "grid_template_rows": null,
            "height": null,
            "justify_content": null,
            "justify_items": null,
            "left": null,
            "margin": null,
            "max_height": null,
            "max_width": null,
            "min_height": null,
            "min_width": null,
            "object_fit": null,
            "object_position": null,
            "order": null,
            "overflow": null,
            "overflow_x": null,
            "overflow_y": null,
            "padding": null,
            "right": null,
            "top": null,
            "visibility": null,
            "width": null
          }
        },
        "4e0cdf16680244f396fa75f03ef35fa1": {
          "model_module": "@jupyter-widgets/controls",
          "model_name": "DescriptionStyleModel",
          "model_module_version": "1.5.0",
          "state": {
            "_model_module": "@jupyter-widgets/controls",
            "_model_module_version": "1.5.0",
            "_model_name": "DescriptionStyleModel",
            "_view_count": null,
            "_view_module": "@jupyter-widgets/base",
            "_view_module_version": "1.2.0",
            "_view_name": "StyleView",
            "description_width": ""
          }
        },
        "fc994db0acfb4516b881ed9f7b10e410": {
          "model_module": "@jupyter-widgets/base",
          "model_name": "LayoutModel",
          "model_module_version": "1.2.0",
          "state": {
            "_model_module": "@jupyter-widgets/base",
            "_model_module_version": "1.2.0",
            "_model_name": "LayoutModel",
            "_view_count": null,
            "_view_module": "@jupyter-widgets/base",
            "_view_module_version": "1.2.0",
            "_view_name": "LayoutView",
            "align_content": null,
            "align_items": null,
            "align_self": null,
            "border": null,
            "bottom": null,
            "display": null,
            "flex": null,
            "flex_flow": null,
            "grid_area": null,
            "grid_auto_columns": null,
            "grid_auto_flow": null,
            "grid_auto_rows": null,
            "grid_column": null,
            "grid_gap": null,
            "grid_row": null,
            "grid_template_areas": null,
            "grid_template_columns": null,
            "grid_template_rows": null,
            "height": null,
            "justify_content": null,
            "justify_items": null,
            "left": null,
            "margin": null,
            "max_height": null,
            "max_width": null,
            "min_height": null,
            "min_width": null,
            "object_fit": null,
            "object_position": null,
            "order": null,
            "overflow": null,
            "overflow_x": null,
            "overflow_y": null,
            "padding": null,
            "right": null,
            "top": null,
            "visibility": null,
            "width": null
          }
        },
        "1c3f95cbb1fd476e97f7c24d1fa98c20": {
          "model_module": "@jupyter-widgets/controls",
          "model_name": "ProgressStyleModel",
          "model_module_version": "1.5.0",
          "state": {
            "_model_module": "@jupyter-widgets/controls",
            "_model_module_version": "1.5.0",
            "_model_name": "ProgressStyleModel",
            "_view_count": null,
            "_view_module": "@jupyter-widgets/base",
            "_view_module_version": "1.2.0",
            "_view_name": "StyleView",
            "bar_color": null,
            "description_width": ""
          }
        },
        "ca6ed0d9f5364d89af30b193a2f5de9d": {
          "model_module": "@jupyter-widgets/base",
          "model_name": "LayoutModel",
          "model_module_version": "1.2.0",
          "state": {
            "_model_module": "@jupyter-widgets/base",
            "_model_module_version": "1.2.0",
            "_model_name": "LayoutModel",
            "_view_count": null,
            "_view_module": "@jupyter-widgets/base",
            "_view_module_version": "1.2.0",
            "_view_name": "LayoutView",
            "align_content": null,
            "align_items": null,
            "align_self": null,
            "border": null,
            "bottom": null,
            "display": null,
            "flex": null,
            "flex_flow": null,
            "grid_area": null,
            "grid_auto_columns": null,
            "grid_auto_flow": null,
            "grid_auto_rows": null,
            "grid_column": null,
            "grid_gap": null,
            "grid_row": null,
            "grid_template_areas": null,
            "grid_template_columns": null,
            "grid_template_rows": null,
            "height": null,
            "justify_content": null,
            "justify_items": null,
            "left": null,
            "margin": null,
            "max_height": null,
            "max_width": null,
            "min_height": null,
            "min_width": null,
            "object_fit": null,
            "object_position": null,
            "order": null,
            "overflow": null,
            "overflow_x": null,
            "overflow_y": null,
            "padding": null,
            "right": null,
            "top": null,
            "visibility": null,
            "width": null
          }
        },
        "1798475bf77b48ee8282660aae293f22": {
          "model_module": "@jupyter-widgets/controls",
          "model_name": "DescriptionStyleModel",
          "model_module_version": "1.5.0",
          "state": {
            "_model_module": "@jupyter-widgets/controls",
            "_model_module_version": "1.5.0",
            "_model_name": "DescriptionStyleModel",
            "_view_count": null,
            "_view_module": "@jupyter-widgets/base",
            "_view_module_version": "1.2.0",
            "_view_name": "StyleView",
            "description_width": ""
          }
        },
        "5dc5acff02f44976865c3ba10e0412a5": {
          "model_module": "@jupyter-widgets/controls",
          "model_name": "HBoxModel",
          "model_module_version": "1.5.0",
          "state": {
            "_dom_classes": [],
            "_model_module": "@jupyter-widgets/controls",
            "_model_module_version": "1.5.0",
            "_model_name": "HBoxModel",
            "_view_count": null,
            "_view_module": "@jupyter-widgets/controls",
            "_view_module_version": "1.5.0",
            "_view_name": "HBoxView",
            "box_style": "",
            "children": [
              "IPY_MODEL_837a46bc22694606aec20aa7131b4043",
              "IPY_MODEL_9bbcde3e79364799bb210af12b58951c",
              "IPY_MODEL_5d4698f2df064095aea7db033662bbcf"
            ],
            "layout": "IPY_MODEL_b2efd21116b3456cae2e5ec1b417269b"
          }
        },
        "837a46bc22694606aec20aa7131b4043": {
          "model_module": "@jupyter-widgets/controls",
          "model_name": "HTMLModel",
          "model_module_version": "1.5.0",
          "state": {
            "_dom_classes": [],
            "_model_module": "@jupyter-widgets/controls",
            "_model_module_version": "1.5.0",
            "_model_name": "HTMLModel",
            "_view_count": null,
            "_view_module": "@jupyter-widgets/controls",
            "_view_module_version": "1.5.0",
            "_view_name": "HTMLView",
            "description": "",
            "description_tooltip": null,
            "layout": "IPY_MODEL_35724a0965da4ad7a2d3002ff9ac293f",
            "placeholder": "​",
            "style": "IPY_MODEL_bc968db6ea334bd6bc09a36c6e6e29de",
            "value": "vocab.json: 100%"
          }
        },
        "9bbcde3e79364799bb210af12b58951c": {
          "model_module": "@jupyter-widgets/controls",
          "model_name": "FloatProgressModel",
          "model_module_version": "1.5.0",
          "state": {
            "_dom_classes": [],
            "_model_module": "@jupyter-widgets/controls",
            "_model_module_version": "1.5.0",
            "_model_name": "FloatProgressModel",
            "_view_count": null,
            "_view_module": "@jupyter-widgets/controls",
            "_view_module_version": "1.5.0",
            "_view_name": "ProgressView",
            "bar_style": "success",
            "description": "",
            "description_tooltip": null,
            "layout": "IPY_MODEL_c468f721ad324adfa7661983a19c812d",
            "max": 1042301,
            "min": 0,
            "orientation": "horizontal",
            "style": "IPY_MODEL_803fe309039d4cec92df40e8451078b1",
            "value": 1042301
          }
        },
        "5d4698f2df064095aea7db033662bbcf": {
          "model_module": "@jupyter-widgets/controls",
          "model_name": "HTMLModel",
          "model_module_version": "1.5.0",
          "state": {
            "_dom_classes": [],
            "_model_module": "@jupyter-widgets/controls",
            "_model_module_version": "1.5.0",
            "_model_name": "HTMLModel",
            "_view_count": null,
            "_view_module": "@jupyter-widgets/controls",
            "_view_module_version": "1.5.0",
            "_view_name": "HTMLView",
            "description": "",
            "description_tooltip": null,
            "layout": "IPY_MODEL_bc066d60f6c844438489b72c650b36d8",
            "placeholder": "​",
            "style": "IPY_MODEL_03dad9885c35411b9e1bd82cd7f10d8f",
            "value": " 1.04M/1.04M [00:00&lt;00:00, 13.8MB/s]"
          }
        },
        "b2efd21116b3456cae2e5ec1b417269b": {
          "model_module": "@jupyter-widgets/base",
          "model_name": "LayoutModel",
          "model_module_version": "1.2.0",
          "state": {
            "_model_module": "@jupyter-widgets/base",
            "_model_module_version": "1.2.0",
            "_model_name": "LayoutModel",
            "_view_count": null,
            "_view_module": "@jupyter-widgets/base",
            "_view_module_version": "1.2.0",
            "_view_name": "LayoutView",
            "align_content": null,
            "align_items": null,
            "align_self": null,
            "border": null,
            "bottom": null,
            "display": null,
            "flex": null,
            "flex_flow": null,
            "grid_area": null,
            "grid_auto_columns": null,
            "grid_auto_flow": null,
            "grid_auto_rows": null,
            "grid_column": null,
            "grid_gap": null,
            "grid_row": null,
            "grid_template_areas": null,
            "grid_template_columns": null,
            "grid_template_rows": null,
            "height": null,
            "justify_content": null,
            "justify_items": null,
            "left": null,
            "margin": null,
            "max_height": null,
            "max_width": null,
            "min_height": null,
            "min_width": null,
            "object_fit": null,
            "object_position": null,
            "order": null,
            "overflow": null,
            "overflow_x": null,
            "overflow_y": null,
            "padding": null,
            "right": null,
            "top": null,
            "visibility": null,
            "width": null
          }
        },
        "35724a0965da4ad7a2d3002ff9ac293f": {
          "model_module": "@jupyter-widgets/base",
          "model_name": "LayoutModel",
          "model_module_version": "1.2.0",
          "state": {
            "_model_module": "@jupyter-widgets/base",
            "_model_module_version": "1.2.0",
            "_model_name": "LayoutModel",
            "_view_count": null,
            "_view_module": "@jupyter-widgets/base",
            "_view_module_version": "1.2.0",
            "_view_name": "LayoutView",
            "align_content": null,
            "align_items": null,
            "align_self": null,
            "border": null,
            "bottom": null,
            "display": null,
            "flex": null,
            "flex_flow": null,
            "grid_area": null,
            "grid_auto_columns": null,
            "grid_auto_flow": null,
            "grid_auto_rows": null,
            "grid_column": null,
            "grid_gap": null,
            "grid_row": null,
            "grid_template_areas": null,
            "grid_template_columns": null,
            "grid_template_rows": null,
            "height": null,
            "justify_content": null,
            "justify_items": null,
            "left": null,
            "margin": null,
            "max_height": null,
            "max_width": null,
            "min_height": null,
            "min_width": null,
            "object_fit": null,
            "object_position": null,
            "order": null,
            "overflow": null,
            "overflow_x": null,
            "overflow_y": null,
            "padding": null,
            "right": null,
            "top": null,
            "visibility": null,
            "width": null
          }
        },
        "bc968db6ea334bd6bc09a36c6e6e29de": {
          "model_module": "@jupyter-widgets/controls",
          "model_name": "DescriptionStyleModel",
          "model_module_version": "1.5.0",
          "state": {
            "_model_module": "@jupyter-widgets/controls",
            "_model_module_version": "1.5.0",
            "_model_name": "DescriptionStyleModel",
            "_view_count": null,
            "_view_module": "@jupyter-widgets/base",
            "_view_module_version": "1.2.0",
            "_view_name": "StyleView",
            "description_width": ""
          }
        },
        "c468f721ad324adfa7661983a19c812d": {
          "model_module": "@jupyter-widgets/base",
          "model_name": "LayoutModel",
          "model_module_version": "1.2.0",
          "state": {
            "_model_module": "@jupyter-widgets/base",
            "_model_module_version": "1.2.0",
            "_model_name": "LayoutModel",
            "_view_count": null,
            "_view_module": "@jupyter-widgets/base",
            "_view_module_version": "1.2.0",
            "_view_name": "LayoutView",
            "align_content": null,
            "align_items": null,
            "align_self": null,
            "border": null,
            "bottom": null,
            "display": null,
            "flex": null,
            "flex_flow": null,
            "grid_area": null,
            "grid_auto_columns": null,
            "grid_auto_flow": null,
            "grid_auto_rows": null,
            "grid_column": null,
            "grid_gap": null,
            "grid_row": null,
            "grid_template_areas": null,
            "grid_template_columns": null,
            "grid_template_rows": null,
            "height": null,
            "justify_content": null,
            "justify_items": null,
            "left": null,
            "margin": null,
            "max_height": null,
            "max_width": null,
            "min_height": null,
            "min_width": null,
            "object_fit": null,
            "object_position": null,
            "order": null,
            "overflow": null,
            "overflow_x": null,
            "overflow_y": null,
            "padding": null,
            "right": null,
            "top": null,
            "visibility": null,
            "width": null
          }
        },
        "803fe309039d4cec92df40e8451078b1": {
          "model_module": "@jupyter-widgets/controls",
          "model_name": "ProgressStyleModel",
          "model_module_version": "1.5.0",
          "state": {
            "_model_module": "@jupyter-widgets/controls",
            "_model_module_version": "1.5.0",
            "_model_name": "ProgressStyleModel",
            "_view_count": null,
            "_view_module": "@jupyter-widgets/base",
            "_view_module_version": "1.2.0",
            "_view_name": "StyleView",
            "bar_color": null,
            "description_width": ""
          }
        },
        "bc066d60f6c844438489b72c650b36d8": {
          "model_module": "@jupyter-widgets/base",
          "model_name": "LayoutModel",
          "model_module_version": "1.2.0",
          "state": {
            "_model_module": "@jupyter-widgets/base",
            "_model_module_version": "1.2.0",
            "_model_name": "LayoutModel",
            "_view_count": null,
            "_view_module": "@jupyter-widgets/base",
            "_view_module_version": "1.2.0",
            "_view_name": "LayoutView",
            "align_content": null,
            "align_items": null,
            "align_self": null,
            "border": null,
            "bottom": null,
            "display": null,
            "flex": null,
            "flex_flow": null,
            "grid_area": null,
            "grid_auto_columns": null,
            "grid_auto_flow": null,
            "grid_auto_rows": null,
            "grid_column": null,
            "grid_gap": null,
            "grid_row": null,
            "grid_template_areas": null,
            "grid_template_columns": null,
            "grid_template_rows": null,
            "height": null,
            "justify_content": null,
            "justify_items": null,
            "left": null,
            "margin": null,
            "max_height": null,
            "max_width": null,
            "min_height": null,
            "min_width": null,
            "object_fit": null,
            "object_position": null,
            "order": null,
            "overflow": null,
            "overflow_x": null,
            "overflow_y": null,
            "padding": null,
            "right": null,
            "top": null,
            "visibility": null,
            "width": null
          }
        },
        "03dad9885c35411b9e1bd82cd7f10d8f": {
          "model_module": "@jupyter-widgets/controls",
          "model_name": "DescriptionStyleModel",
          "model_module_version": "1.5.0",
          "state": {
            "_model_module": "@jupyter-widgets/controls",
            "_model_module_version": "1.5.0",
            "_model_name": "DescriptionStyleModel",
            "_view_count": null,
            "_view_module": "@jupyter-widgets/base",
            "_view_module_version": "1.2.0",
            "_view_name": "StyleView",
            "description_width": ""
          }
        },
        "8822ed39849a4d7d8e46f3c0ea8496aa": {
          "model_module": "@jupyter-widgets/controls",
          "model_name": "HBoxModel",
          "model_module_version": "1.5.0",
          "state": {
            "_dom_classes": [],
            "_model_module": "@jupyter-widgets/controls",
            "_model_module_version": "1.5.0",
            "_model_name": "HBoxModel",
            "_view_count": null,
            "_view_module": "@jupyter-widgets/controls",
            "_view_module_version": "1.5.0",
            "_view_name": "HBoxView",
            "box_style": "",
            "children": [
              "IPY_MODEL_1640f78c238b426db2b5dfff5abc435e",
              "IPY_MODEL_824324b2dbe245dfbd057e90e58cb7fc",
              "IPY_MODEL_45c50fad924c440ca96d3dc1b9645f95"
            ],
            "layout": "IPY_MODEL_9e9dcea5b0dc43f78b0923efb40a802e"
          }
        },
        "1640f78c238b426db2b5dfff5abc435e": {
          "model_module": "@jupyter-widgets/controls",
          "model_name": "HTMLModel",
          "model_module_version": "1.5.0",
          "state": {
            "_dom_classes": [],
            "_model_module": "@jupyter-widgets/controls",
            "_model_module_version": "1.5.0",
            "_model_name": "HTMLModel",
            "_view_count": null,
            "_view_module": "@jupyter-widgets/controls",
            "_view_module_version": "1.5.0",
            "_view_name": "HTMLView",
            "description": "",
            "description_tooltip": null,
            "layout": "IPY_MODEL_18789bb5e8614dbe845cb5db764a3b51",
            "placeholder": "​",
            "style": "IPY_MODEL_c613bfd6e89d4ca0b13e7ca1e1383664",
            "value": "merges.txt: 100%"
          }
        },
        "824324b2dbe245dfbd057e90e58cb7fc": {
          "model_module": "@jupyter-widgets/controls",
          "model_name": "FloatProgressModel",
          "model_module_version": "1.5.0",
          "state": {
            "_dom_classes": [],
            "_model_module": "@jupyter-widgets/controls",
            "_model_module_version": "1.5.0",
            "_model_name": "FloatProgressModel",
            "_view_count": null,
            "_view_module": "@jupyter-widgets/controls",
            "_view_module_version": "1.5.0",
            "_view_name": "ProgressView",
            "bar_style": "success",
            "description": "",
            "description_tooltip": null,
            "layout": "IPY_MODEL_de40f3907f474f04b25428458adcde64",
            "max": 456318,
            "min": 0,
            "orientation": "horizontal",
            "style": "IPY_MODEL_884ea7c9b4af4714a82cadc1ea588adb",
            "value": 456318
          }
        },
        "45c50fad924c440ca96d3dc1b9645f95": {
          "model_module": "@jupyter-widgets/controls",
          "model_name": "HTMLModel",
          "model_module_version": "1.5.0",
          "state": {
            "_dom_classes": [],
            "_model_module": "@jupyter-widgets/controls",
            "_model_module_version": "1.5.0",
            "_model_name": "HTMLModel",
            "_view_count": null,
            "_view_module": "@jupyter-widgets/controls",
            "_view_module_version": "1.5.0",
            "_view_name": "HTMLView",
            "description": "",
            "description_tooltip": null,
            "layout": "IPY_MODEL_543e86dfe33e480d9f31904282501a99",
            "placeholder": "​",
            "style": "IPY_MODEL_75c348127a5b417e8f4f656d2fd77622",
            "value": " 456k/456k [00:00&lt;00:00, 20.0MB/s]"
          }
        },
        "9e9dcea5b0dc43f78b0923efb40a802e": {
          "model_module": "@jupyter-widgets/base",
          "model_name": "LayoutModel",
          "model_module_version": "1.2.0",
          "state": {
            "_model_module": "@jupyter-widgets/base",
            "_model_module_version": "1.2.0",
            "_model_name": "LayoutModel",
            "_view_count": null,
            "_view_module": "@jupyter-widgets/base",
            "_view_module_version": "1.2.0",
            "_view_name": "LayoutView",
            "align_content": null,
            "align_items": null,
            "align_self": null,
            "border": null,
            "bottom": null,
            "display": null,
            "flex": null,
            "flex_flow": null,
            "grid_area": null,
            "grid_auto_columns": null,
            "grid_auto_flow": null,
            "grid_auto_rows": null,
            "grid_column": null,
            "grid_gap": null,
            "grid_row": null,
            "grid_template_areas": null,
            "grid_template_columns": null,
            "grid_template_rows": null,
            "height": null,
            "justify_content": null,
            "justify_items": null,
            "left": null,
            "margin": null,
            "max_height": null,
            "max_width": null,
            "min_height": null,
            "min_width": null,
            "object_fit": null,
            "object_position": null,
            "order": null,
            "overflow": null,
            "overflow_x": null,
            "overflow_y": null,
            "padding": null,
            "right": null,
            "top": null,
            "visibility": null,
            "width": null
          }
        },
        "18789bb5e8614dbe845cb5db764a3b51": {
          "model_module": "@jupyter-widgets/base",
          "model_name": "LayoutModel",
          "model_module_version": "1.2.0",
          "state": {
            "_model_module": "@jupyter-widgets/base",
            "_model_module_version": "1.2.0",
            "_model_name": "LayoutModel",
            "_view_count": null,
            "_view_module": "@jupyter-widgets/base",
            "_view_module_version": "1.2.0",
            "_view_name": "LayoutView",
            "align_content": null,
            "align_items": null,
            "align_self": null,
            "border": null,
            "bottom": null,
            "display": null,
            "flex": null,
            "flex_flow": null,
            "grid_area": null,
            "grid_auto_columns": null,
            "grid_auto_flow": null,
            "grid_auto_rows": null,
            "grid_column": null,
            "grid_gap": null,
            "grid_row": null,
            "grid_template_areas": null,
            "grid_template_columns": null,
            "grid_template_rows": null,
            "height": null,
            "justify_content": null,
            "justify_items": null,
            "left": null,
            "margin": null,
            "max_height": null,
            "max_width": null,
            "min_height": null,
            "min_width": null,
            "object_fit": null,
            "object_position": null,
            "order": null,
            "overflow": null,
            "overflow_x": null,
            "overflow_y": null,
            "padding": null,
            "right": null,
            "top": null,
            "visibility": null,
            "width": null
          }
        },
        "c613bfd6e89d4ca0b13e7ca1e1383664": {
          "model_module": "@jupyter-widgets/controls",
          "model_name": "DescriptionStyleModel",
          "model_module_version": "1.5.0",
          "state": {
            "_model_module": "@jupyter-widgets/controls",
            "_model_module_version": "1.5.0",
            "_model_name": "DescriptionStyleModel",
            "_view_count": null,
            "_view_module": "@jupyter-widgets/base",
            "_view_module_version": "1.2.0",
            "_view_name": "StyleView",
            "description_width": ""
          }
        },
        "de40f3907f474f04b25428458adcde64": {
          "model_module": "@jupyter-widgets/base",
          "model_name": "LayoutModel",
          "model_module_version": "1.2.0",
          "state": {
            "_model_module": "@jupyter-widgets/base",
            "_model_module_version": "1.2.0",
            "_model_name": "LayoutModel",
            "_view_count": null,
            "_view_module": "@jupyter-widgets/base",
            "_view_module_version": "1.2.0",
            "_view_name": "LayoutView",
            "align_content": null,
            "align_items": null,
            "align_self": null,
            "border": null,
            "bottom": null,
            "display": null,
            "flex": null,
            "flex_flow": null,
            "grid_area": null,
            "grid_auto_columns": null,
            "grid_auto_flow": null,
            "grid_auto_rows": null,
            "grid_column": null,
            "grid_gap": null,
            "grid_row": null,
            "grid_template_areas": null,
            "grid_template_columns": null,
            "grid_template_rows": null,
            "height": null,
            "justify_content": null,
            "justify_items": null,
            "left": null,
            "margin": null,
            "max_height": null,
            "max_width": null,
            "min_height": null,
            "min_width": null,
            "object_fit": null,
            "object_position": null,
            "order": null,
            "overflow": null,
            "overflow_x": null,
            "overflow_y": null,
            "padding": null,
            "right": null,
            "top": null,
            "visibility": null,
            "width": null
          }
        },
        "884ea7c9b4af4714a82cadc1ea588adb": {
          "model_module": "@jupyter-widgets/controls",
          "model_name": "ProgressStyleModel",
          "model_module_version": "1.5.0",
          "state": {
            "_model_module": "@jupyter-widgets/controls",
            "_model_module_version": "1.5.0",
            "_model_name": "ProgressStyleModel",
            "_view_count": null,
            "_view_module": "@jupyter-widgets/base",
            "_view_module_version": "1.2.0",
            "_view_name": "StyleView",
            "bar_color": null,
            "description_width": ""
          }
        },
        "543e86dfe33e480d9f31904282501a99": {
          "model_module": "@jupyter-widgets/base",
          "model_name": "LayoutModel",
          "model_module_version": "1.2.0",
          "state": {
            "_model_module": "@jupyter-widgets/base",
            "_model_module_version": "1.2.0",
            "_model_name": "LayoutModel",
            "_view_count": null,
            "_view_module": "@jupyter-widgets/base",
            "_view_module_version": "1.2.0",
            "_view_name": "LayoutView",
            "align_content": null,
            "align_items": null,
            "align_self": null,
            "border": null,
            "bottom": null,
            "display": null,
            "flex": null,
            "flex_flow": null,
            "grid_area": null,
            "grid_auto_columns": null,
            "grid_auto_flow": null,
            "grid_auto_rows": null,
            "grid_column": null,
            "grid_gap": null,
            "grid_row": null,
            "grid_template_areas": null,
            "grid_template_columns": null,
            "grid_template_rows": null,
            "height": null,
            "justify_content": null,
            "justify_items": null,
            "left": null,
            "margin": null,
            "max_height": null,
            "max_width": null,
            "min_height": null,
            "min_width": null,
            "object_fit": null,
            "object_position": null,
            "order": null,
            "overflow": null,
            "overflow_x": null,
            "overflow_y": null,
            "padding": null,
            "right": null,
            "top": null,
            "visibility": null,
            "width": null
          }
        },
        "75c348127a5b417e8f4f656d2fd77622": {
          "model_module": "@jupyter-widgets/controls",
          "model_name": "DescriptionStyleModel",
          "model_module_version": "1.5.0",
          "state": {
            "_model_module": "@jupyter-widgets/controls",
            "_model_module_version": "1.5.0",
            "_model_name": "DescriptionStyleModel",
            "_view_count": null,
            "_view_module": "@jupyter-widgets/base",
            "_view_module_version": "1.2.0",
            "_view_name": "StyleView",
            "description_width": ""
          }
        },
        "1390aaf410ed4ba2861d259b9a60fc47": {
          "model_module": "@jupyter-widgets/controls",
          "model_name": "HBoxModel",
          "model_module_version": "1.5.0",
          "state": {
            "_dom_classes": [],
            "_model_module": "@jupyter-widgets/controls",
            "_model_module_version": "1.5.0",
            "_model_name": "HBoxModel",
            "_view_count": null,
            "_view_module": "@jupyter-widgets/controls",
            "_view_module_version": "1.5.0",
            "_view_name": "HBoxView",
            "box_style": "",
            "children": [
              "IPY_MODEL_35b55b95702c45c38cef03697a57f25e",
              "IPY_MODEL_e389ff835576424f966e1c273f3cf8f6",
              "IPY_MODEL_73cb51393b6245808cd8a76396e9ac67"
            ],
            "layout": "IPY_MODEL_39a8e3ea6366426b9d6566bd07e4cb82"
          }
        },
        "35b55b95702c45c38cef03697a57f25e": {
          "model_module": "@jupyter-widgets/controls",
          "model_name": "HTMLModel",
          "model_module_version": "1.5.0",
          "state": {
            "_dom_classes": [],
            "_model_module": "@jupyter-widgets/controls",
            "_model_module_version": "1.5.0",
            "_model_name": "HTMLModel",
            "_view_count": null,
            "_view_module": "@jupyter-widgets/controls",
            "_view_module_version": "1.5.0",
            "_view_name": "HTMLView",
            "description": "",
            "description_tooltip": null,
            "layout": "IPY_MODEL_78d5774e235b48a180aa41be8f38b15d",
            "placeholder": "​",
            "style": "IPY_MODEL_e075aa7f90584a3a9d393f48949a6903",
            "value": "tokenizer.json: 100%"
          }
        },
        "e389ff835576424f966e1c273f3cf8f6": {
          "model_module": "@jupyter-widgets/controls",
          "model_name": "FloatProgressModel",
          "model_module_version": "1.5.0",
          "state": {
            "_dom_classes": [],
            "_model_module": "@jupyter-widgets/controls",
            "_model_module_version": "1.5.0",
            "_model_name": "FloatProgressModel",
            "_view_count": null,
            "_view_module": "@jupyter-widgets/controls",
            "_view_module_version": "1.5.0",
            "_view_name": "ProgressView",
            "bar_style": "success",
            "description": "",
            "description_tooltip": null,
            "layout": "IPY_MODEL_ee64282c7b974ddfb543bfb55433bd21",
            "max": 1355256,
            "min": 0,
            "orientation": "horizontal",
            "style": "IPY_MODEL_98387876ecea448cae52cb3f0089ba08",
            "value": 1355256
          }
        },
        "73cb51393b6245808cd8a76396e9ac67": {
          "model_module": "@jupyter-widgets/controls",
          "model_name": "HTMLModel",
          "model_module_version": "1.5.0",
          "state": {
            "_dom_classes": [],
            "_model_module": "@jupyter-widgets/controls",
            "_model_module_version": "1.5.0",
            "_model_name": "HTMLModel",
            "_view_count": null,
            "_view_module": "@jupyter-widgets/controls",
            "_view_module_version": "1.5.0",
            "_view_name": "HTMLView",
            "description": "",
            "description_tooltip": null,
            "layout": "IPY_MODEL_f8a01ccc708b491189caac359baa5b0e",
            "placeholder": "​",
            "style": "IPY_MODEL_ea7a12b317f64099932a3a89bdd6b028",
            "value": " 1.36M/1.36M [00:00&lt;00:00, 33.2MB/s]"
          }
        },
        "39a8e3ea6366426b9d6566bd07e4cb82": {
          "model_module": "@jupyter-widgets/base",
          "model_name": "LayoutModel",
          "model_module_version": "1.2.0",
          "state": {
            "_model_module": "@jupyter-widgets/base",
            "_model_module_version": "1.2.0",
            "_model_name": "LayoutModel",
            "_view_count": null,
            "_view_module": "@jupyter-widgets/base",
            "_view_module_version": "1.2.0",
            "_view_name": "LayoutView",
            "align_content": null,
            "align_items": null,
            "align_self": null,
            "border": null,
            "bottom": null,
            "display": null,
            "flex": null,
            "flex_flow": null,
            "grid_area": null,
            "grid_auto_columns": null,
            "grid_auto_flow": null,
            "grid_auto_rows": null,
            "grid_column": null,
            "grid_gap": null,
            "grid_row": null,
            "grid_template_areas": null,
            "grid_template_columns": null,
            "grid_template_rows": null,
            "height": null,
            "justify_content": null,
            "justify_items": null,
            "left": null,
            "margin": null,
            "max_height": null,
            "max_width": null,
            "min_height": null,
            "min_width": null,
            "object_fit": null,
            "object_position": null,
            "order": null,
            "overflow": null,
            "overflow_x": null,
            "overflow_y": null,
            "padding": null,
            "right": null,
            "top": null,
            "visibility": null,
            "width": null
          }
        },
        "78d5774e235b48a180aa41be8f38b15d": {
          "model_module": "@jupyter-widgets/base",
          "model_name": "LayoutModel",
          "model_module_version": "1.2.0",
          "state": {
            "_model_module": "@jupyter-widgets/base",
            "_model_module_version": "1.2.0",
            "_model_name": "LayoutModel",
            "_view_count": null,
            "_view_module": "@jupyter-widgets/base",
            "_view_module_version": "1.2.0",
            "_view_name": "LayoutView",
            "align_content": null,
            "align_items": null,
            "align_self": null,
            "border": null,
            "bottom": null,
            "display": null,
            "flex": null,
            "flex_flow": null,
            "grid_area": null,
            "grid_auto_columns": null,
            "grid_auto_flow": null,
            "grid_auto_rows": null,
            "grid_column": null,
            "grid_gap": null,
            "grid_row": null,
            "grid_template_areas": null,
            "grid_template_columns": null,
            "grid_template_rows": null,
            "height": null,
            "justify_content": null,
            "justify_items": null,
            "left": null,
            "margin": null,
            "max_height": null,
            "max_width": null,
            "min_height": null,
            "min_width": null,
            "object_fit": null,
            "object_position": null,
            "order": null,
            "overflow": null,
            "overflow_x": null,
            "overflow_y": null,
            "padding": null,
            "right": null,
            "top": null,
            "visibility": null,
            "width": null
          }
        },
        "e075aa7f90584a3a9d393f48949a6903": {
          "model_module": "@jupyter-widgets/controls",
          "model_name": "DescriptionStyleModel",
          "model_module_version": "1.5.0",
          "state": {
            "_model_module": "@jupyter-widgets/controls",
            "_model_module_version": "1.5.0",
            "_model_name": "DescriptionStyleModel",
            "_view_count": null,
            "_view_module": "@jupyter-widgets/base",
            "_view_module_version": "1.2.0",
            "_view_name": "StyleView",
            "description_width": ""
          }
        },
        "ee64282c7b974ddfb543bfb55433bd21": {
          "model_module": "@jupyter-widgets/base",
          "model_name": "LayoutModel",
          "model_module_version": "1.2.0",
          "state": {
            "_model_module": "@jupyter-widgets/base",
            "_model_module_version": "1.2.0",
            "_model_name": "LayoutModel",
            "_view_count": null,
            "_view_module": "@jupyter-widgets/base",
            "_view_module_version": "1.2.0",
            "_view_name": "LayoutView",
            "align_content": null,
            "align_items": null,
            "align_self": null,
            "border": null,
            "bottom": null,
            "display": null,
            "flex": null,
            "flex_flow": null,
            "grid_area": null,
            "grid_auto_columns": null,
            "grid_auto_flow": null,
            "grid_auto_rows": null,
            "grid_column": null,
            "grid_gap": null,
            "grid_row": null,
            "grid_template_areas": null,
            "grid_template_columns": null,
            "grid_template_rows": null,
            "height": null,
            "justify_content": null,
            "justify_items": null,
            "left": null,
            "margin": null,
            "max_height": null,
            "max_width": null,
            "min_height": null,
            "min_width": null,
            "object_fit": null,
            "object_position": null,
            "order": null,
            "overflow": null,
            "overflow_x": null,
            "overflow_y": null,
            "padding": null,
            "right": null,
            "top": null,
            "visibility": null,
            "width": null
          }
        },
        "98387876ecea448cae52cb3f0089ba08": {
          "model_module": "@jupyter-widgets/controls",
          "model_name": "ProgressStyleModel",
          "model_module_version": "1.5.0",
          "state": {
            "_model_module": "@jupyter-widgets/controls",
            "_model_module_version": "1.5.0",
            "_model_name": "ProgressStyleModel",
            "_view_count": null,
            "_view_module": "@jupyter-widgets/base",
            "_view_module_version": "1.2.0",
            "_view_name": "StyleView",
            "bar_color": null,
            "description_width": ""
          }
        },
        "f8a01ccc708b491189caac359baa5b0e": {
          "model_module": "@jupyter-widgets/base",
          "model_name": "LayoutModel",
          "model_module_version": "1.2.0",
          "state": {
            "_model_module": "@jupyter-widgets/base",
            "_model_module_version": "1.2.0",
            "_model_name": "LayoutModel",
            "_view_count": null,
            "_view_module": "@jupyter-widgets/base",
            "_view_module_version": "1.2.0",
            "_view_name": "LayoutView",
            "align_content": null,
            "align_items": null,
            "align_self": null,
            "border": null,
            "bottom": null,
            "display": null,
            "flex": null,
            "flex_flow": null,
            "grid_area": null,
            "grid_auto_columns": null,
            "grid_auto_flow": null,
            "grid_auto_rows": null,
            "grid_column": null,
            "grid_gap": null,
            "grid_row": null,
            "grid_template_areas": null,
            "grid_template_columns": null,
            "grid_template_rows": null,
            "height": null,
            "justify_content": null,
            "justify_items": null,
            "left": null,
            "margin": null,
            "max_height": null,
            "max_width": null,
            "min_height": null,
            "min_width": null,
            "object_fit": null,
            "object_position": null,
            "order": null,
            "overflow": null,
            "overflow_x": null,
            "overflow_y": null,
            "padding": null,
            "right": null,
            "top": null,
            "visibility": null,
            "width": null
          }
        },
        "ea7a12b317f64099932a3a89bdd6b028": {
          "model_module": "@jupyter-widgets/controls",
          "model_name": "DescriptionStyleModel",
          "model_module_version": "1.5.0",
          "state": {
            "_model_module": "@jupyter-widgets/controls",
            "_model_module_version": "1.5.0",
            "_model_name": "DescriptionStyleModel",
            "_view_count": null,
            "_view_module": "@jupyter-widgets/base",
            "_view_module_version": "1.2.0",
            "_view_name": "StyleView",
            "description_width": ""
          }
        }
      }
    }
  },
  "nbformat": 4,
  "nbformat_minor": 0
}